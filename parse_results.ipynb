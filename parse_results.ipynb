{
 "cells": [
  {
   "cell_type": "markdown",
   "metadata": {},
   "source": [
    "# Parse Experimental Results & Generate Latex Tables"
   ]
  },
  {
   "cell_type": "markdown",
   "metadata": {},
   "source": [
    "<a id='toc'/>"
   ]
  },
  {
   "cell_type": "code",
   "execution_count": 2,
   "metadata": {},
   "outputs": [],
   "source": [
    "import os, pickle, types\n",
    "import numpy as np\n",
    "import pandas as pd\n",
    "import cython"
   ]
  },
  {
   "cell_type": "code",
   "execution_count": 3,
   "metadata": {},
   "outputs": [],
   "source": [
    "data_dir = 'data'"
   ]
  },
  {
   "cell_type": "code",
   "execution_count": 4,
   "metadata": {},
   "outputs": [],
   "source": [
    "dat_suffix = ['Edin', 'Glas', 'Melb', 'Osak', 'Toro']\n",
    "dat_names = ['Edinburgh', 'Glasgow', 'Melbourne', 'Osaka', 'Toronto']"
   ]
  },
  {
   "cell_type": "code",
   "execution_count": 5,
   "metadata": {},
   "outputs": [],
   "source": [
    "methods_all = ['\\\\textsc{Random}', '\\\\textsc{PersTour}', '\\\\textsc{PersTour-L}', '\\\\textsc{PoiPopularity}', \\\n",
    "               '\\\\textsc{PoiRank}', '\\\\textsc{Markov}', '\\\\textsc{MarkovPath}', \\\n",
    "               '\\\\textsc{Rank+Markov}', '\\\\textsc{Rank+MarkovPath}']"
   ]
  },
  {
   "cell_type": "markdown",
   "metadata": {},
   "source": [
    "## Latex Table for Recommendation Results"
   ]
  },
  {
   "cell_type": "markdown",
   "metadata": {},
   "source": [
    "Generate results filenames."
   ]
  },
  {
   "cell_type": "code",
   "execution_count": 6,
   "metadata": {},
   "outputs": [],
   "source": [
    "def gen_fname(dat_ix):\n",
    "    assert(0 <= dat_ix < len(dat_suffix))\n",
    "    \n",
    "    suffix = dat_suffix[dat_ix] + '.pkl'\n",
    "    \n",
    "    frank = os.path.join(data_dir, 'rank-' + suffix)\n",
    "    ftran = os.path.join(data_dir, 'tran-' + suffix)\n",
    "    fcomb = os.path.join(data_dir, 'comb-' + suffix)\n",
    "    frand = os.path.join(data_dir, 'rand-' + suffix)\n",
    "    fijcai = os.path.join(data_dir, 'ijcai-' + dat_suffix[dat_ix] + '.pkl')\n",
    "    return frank, ftran, fcomb, frand, fijcai"
   ]
  },
  {
   "cell_type": "markdown",
   "metadata": {},
   "source": [
    "Compute the F1 score for recommended trajectory."
   ]
  },
  {
   "cell_type": "code",
   "execution_count": 7,
   "metadata": {},
   "outputs": [],
   "source": [
    "def calc_F1(traj_act, traj_rec, noloop=False):\n",
    "    '''Compute recall, precision and F1 for recommended trajectories'''\n",
    "    assert(isinstance(noloop, bool))\n",
    "    assert(len(traj_act) > 0)\n",
    "    assert(len(traj_rec) > 0)\n",
    "    \n",
    "    if noloop == True:\n",
    "        intersize = len(set(traj_act) & set(traj_rec))\n",
    "    else:\n",
    "        match_tags = np.zeros(len(traj_act), dtype=np.bool)\n",
    "        for poi in traj_rec:\n",
    "            for j in range(len(traj_act)):\n",
    "                if match_tags[j] == False and poi == traj_act[j]:\n",
    "                    match_tags[j] = True\n",
    "                    break\n",
    "        intersize = np.nonzero(match_tags)[0].shape[0]\n",
    "        \n",
    "    recall = intersize / len(traj_act)\n",
    "    precision = intersize / len(traj_rec)\n",
    "    F1 = 2 * precision * recall / (precision + recall)\n",
    "    return F1"
   ]
  },
  {
   "cell_type": "markdown",
   "metadata": {},
   "source": [
    "Compute the pairs-F1 score for recommended trajectory."
   ]
  },
  {
   "cell_type": "code",
   "execution_count": 8,
   "metadata": {},
   "outputs": [],
   "source": [
    "# %load_ext Cython"
   ]
  },
  {
   "cell_type": "code",
   "execution_count": 9,
   "metadata": {},
   "outputs": [],
   "source": [
    "import numpy as np\n",
    "\n",
    "def calc_pairsF1(y, y_hat):\n",
    "    assert(len(y) > 0)\n",
    "    assert(len(y) == len(set(y))) # no loops in y\n",
    "    n = len(y)\n",
    "    nr = len(y_hat)\n",
    "    n0 = n*(n-1) // 2\n",
    "    n0r = nr*(nr-1) // 2\n",
    "    \n",
    "    # y determines the correct visiting order\n",
    "    order_dict = dict()\n",
    "    for i in range(n):\n",
    "        order_dict[y[i]] = i\n",
    "        \n",
    "    nc = 0\n",
    "    for i in range(nr):\n",
    "        poi1 = y_hat[i]\n",
    "        for j in range(i+1, nr):\n",
    "            poi2 = y_hat[j]\n",
    "            if poi1 in order_dict and poi2 in order_dict and poi1 != poi2:\n",
    "                if order_dict[poi1] < order_dict[poi2]: nc += 1\n",
    "\n",
    "    precision = (1.0 * nc) / (1.0 * n0r)\n",
    "    recall = (1.0 * nc) / (1.0 * n0)\n",
    "    if nc == 0:\n",
    "        F1 = 0\n",
    "    else:\n",
    "        F1 = 2. * precision * recall / (precision + recall)\n",
    "    return F1"
   ]
  },
  {
   "cell_type": "markdown",
   "metadata": {},
   "source": [
    "Load results data."
   ]
  },
  {
   "cell_type": "code",
   "execution_count": 10,
   "metadata": {},
   "outputs": [],
   "source": [
    "def load_results(dat_ix):\n",
    "    assert(0 <= dat_ix < len(dat_suffix))\n",
    "    \n",
    "    frank, ftran, fcomb, frand, fijcai = gen_fname(dat_ix)\n",
    "    #print(frank)\n",
    "    assert(os.path.exists(frank))\n",
    "    #print(ftran)\n",
    "    assert(os.path.exists(ftran))\n",
    "    #print(fcomb)\n",
    "    assert(os.path.exists(fcomb))\n",
    "    #print(frand)\n",
    "    assert(os.path.exists(frand))\n",
    "    #print(fijcai)\n",
    "    assert(os.path.exists(fijcai))\n",
    "\n",
    "    # load results data\n",
    "    recdict_rank = pickle.load(open(frank, 'rb'))\n",
    "    recdict_tran = pickle.load(open(ftran, 'rb'))\n",
    "    recdict_comb = pickle.load(open(fcomb, 'rb'))\n",
    "    recdict_rand = pickle.load(open(frand, 'rb'))\n",
    "    recdict_ijcai = pickle.load(open(fijcai, 'rb'))\n",
    "    \n",
    "    return recdict_rank, recdict_tran, recdict_comb, recdict_rand, recdict_ijcai"
   ]
  },
  {
   "cell_type": "code",
   "execution_count": 29,
   "outputs": [
    {
     "data": {
      "text/plain": "{14: {'REAL': [81, 75, 56, 57, 78, 55],\n  'REC_POP': [81, 71, 82, 32, 50, 55],\n  'REC_FEATURE': [81, 71, 82, 50, 44, 55]},\n 63: {'REAL': [40, 17, 14],\n  'REC_POP': [40, 71, 14],\n  'REC_FEATURE': [40, 71, 14]},\n 64: {'REAL': [40, 2, 9, 32],\n  'REC_POP': [40, 71, 82, 32],\n  'REC_FEATURE': [40, 71, 82, 32]},\n 78: {'REAL': [16, 41, 22],\n  'REC_POP': [16, 71, 22],\n  'REC_FEATURE': [16, 84, 22]},\n 129: {'REAL': [23, 40, 3],\n  'REC_POP': [23, 71, 3],\n  'REC_FEATURE': [23, 71, 3]},\n 143: {'REAL': [41, 36, 55, 71, 81, 50],\n  'REC_POP': [41, 71, 82, 32, 35, 50],\n  'REC_FEATURE': [41, 71, 82, 35, 32, 50]},\n 145: {'REAL': [82, 50, 15, 70, 69, 48, 40, 84],\n  'REC_POP': [82, 71, 32, 50, 35, 9, 81, 84],\n  'REC_FEATURE': [82, 71, 50, 81, 35, 32, 9, 84]},\n 147: {'REAL': [41, 22, 21, 84],\n  'REC_POP': [41, 71, 82, 84],\n  'REC_FEATURE': [41, 32, 71, 84]},\n 150: {'REAL': [71, 67, 81, 27],\n  'REC_POP': [71, 82, 32, 27],\n  'REC_FEATURE': [71, 82, 50, 27]},\n 166: {'REAL': [9, 44, 81],\n  'REC_POP': [9, 71, 81],\n  'REC_FEATURE': [9, 71, 81]},\n 191: {'REAL': [78, 6, 23, 45, 71],\n  'REC_POP': [78, 82, 32, 50, 71],\n  'REC_FEATURE': [78, 82, 50, 81, 71]},\n 198: {'REAL': [50, 9, 11, 40],\n  'REC_POP': [50, 71, 82, 40],\n  'REC_FEATURE': [50, 71, 82, 40]},\n 200: {'REAL': [2, 32, 15],\n  'REC_POP': [2, 71, 15],\n  'REC_FEATURE': [2, 71, 15]},\n 202: {'REAL': [2, 4, 50, 82, 71],\n  'REC_POP': [2, 82, 32, 50, 71],\n  'REC_FEATURE': [2, 82, 50, 35, 71]},\n 206: {'REAL': [71, 81, 0],\n  'REC_POP': [71, 82, 0],\n  'REC_FEATURE': [71, 82, 0]},\n 212: {'REAL': [21, 19, 44],\n  'REC_POP': [21, 71, 44],\n  'REC_FEATURE': [21, 71, 44]},\n 224: {'REAL': [15, 13, 40],\n  'REC_POP': [15, 71, 40],\n  'REC_FEATURE': [15, 71, 40]},\n 225: {'REAL': [17, 13, 18, 23, 9],\n  'REC_POP': [17, 71, 82, 32, 9],\n  'REC_FEATURE': [17, 71, 82, 50, 9]},\n 228: {'REAL': [71, 25, 32],\n  'REC_POP': [71, 82, 32],\n  'REC_FEATURE': [71, 82, 32]},\n 232: {'REAL': [71, 82, 85],\n  'REC_POP': [71, 82, 85],\n  'REC_FEATURE': [71, 82, 85]},\n 241: {'REAL': [74, 34, 76],\n  'REC_POP': [74, 71, 76],\n  'REC_FEATURE': [74, 71, 76]},\n 245: {'REAL': [46, 25, 45, 71, 32, 23, 8],\n  'REC_POP': [46, 71, 82, 32, 50, 35, 8],\n  'REC_FEATURE': [46, 71, 82, 50, 45, 81, 8]},\n 290: {'REAL': [2, 82, 75],\n  'REC_POP': [2, 71, 75],\n  'REC_FEATURE': [2, 71, 75]},\n 291: {'REAL': [50, 71, 75, 84, 41, 22, 9],\n  'REC_POP': [50, 71, 82, 32, 35, 81, 9],\n  'REC_FEATURE': [50, 71, 82, 35, 81, 45, 9]},\n 311: {'REAL': [15, 50, 9, 32],\n  'REC_POP': [15, 71, 82, 32],\n  'REC_FEATURE': [15, 71, 82, 32]},\n 313: {'REAL': [9, 22, 19],\n  'REC_POP': [9, 71, 19],\n  'REC_FEATURE': [9, 71, 19]},\n 325: {'REAL': [32, 18, 8],\n  'REC_POP': [32, 71, 8],\n  'REC_FEATURE': [32, 71, 8]},\n 328: {'REAL': [44, 31, 43],\n  'REC_POP': [44, 71, 43],\n  'REC_FEATURE': [44, 71, 43]},\n 337: {'REAL': [2, 40, 0], 'REC_POP': [2, 71, 0], 'REC_FEATURE': [2, 71, 0]},\n 339: {'REAL': [71, 70, 9],\n  'REC_POP': [71, 82, 9],\n  'REC_FEATURE': [71, 82, 9]},\n 342: {'REAL': [41, 9, 35, 82, 81, 71],\n  'REC_POP': [41, 82, 32, 50, 35, 71],\n  'REC_FEATURE': [41, 82, 35, 32, 50, 71]},\n 345: {'REAL': [50, 70, 35],\n  'REC_POP': [50, 71, 35],\n  'REC_FEATURE': [50, 71, 35]},\n 368: {'REAL': [44, 50, 82, 71, 15, 32, 84, 41, 9],\n  'REC_POP': [44, 71, 82, 32, 50, 35, 81, 45, 9],\n  'REC_FEATURE': [44, 71, 82, 50, 81, 35, 45, 32, 9]},\n 385: {'REAL': [27, 15, 82, 71],\n  'REC_POP': [27, 82, 32, 71],\n  'REC_FEATURE': [27, 82, 50, 71]},\n 392: {'REAL': [12, 20, 82, 75, 49, 34, 74, 31, 81, 44],\n  'REC_POP': [12, 71, 82, 32, 50, 35, 9, 81, 45, 44],\n  'REC_FEATURE': [12, 71, 76, 82, 81, 20, 50, 45, 49, 44]},\n 394: {'REAL': [73, 38, 69, 48, 51, 40, 39, 2],\n  'REC_POP': [73, 71, 82, 32, 50, 35, 9, 2],\n  'REC_FEATURE': [73, 71, 82, 32, 84, 35, 50, 2]},\n 395: {'REAL': [85, 1, 42, 21, 19, 71, 31, 69, 3, 61, 34, 15, 25],\n  'REC_POP': [85, 71, 82, 32, 50, 35, 9, 81, 45, 41, 26, 84, 25],\n  'REC_FEATURE': [85, 71, 82, 45, 81, 50, 27, 32, 35, 9, 46, 84, 25]},\n 413: {'REAL': [82, 71, 26],\n  'REC_POP': [82, 71, 26],\n  'REC_FEATURE': [82, 71, 26]},\n 414: {'REAL': [71, 22, 84],\n  'REC_POP': [71, 82, 84],\n  'REC_FEATURE': [71, 82, 84]},\n 438: {'REAL': [15, 82, 0, 31, 81, 44, 13],\n  'REC_POP': [15, 71, 82, 32, 50, 35, 13],\n  'REC_FEATURE': [15, 71, 82, 50, 35, 81, 13]},\n 440: {'REAL': [4, 36, 41, 84, 70, 17, 15, 82, 81],\n  'REC_POP': [4, 71, 82, 32, 50, 35, 9, 45, 81],\n  'REC_FEATURE': [4, 71, 82, 50, 32, 35, 84, 9, 81]},\n 443: {'REAL': [15, 50, 71],\n  'REC_POP': [15, 82, 71],\n  'REC_FEATURE': [15, 82, 71]},\n 445: {'REAL': [81, 74, 76, 45],\n  'REC_POP': [81, 71, 82, 45],\n  'REC_FEATURE': [81, 71, 82, 45]},\n 560: {'REAL': [45, 25, 85],\n  'REC_POP': [45, 71, 85],\n  'REC_FEATURE': [45, 71, 85]},\n 562: {'REAL': [35, 32, 78],\n  'REC_POP': [35, 71, 78],\n  'REC_FEATURE': [35, 71, 78]},\n 582: {'REAL': [71, 48, 41],\n  'REC_POP': [71, 82, 41],\n  'REC_FEATURE': [71, 82, 41]},\n 587: {'REAL': [72, 6, 57],\n  'REC_POP': [72, 71, 57],\n  'REC_FEATURE': [72, 71, 57]},\n 607: {'REAL': [4, 41, 32],\n  'REC_POP': [4, 71, 32],\n  'REC_FEATURE': [4, 84, 32]},\n 611: {'REAL': [82, 50, 71],\n  'REC_POP': [82, 32, 71],\n  'REC_FEATURE': [82, 81, 71]},\n 614: {'REAL': [71, 67, 31],\n  'REC_POP': [71, 82, 31],\n  'REC_FEATURE': [71, 82, 31]},\n 665: {'REAL': [35, 68, 63],\n  'REC_POP': [35, 71, 63],\n  'REC_FEATURE': [35, 71, 63]},\n 676: {'REAL': [69, 48, 25, 42, 27],\n  'REC_POP': [69, 71, 82, 32, 27],\n  'REC_FEATURE': [69, 71, 82, 50, 27]},\n 680: {'REAL': [76, 81, 71, 68],\n  'REC_POP': [76, 71, 82, 68],\n  'REC_FEATURE': [76, 71, 82, 68]},\n 681: {'REAL': [39, 35, 78],\n  'REC_POP': [39, 71, 78],\n  'REC_FEATURE': [39, 71, 78]},\n 685: {'REAL': [68, 71, 82, 45, 14, 25, 27, 85],\n  'REC_POP': [68, 71, 82, 32, 50, 35, 9, 85],\n  'REC_FEATURE': [68, 71, 82, 50, 81, 35, 45, 85]},\n 686: {'REAL': [71, 67, 81],\n  'REC_POP': [71, 82, 81],\n  'REC_FEATURE': [71, 82, 81]},\n 720: {'REAL': [84, 4, 70, 50],\n  'REC_POP': [84, 71, 82, 50],\n  'REC_FEATURE': [84, 71, 82, 50]},\n 721: {'REAL': [45, 56, 23, 70, 8, 15],\n  'REC_POP': [45, 71, 82, 32, 50, 15],\n  'REC_FEATURE': [45, 71, 82, 50, 81, 15]},\n 723: {'REAL': [71, 50, 15, 17, 13, 35, 31, 81],\n  'REC_POP': [71, 82, 32, 50, 35, 9, 45, 81],\n  'REC_FEATURE': [71, 82, 50, 35, 44, 45, 70, 81]},\n 724: {'REAL': [32, 21, 48, 40, 2, 51],\n  'REC_POP': [32, 71, 82, 50, 35, 51],\n  'REC_FEATURE': [32, 71, 35, 82, 50, 51]},\n 725: {'REAL': [49, 17, 18, 23],\n  'REC_POP': [49, 71, 82, 23],\n  'REC_FEATURE': [49, 71, 82, 23]},\n 727: {'REAL': [44, 45, 71, 82, 0],\n  'REC_POP': [44, 71, 82, 32, 0],\n  'REC_FEATURE': [44, 71, 82, 81, 0]},\n 749: {'REAL': [71, 51, 41],\n  'REC_POP': [71, 82, 41],\n  'REC_FEATURE': [71, 82, 41]},\n 763: {'REAL': [27, 25, 45, 81, 50, 35, 9],\n  'REC_POP': [27, 71, 82, 32, 50, 35, 9],\n  'REC_FEATURE': [27, 71, 82, 50, 35, 81, 9]},\n 765: {'REAL': [26, 81, 44, 45],\n  'REC_POP': [26, 71, 82, 45],\n  'REC_FEATURE': [26, 58, 66, 45]},\n 766: {'REAL': [9, 35, 70, 50, 71, 81, 82, 39],\n  'REC_POP': [9, 71, 82, 32, 50, 35, 81, 39],\n  'REC_FEATURE': [9, 71, 82, 50, 35, 81, 32, 39]},\n 771: {'REAL': [71, 44, 75, 81],\n  'REC_POP': [71, 82, 32, 81],\n  'REC_FEATURE': [71, 82, 50, 81]},\n 778: {'REAL': [35, 9, 71],\n  'REC_POP': [35, 82, 71],\n  'REC_FEATURE': [35, 82, 71]},\n 779: {'REAL': [45, 44, 0],\n  'REC_POP': [45, 71, 0],\n  'REC_FEATURE': [45, 71, 0]},\n 785: {'REAL': [22, 9, 23, 41],\n  'REC_POP': [22, 71, 82, 41],\n  'REC_FEATURE': [22, 84, 32, 41]},\n 798: {'REAL': [17, 15, 13],\n  'REC_POP': [17, 71, 13],\n  'REC_FEATURE': [17, 71, 13]},\n 817: {'REAL': [71, 82, 50, 81, 44, 45],\n  'REC_POP': [71, 82, 32, 50, 35, 45],\n  'REC_FEATURE': [71, 82, 81, 50, 35, 45]},\n 819: {'REAL': [81, 82, 45, 44, 0, 25, 15],\n  'REC_POP': [81, 71, 82, 32, 50, 35, 15],\n  'REC_FEATURE': [81, 71, 82, 50, 35, 44, 15]},\n 820: {'REAL': [82, 71, 8, 18, 23, 9, 13, 17, 15],\n  'REC_POP': [82, 71, 32, 50, 35, 9, 81, 45, 15],\n  'REC_FEATURE': [82, 71, 50, 81, 35, 45, 44, 9, 15]},\n 835: {'REAL': [9, 15, 50, 35],\n  'REC_POP': [9, 71, 82, 35],\n  'REC_FEATURE': [9, 71, 82, 35]},\n 836: {'REAL': [40, 37, 36],\n  'REC_POP': [40, 71, 36],\n  'REC_FEATURE': [40, 71, 36]},\n 837: {'REAL': [4, 84, 50, 14, 35],\n  'REC_POP': [4, 71, 82, 32, 35],\n  'REC_FEATURE': [4, 71, 84, 82, 35]},\n 841: {'REAL': [23, 9, 8, 13],\n  'REC_POP': [23, 71, 82, 13],\n  'REC_FEATURE': [23, 71, 82, 13]},\n 856: {'REAL': [35, 31, 81],\n  'REC_POP': [35, 71, 81],\n  'REC_FEATURE': [35, 71, 81]},\n 895: {'REAL': [71, 76, 75],\n  'REC_POP': [71, 82, 75],\n  'REC_FEATURE': [71, 82, 75]},\n 901: {'REAL': [31, 0, 40],\n  'REC_POP': [31, 71, 40],\n  'REC_FEATURE': [31, 71, 40]},\n 902: {'REAL': [23, 17, 50, 35],\n  'REC_POP': [23, 71, 82, 35],\n  'REC_FEATURE': [23, 71, 82, 35]},\n 912: {'REAL': [35, 45, 71, 68, 50, 0],\n  'REC_POP': [35, 71, 82, 32, 50, 0],\n  'REC_FEATURE': [35, 71, 82, 50, 81, 0]},\n 916: {'REAL': [19, 2, 40, 35, 8, 17, 14, 42, 38, 84, 4],\n  'REC_POP': [19, 71, 82, 32, 50, 35, 9, 81, 45, 41, 4],\n  'REC_FEATURE': [19, 84, 32, 71, 41, 22, 9, 82, 35, 50, 4]},\n 931: {'REAL': [22, 18, 8, 32, 84, 16],\n  'REC_POP': [22, 71, 82, 32, 50, 16],\n  'REC_FEATURE': [22, 84, 32, 41, 71, 16]},\n 959: {'REAL': [73, 38, 19],\n  'REC_POP': [73, 71, 19],\n  'REC_FEATURE': [73, 84, 19]},\n 961: {'REAL': [67, 74, 76, 49, 22],\n  'REC_POP': [67, 71, 82, 32, 22],\n  'REC_FEATURE': [67, 71, 82, 50, 22]},\n 966: {'REAL': [14, 70, 32, 84],\n  'REC_POP': [14, 71, 82, 84],\n  'REC_FEATURE': [14, 71, 82, 84]},\n 1017: {'REAL': [81, 82, 50, 17, 2],\n  'REC_POP': [81, 71, 82, 32, 2],\n  'REC_FEATURE': [81, 71, 82, 50, 2]},\n 1023: {'REAL': [41, 22, 9],\n  'REC_POP': [41, 71, 9],\n  'REC_FEATURE': [41, 71, 9]},\n 1042: {'REAL': [41, 84, 22, 26],\n  'REC_POP': [41, 71, 82, 26],\n  'REC_FEATURE': [41, 71, 82, 26]},\n 1062: {'REAL': [82, 81, 13, 44, 25],\n  'REC_POP': [82, 71, 32, 50, 25],\n  'REC_FEATURE': [82, 71, 81, 50, 25]},\n 1063: {'REAL': [24, 23, 21, 48, 82],\n  'REC_POP': [24, 71, 32, 50, 82],\n  'REC_FEATURE': [24, 71, 50, 32, 82]},\n 1066: {'REAL': [46, 78, 35, 50, 71],\n  'REC_POP': [46, 82, 32, 50, 71],\n  'REC_FEATURE': [46, 82, 50, 45, 71]},\n 1075: {'REAL': [85, 59, 82, 8, 66, 25],\n  'REC_POP': [85, 71, 82, 32, 50, 25],\n  'REC_FEATURE': [85, 71, 82, 45, 81, 25]},\n 1087: {'REAL': [35, 70, 18, 14],\n  'REC_POP': [35, 71, 82, 14],\n  'REC_FEATURE': [35, 71, 82, 14]},\n 1101: {'REAL': [9, 35, 32],\n  'REC_POP': [9, 71, 32],\n  'REC_FEATURE': [9, 71, 32]},\n 1117: {'REAL': [13, 81, 39],\n  'REC_POP': [13, 71, 39],\n  'REC_FEATURE': [13, 71, 39]},\n 1119: {'REAL': [31, 71, 50, 32],\n  'REC_POP': [31, 71, 82, 32],\n  'REC_FEATURE': [31, 71, 82, 32]},\n 1134: {'REAL': [26, 15, 41, 71],\n  'REC_POP': [26, 82, 32, 71],\n  'REC_FEATURE': [26, 58, 66, 71]},\n 1149: {'REAL': [50, 69, 48, 27, 29, 63, 56, 68, 71, 31, 44, 81],\n  'REC_POP': [50, 71, 82, 32, 35, 9, 45, 41, 26, 84, 22, 81],\n  'REC_FEATURE': [50, 71, 82, 35, 44, 45, 9, 70, 15, 32, 13, 81]},\n 1150: {'REAL': [81, 68, 71, 50],\n  'REC_POP': [81, 71, 82, 50],\n  'REC_FEATURE': [81, 71, 82, 50]},\n 1170: {'REAL': [84, 41, 32, 22],\n  'REC_POP': [84, 71, 82, 22],\n  'REC_FEATURE': [84, 32, 71, 22]},\n 1172: {'REAL': [31, 0, 44, 81, 70, 35, 9, 23],\n  'REC_POP': [31, 71, 82, 32, 50, 35, 9, 23],\n  'REC_FEATURE': [31, 71, 82, 81, 50, 35, 45, 23]},\n 1176: {'REAL': [22, 9, 40],\n  'REC_POP': [22, 71, 40],\n  'REC_FEATURE': [22, 71, 40]},\n 1191: {'REAL': [50, 13, 8, 0, 44, 84, 41, 22],\n  'REC_POP': [50, 71, 82, 32, 35, 9, 81, 22],\n  'REC_FEATURE': [50, 71, 82, 35, 32, 81, 9, 22]},\n 1203: {'REAL': [42,\n   32,\n   9,\n   35,\n   8,\n   17,\n   13,\n   15,\n   82,\n   50,\n   71,\n   81,\n   44,\n   45,\n   14,\n   85,\n   1,\n   53,\n   27,\n   25],\n  'REC_POP': [42,\n   71,\n   82,\n   32,\n   50,\n   35,\n   9,\n   81,\n   45,\n   41,\n   26,\n   84,\n   22,\n   31,\n   15,\n   48,\n   85,\n   44,\n   40,\n   25],\n  'REC_FEATURE': [42,\n   71,\n   32,\n   82,\n   35,\n   50,\n   45,\n   81,\n   9,\n   85,\n   84,\n   27,\n   41,\n   44,\n   14,\n   15,\n   70,\n   13,\n   8,\n   25]},\n 1208: {'REAL': [82, 71, 50, 15],\n  'REC_POP': [82, 71, 32, 15],\n  'REC_FEATURE': [82, 71, 50, 15]},\n 1217: {'REAL': [42, 71, 13, 50],\n  'REC_POP': [42, 71, 82, 50],\n  'REC_FEATURE': [42, 71, 82, 50]},\n 1230: {'REAL': [32, 17, 57],\n  'REC_POP': [32, 71, 57],\n  'REC_FEATURE': [32, 71, 57]},\n 1231: {'REAL': [50, 68, 63],\n  'REC_POP': [50, 71, 63],\n  'REC_FEATURE': [50, 71, 63]},\n 1233: {'REAL': [27, 35, 69, 36],\n  'REC_POP': [27, 71, 82, 36],\n  'REC_FEATURE': [27, 71, 82, 36]},\n 1240: {'REAL': [15, 14, 8],\n  'REC_POP': [15, 71, 8],\n  'REC_FEATURE': [15, 71, 8]},\n 1241: {'REAL': [32, 41, 36, 24],\n  'REC_POP': [32, 71, 82, 24],\n  'REC_FEATURE': [32, 71, 84, 24]},\n 1245: {'REAL': [18, 71, 8, 14],\n  'REC_POP': [18, 71, 82, 14],\n  'REC_FEATURE': [18, 71, 82, 14]},\n 1249: {'REAL': [44, 31, 71],\n  'REC_POP': [44, 82, 71],\n  'REC_FEATURE': [44, 82, 71]},\n 1265: {'REAL': [46, 71, 32, 82],\n  'REC_POP': [46, 71, 32, 82],\n  'REC_FEATURE': [46, 71, 50, 82]},\n 1277: {'REAL': [60, 55, 69, 10],\n  'REC_POP': [60, 71, 82, 10],\n  'REC_FEATURE': [60, 76, 71, 10]},\n 1284: {'REAL': [17, 71, 36],\n  'REC_POP': [17, 71, 36],\n  'REC_FEATURE': [17, 71, 36]},\n 1286: {'REAL': [82, 44, 45],\n  'REC_POP': [82, 71, 45],\n  'REC_FEATURE': [82, 71, 45]},\n 1315: {'REAL': [27, 82, 35, 13],\n  'REC_POP': [27, 71, 82, 13],\n  'REC_FEATURE': [27, 71, 82, 13]},\n 1318: {'REAL': [19, 21, 16, 84, 41, 35, 70, 71, 81, 44, 0, 74],\n  'REC_POP': [19, 71, 82, 32, 50, 35, 9, 81, 45, 26, 41, 74],\n  'REC_FEATURE': [19, 71, 82, 50, 32, 9, 81, 35, 84, 45, 44, 74]},\n 1320: {'REAL': [71, 35, 18, 81, 44, 17, 9],\n  'REC_POP': [71, 82, 32, 50, 35, 81, 9],\n  'REC_FEATURE': [71, 82, 50, 35, 81, 70, 9]},\n 1386: {'REAL': [4, 71, 81, 44, 31],\n  'REC_POP': [4, 71, 82, 32, 31],\n  'REC_FEATURE': [4, 71, 82, 50, 31]},\n 1397: {'REAL': [9, 32, 15, 50, 68],\n  'REC_POP': [9, 71, 82, 32, 68],\n  'REC_FEATURE': [9, 71, 82, 50, 68]},\n 1477: {'REAL': [71, 8, 23, 31, 20],\n  'REC_POP': [71, 82, 32, 50, 20],\n  'REC_FEATURE': [71, 82, 81, 50, 20]},\n 1521: {'REAL': [71, 50, 82, 15, 8, 32, 13, 70, 51],\n  'REC_POP': [71, 82, 32, 50, 35, 9, 81, 45, 51],\n  'REC_FEATURE': [71, 82, 50, 81, 35, 9, 70, 68, 51]},\n 1522: {'REAL': [32, 9, 2, 63, 68, 81, 27],\n  'REC_POP': [32, 71, 82, 50, 35, 9, 27],\n  'REC_FEATURE': [32, 71, 82, 35, 50, 9, 27]},\n 1562: {'REAL': [50, 62, 76, 41],\n  'REC_POP': [50, 71, 82, 41],\n  'REC_FEATURE': [50, 71, 82, 41]},\n 1563: {'REAL': [27, 71, 82],\n  'REC_POP': [27, 71, 82],\n  'REC_FEATURE': [27, 71, 82]},\n 1565: {'REAL': [26, 81, 45],\n  'REC_POP': [26, 71, 45],\n  'REC_FEATURE': [26, 58, 45]},\n 1583: {'REAL': [18, 35, 32],\n  'REC_POP': [18, 71, 32],\n  'REC_FEATURE': [18, 71, 32]},\n 1593: {'REAL': [16, 84, 35, 32],\n  'REC_POP': [16, 71, 82, 32],\n  'REC_FEATURE': [16, 84, 71, 32]},\n 1677: {'REAL': [50, 71, 2],\n  'REC_POP': [50, 71, 2],\n  'REC_FEATURE': [50, 71, 2]},\n 1679: {'REAL': [23, 32, 35, 50, 70],\n  'REC_POP': [23, 71, 82, 32, 70],\n  'REC_FEATURE': [23, 71, 82, 50, 70]},\n 1685: {'REAL': [35, 13, 17, 8, 14, 51, 39, 78, 57, 85, 1, 27, 25, 71],\n  'REC_POP': [35, 82, 32, 50, 9, 81, 45, 41, 26, 84, 22, 31, 15, 71],\n  'REC_FEATURE': [35, 82, 50, 81, 9, 32, 70, 45, 44, 15, 13, 68, 17, 71]},\n 1686: {'REAL': [84, 41, 22, 9, 49, 67, 81],\n  'REC_POP': [84, 71, 82, 32, 50, 35, 81],\n  'REC_FEATURE': [84, 71, 82, 50, 32, 35, 81]},\n 1703: {'REAL': [40, 70, 50],\n  'REC_POP': [40, 71, 50],\n  'REC_FEATURE': [40, 71, 50]},\n 1724: {'REAL': [9, 41, 46],\n  'REC_POP': [9, 71, 46],\n  'REC_FEATURE': [9, 71, 46]},\n 1769: {'REAL': [71, 32, 45, 25],\n  'REC_POP': [71, 82, 32, 25],\n  'REC_FEATURE': [71, 82, 50, 25]},\n 1786: {'REAL': [35, 70, 50],\n  'REC_POP': [35, 71, 50],\n  'REC_FEATURE': [35, 71, 50]},\n 1820: {'REAL': [35, 40, 8],\n  'REC_POP': [35, 71, 8],\n  'REC_FEATURE': [35, 71, 8]},\n 1823: {'REAL': [14, 35, 40],\n  'REC_POP': [14, 71, 40],\n  'REC_FEATURE': [14, 71, 40]},\n 1826: {'REAL': [35, 39, 40],\n  'REC_POP': [35, 71, 40],\n  'REC_FEATURE': [35, 71, 40]},\n 1827: {'REAL': [40, 39, 2, 35, 14],\n  'REC_POP': [40, 71, 82, 32, 14],\n  'REC_FEATURE': [40, 71, 82, 35, 14]},\n 1854: {'REAL': [70, 50, 13],\n  'REC_POP': [70, 71, 13],\n  'REC_FEATURE': [70, 71, 13]},\n 1894: {'REAL': [53, 14, 82, 9, 84, 69, 49, 45],\n  'REC_POP': [53, 71, 82, 32, 50, 35, 9, 45],\n  'REC_FEATURE': [53, 71, 82, 1, 85, 50, 81, 45]},\n 1895: {'REAL': [21, 76, 27],\n  'REC_POP': [21, 71, 27],\n  'REC_FEATURE': [21, 71, 27]},\n 1906: {'REAL': [81, 44, 0, 25],\n  'REC_POP': [81, 71, 82, 25],\n  'REC_FEATURE': [81, 71, 82, 25]},\n 1914: {'REAL': [78, 71, 15, 81],\n  'REC_POP': [78, 71, 82, 81],\n  'REC_FEATURE': [78, 71, 82, 81]},\n 1918: {'REAL': [41, 45, 84],\n  'REC_POP': [41, 71, 84],\n  'REC_FEATURE': [41, 32, 84]},\n 1921: {'REAL': [35, 41, 32, 50],\n  'REC_POP': [35, 71, 82, 50],\n  'REC_FEATURE': [35, 71, 82, 50]},\n 1923: {'REAL': [31, 9, 37, 50],\n  'REC_POP': [31, 71, 82, 50],\n  'REC_FEATURE': [31, 71, 82, 50]},\n 1925: {'REAL': [71, 82, 45],\n  'REC_POP': [71, 82, 45],\n  'REC_FEATURE': [71, 82, 45]},\n 1935: {'REAL': [5, 45, 50, 82, 14, 8, 23, 9, 32, 71, 81, 44, 25, 70, 27],\n  'REC_POP': [5, 71, 82, 32, 50, 35, 9, 81, 45, 41, 26, 84, 22, 31, 27],\n  'REC_FEATURE': [5, 71, 82, 45, 46, 25, 81, 50, 35, 44, 85, 31, 0, 9, 27]},\n 1936: {'REAL': [41, 84, 32, 21],\n  'REC_POP': [41, 71, 82, 21],\n  'REC_FEATURE': [41, 84, 32, 21]},\n 1938: {'REAL': [51,\n   72,\n   69,\n   48,\n   3,\n   24,\n   41,\n   35,\n   70,\n   50,\n   71,\n   81,\n   25,\n   45,\n   44,\n   0,\n   31,\n   43],\n  'REC_POP': [51,\n   71,\n   82,\n   32,\n   50,\n   35,\n   9,\n   81,\n   45,\n   41,\n   26,\n   84,\n   22,\n   15,\n   31,\n   48,\n   25,\n   43],\n  'REC_FEATURE': [51,\n   71,\n   82,\n   50,\n   81,\n   35,\n   45,\n   44,\n   9,\n   40,\n   2,\n   68,\n   31,\n   70,\n   39,\n   15,\n   32,\n   43]},\n 1940: {'REAL': [2, 40, 75, 34, 49, 71, 35],\n  'REC_POP': [2, 71, 82, 32, 50, 9, 35],\n  'REC_FEATURE': [2, 71, 82, 50, 9, 81, 35]},\n 1941: {'REAL': [32, 42, 9],\n  'REC_POP': [32, 71, 9],\n  'REC_FEATURE': [32, 71, 9]},\n 1956: {'REAL': [32, 39, 70],\n  'REC_POP': [32, 71, 70],\n  'REC_FEATURE': [32, 71, 70]},\n 1982: {'REAL': [78, 39, 72],\n  'REC_POP': [78, 71, 72],\n  'REC_FEATURE': [78, 71, 72]},\n 1984: {'REAL': [71, 40, 35, 45],\n  'REC_POP': [71, 82, 32, 45],\n  'REC_FEATURE': [71, 82, 81, 45]},\n 1990: {'REAL': [84, 9, 23, 32],\n  'REC_POP': [84, 71, 82, 32],\n  'REC_FEATURE': [84, 71, 82, 32]},\n 2005: {'REAL': [32, 41, 71],\n  'REC_POP': [32, 82, 71],\n  'REC_FEATURE': [32, 82, 71]},\n 2030: {'REAL': [23, 50, 26],\n  'REC_POP': [23, 71, 26],\n  'REC_FEATURE': [23, 71, 26]},\n 2032: {'REAL': [32, 40, 51, 71, 81, 22, 41, 4, 36],\n  'REC_POP': [32, 71, 82, 50, 35, 9, 81, 45, 36],\n  'REC_FEATURE': [32, 71, 84, 41, 35, 82, 9, 50, 36]},\n 2040: {'REAL': [85, 81, 35],\n  'REC_POP': [85, 71, 35],\n  'REC_FEATURE': [85, 71, 35]},\n 2042: {'REAL': [26, 45, 82, 71],\n  'REC_POP': [26, 82, 32, 71],\n  'REC_FEATURE': [26, 58, 66, 71]},\n 2059: {'REAL': [9, 50, 71],\n  'REC_POP': [9, 82, 71],\n  'REC_FEATURE': [9, 82, 71]},\n 2063: {'REAL': [31, 75, 44],\n  'REC_POP': [31, 71, 44],\n  'REC_FEATURE': [31, 71, 44]},\n 2066: {'REAL': [85, 82, 63],\n  'REC_POP': [85, 71, 63],\n  'REC_FEATURE': [85, 71, 63]},\n 2071: {'REAL': [44, 82, 22, 15, 81],\n  'REC_POP': [44, 71, 82, 32, 81],\n  'REC_FEATURE': [44, 71, 82, 50, 81]},\n 2075: {'REAL': [84, 44, 15],\n  'REC_POP': [84, 71, 15],\n  'REC_FEATURE': [84, 71, 15]},\n 2078: {'REAL': [81, 29, 26],\n  'REC_POP': [81, 71, 26],\n  'REC_FEATURE': [81, 71, 26]},\n 2079: {'REAL': [45, 13, 50, 35, 8, 18, 9, 70, 71, 31, 25],\n  'REC_POP': [45, 71, 82, 32, 50, 35, 9, 81, 41, 26, 25],\n  'REC_FEATURE': [45, 71, 82, 81, 50, 44, 35, 31, 27, 9, 25]},\n 2099: {'REAL': [81, 44, 62],\n  'REC_POP': [81, 71, 62],\n  'REC_FEATURE': [81, 71, 62]},\n 2101: {'REAL': [68, 27, 73, 21],\n  'REC_POP': [68, 71, 82, 21],\n  'REC_FEATURE': [68, 71, 82, 21]},\n 2109: {'REAL': [23, 85, 32],\n  'REC_POP': [23, 71, 32],\n  'REC_FEATURE': [23, 71, 32]},\n 2111: {'REAL': [71, 35, 26],\n  'REC_POP': [71, 82, 26],\n  'REC_FEATURE': [71, 82, 26]},\n 2126: {'REAL': [71, 81, 74],\n  'REC_POP': [71, 82, 74],\n  'REC_FEATURE': [71, 82, 74]},\n 2144: {'REAL': [44, 80, 71, 35],\n  'REC_POP': [44, 71, 82, 35],\n  'REC_FEATURE': [44, 71, 82, 35]},\n 2177: {'REAL': [82, 71, 50, 21, 32, 45, 72],\n  'REC_POP': [82, 71, 32, 50, 35, 9, 72],\n  'REC_FEATURE': [82, 71, 81, 50, 35, 9, 72]},\n 2185: {'REAL': [19, 55, 68],\n  'REC_POP': [19, 71, 68],\n  'REC_FEATURE': [19, 71, 68]},\n 2220: {'REAL': [9, 82, 25, 85],\n  'REC_POP': [9, 71, 82, 85],\n  'REC_FEATURE': [9, 71, 82, 85]},\n 2223: {'REAL': [41, 9, 40],\n  'REC_POP': [41, 71, 40],\n  'REC_FEATURE': [41, 71, 40]},\n 2225: {'REAL': [26, 82, 81],\n  'REC_POP': [26, 71, 81],\n  'REC_FEATURE': [26, 71, 81]},\n 2240: {'REAL': [21, 15, 82, 22],\n  'REC_POP': [21, 71, 82, 22],\n  'REC_FEATURE': [21, 84, 32, 22]},\n 2241: {'REAL': [22, 26, 49],\n  'REC_POP': [22, 71, 49],\n  'REC_FEATURE': [22, 71, 49]},\n 2242: {'REAL': [71, 81, 17],\n  'REC_POP': [71, 82, 17],\n  'REC_FEATURE': [71, 82, 17]},\n 2243: {'REAL': [81, 67, 68],\n  'REC_POP': [81, 71, 68],\n  'REC_FEATURE': [81, 71, 68]},\n 2254: {'REAL': [2, 40, 71],\n  'REC_POP': [2, 82, 71],\n  'REC_FEATURE': [2, 82, 71]},\n 2255: {'REAL': [41, 9, 2],\n  'REC_POP': [41, 71, 2],\n  'REC_FEATURE': [41, 71, 2]},\n 2268: {'REAL': [23, 9, 35, 82, 50, 71, 15, 61],\n  'REC_POP': [23, 71, 82, 32, 50, 35, 9, 61],\n  'REC_FEATURE': [23, 71, 82, 9, 32, 35, 50, 61]},\n 2282: {'REAL': [29, 31, 44],\n  'REC_POP': [29, 71, 44],\n  'REC_FEATURE': [29, 71, 44]},\n 2289: {'REAL': [71, 50, 82, 17, 15, 13, 42],\n  'REC_POP': [71, 82, 32, 50, 35, 9, 42],\n  'REC_FEATURE': [71, 82, 50, 81, 35, 32, 42]},\n 2301: {'REAL': [82, 9, 70, 50],\n  'REC_POP': [82, 71, 32, 50],\n  'REC_FEATURE': [82, 71, 81, 50]},\n 2302: {'REAL': [9, 70, 50],\n  'REC_POP': [9, 71, 50],\n  'REC_FEATURE': [9, 71, 50]},\n 2323: {'REAL': [49, 81, 68],\n  'REC_POP': [49, 71, 68],\n  'REC_FEATURE': [49, 71, 68]},\n 2338: {'REAL': [37, 36, 22],\n  'REC_POP': [37, 71, 22],\n  'REC_FEATURE': [37, 84, 22]},\n 2340: {'REAL': [40, 71, 35, 9],\n  'REC_POP': [40, 71, 82, 9],\n  'REC_FEATURE': [40, 71, 35, 9]},\n 2341: {'REAL': [48, 1, 53],\n  'REC_POP': [48, 71, 53],\n  'REC_FEATURE': [48, 71, 53]},\n 2345: {'REAL': [41, 84, 9, 35, 70, 50, 71, 82],\n  'REC_POP': [41, 71, 32, 50, 35, 9, 81, 82],\n  'REC_FEATURE': [41, 71, 32, 35, 50, 84, 9, 82]},\n 2352: {'REAL': [45, 50, 35, 2, 22, 9, 71, 72, 68, 34, 82],\n  'REC_POP': [45, 71, 32, 50, 35, 9, 81, 41, 26, 84, 82],\n  'REC_FEATURE': [45, 71, 50, 81, 44, 35, 15, 31, 9, 0, 82]},\n 2354: {'REAL': [35, 9, 22, 41],\n  'REC_POP': [35, 71, 82, 41],\n  'REC_FEATURE': [35, 71, 82, 41]},\n 2379: {'REAL': [70, 50, 71],\n  'REC_POP': [70, 82, 71],\n  'REC_FEATURE': [70, 82, 71]},\n 2408: {'REAL': [44, 50, 82],\n  'REC_POP': [44, 71, 82],\n  'REC_FEATURE': [44, 71, 82]},\n 2430: {'REAL': [31, 75, 81, 32],\n  'REC_POP': [31, 71, 82, 32],\n  'REC_FEATURE': [31, 71, 82, 32]},\n 2455: {'REAL': [42, 35, 70],\n  'REC_POP': [42, 71, 70],\n  'REC_FEATURE': [42, 71, 70]},\n 2469: {'REAL': [85, 82, 15],\n  'REC_POP': [85, 71, 15],\n  'REC_FEATURE': [85, 71, 15]},\n 2495: {'REAL': [41, 81, 45],\n  'REC_POP': [41, 71, 45],\n  'REC_FEATURE': [41, 71, 45]},\n 2505: {'REAL': [71, 81, 44, 45, 15],\n  'REC_POP': [71, 82, 32, 50, 15],\n  'REC_FEATURE': [71, 82, 50, 81, 15]},\n 2515: {'REAL': [85, 53, 1, 46, 25],\n  'REC_POP': [85, 71, 82, 32, 25],\n  'REC_FEATURE': [85, 71, 82, 45, 25]},\n 2517: {'REAL': [81, 44, 45, 29, 43, 49, 67, 68],\n  'REC_POP': [81, 71, 82, 32, 50, 35, 9, 68],\n  'REC_FEATURE': [81, 71, 82, 50, 44, 35, 45, 68]},\n 2519: {'REAL': [71, 9, 32, 23, 18, 8],\n  'REC_POP': [71, 82, 32, 50, 35, 8],\n  'REC_FEATURE': [71, 82, 50, 81, 35, 8]},\n 2526: {'REAL': [1, 70, 39, 2, 40],\n  'REC_POP': [1, 71, 82, 32, 40],\n  'REC_FEATURE': [1, 71, 82, 50, 40]},\n 2527: {'REAL': [71, 81, 82, 45, 25],\n  'REC_POP': [71, 82, 32, 50, 25],\n  'REC_FEATURE': [71, 82, 50, 81, 25]},\n 2556: {'REAL': [48, 2, 67],\n  'REC_POP': [48, 71, 67],\n  'REC_FEATURE': [48, 71, 67]},\n 2561: {'REAL': [82, 32, 35, 50, 23, 9, 40, 2],\n  'REC_POP': [82, 71, 32, 50, 35, 9, 81, 2],\n  'REC_FEATURE': [82, 71, 50, 81, 35, 9, 44, 2]},\n 2566: {'REAL': [19, 84, 22],\n  'REC_POP': [19, 71, 22],\n  'REC_FEATURE': [19, 84, 22]},\n 2567: {'REAL': [0, 31, 81],\n  'REC_POP': [0, 71, 81],\n  'REC_FEATURE': [0, 71, 81]},\n 2572: {'REAL': [82, 66, 58, 25],\n  'REC_POP': [82, 71, 32, 25],\n  'REC_FEATURE': [82, 71, 81, 25]},\n 2575: {'REAL': [71, 45, 81, 68, 50],\n  'REC_POP': [71, 82, 32, 35, 50],\n  'REC_FEATURE': [71, 82, 81, 35, 50]},\n 2598: {'REAL': [81, 71, 9],\n  'REC_POP': [81, 71, 9],\n  'REC_FEATURE': [81, 71, 9]},\n 2608: {'REAL': [38, 19, 35],\n  'REC_POP': [38, 71, 35],\n  'REC_FEATURE': [38, 71, 35]},\n 2646: {'REAL': [32, 71, 22, 84],\n  'REC_POP': [32, 71, 82, 84],\n  'REC_FEATURE': [32, 71, 35, 84]},\n 2671: {'REAL': [84, 36, 22],\n  'REC_POP': [84, 71, 22],\n  'REC_FEATURE': [84, 32, 22]},\n 2672: {'REAL': [39, 50, 2, 41],\n  'REC_POP': [39, 71, 82, 41],\n  'REC_FEATURE': [39, 71, 35, 41]},\n 2673: {'REAL': [37, 82, 71, 68, 62, 52],\n  'REC_POP': [37, 71, 82, 32, 50, 52],\n  'REC_FEATURE': [37, 71, 82, 35, 50, 52]},\n 2678: {'REAL': [14, 3, 26],\n  'REC_POP': [14, 71, 26],\n  'REC_FEATURE': [14, 71, 26]},\n 2680: {'REAL': [16, 82, 18],\n  'REC_POP': [16, 71, 18],\n  'REC_FEATURE': [16, 71, 18]},\n 2690: {'REAL': [35, 82, 0, 81],\n  'REC_POP': [35, 71, 82, 81],\n  'REC_FEATURE': [35, 71, 82, 81]},\n 2691: {'REAL': [25, 27, 50, 44, 68],\n  'REC_POP': [25, 71, 82, 32, 68],\n  'REC_FEATURE': [25, 71, 82, 81, 68]},\n 2700: {'REAL': [14, 13, 71, 9, 39, 40, 2],\n  'REC_POP': [14, 71, 82, 32, 50, 35, 2],\n  'REC_FEATURE': [14, 71, 82, 50, 35, 9, 2]},\n 2733: {'REAL': [15, 35, 71],\n  'REC_POP': [15, 82, 71],\n  'REC_FEATURE': [15, 82, 71]},\n 2735: {'REAL': [55, 63, 56],\n  'REC_POP': [55, 71, 56],\n  'REC_FEATURE': [55, 71, 56]},\n 2747: {'REAL': [51, 42, 73],\n  'REC_POP': [51, 71, 73],\n  'REC_FEATURE': [51, 71, 73]},\n 2771: {'REAL': [70, 81, 13],\n  'REC_POP': [70, 71, 13],\n  'REC_FEATURE': [70, 71, 13]},\n 2789: {'REAL': [15, 14, 85],\n  'REC_POP': [15, 71, 85],\n  'REC_FEATURE': [15, 71, 85]},\n 2808: {'REAL': [40, 39, 51],\n  'REC_POP': [40, 71, 51],\n  'REC_FEATURE': [40, 71, 51]},\n 2818: {'REAL': [44, 50, 68, 71, 81],\n  'REC_POP': [44, 71, 82, 32, 81],\n  'REC_FEATURE': [44, 71, 82, 50, 81]},\n 2824: {'REAL': [50, 81, 75],\n  'REC_POP': [50, 71, 75],\n  'REC_FEATURE': [50, 71, 75]},\n 2826: {'REAL': [21, 45, 49, 76],\n  'REC_POP': [21, 71, 82, 76],\n  'REC_FEATURE': [21, 71, 82, 76]},\n 2839: {'REAL': [82, 84, 41],\n  'REC_POP': [82, 71, 41],\n  'REC_FEATURE': [82, 71, 41]},\n 2846: {'REAL': [11, 70, 35, 40, 9],\n  'REC_POP': [11, 71, 82, 32, 9],\n  'REC_FEATURE': [11, 71, 82, 32, 9]},\n 2850: {'REAL': [71, 68, 52],\n  'REC_POP': [71, 82, 52],\n  'REC_FEATURE': [71, 82, 52]},\n 2852: {'REAL': [41, 68, 67],\n  'REC_POP': [41, 71, 67],\n  'REC_FEATURE': [41, 71, 67]},\n 2857: {'REAL': [23, 9, 18],\n  'REC_POP': [23, 71, 18],\n  'REC_FEATURE': [23, 71, 18]},\n 2893: {'REAL': [57, 68, 82],\n  'REC_POP': [57, 71, 82],\n  'REC_FEATURE': [57, 71, 82]},\n 2903: {'REAL': [21, 84, 41, 71, 81, 44, 45, 73],\n  'REC_POP': [21, 71, 82, 32, 50, 35, 9, 73],\n  'REC_FEATURE': [21, 84, 32, 71, 41, 9, 22, 73]},\n 2904: {'REAL': [47, 53, 44, 81, 71, 50, 73],\n  'REC_POP': [47, 71, 82, 32, 50, 35, 73],\n  'REC_FEATURE': [47, 1, 85, 32, 84, 71, 73]},\n 2905: {'REAL': [39, 78, 41],\n  'REC_POP': [39, 71, 41],\n  'REC_FEATURE': [39, 71, 41]},\n 2907: {'REAL': [9, 13, 17, 41, 36, 35, 71, 68, 0, 44],\n  'REC_POP': [9, 71, 82, 32, 50, 35, 81, 45, 26, 44],\n  'REC_FEATURE': [9, 71, 82, 50, 81, 35, 32, 45, 15, 44]},\n 2908: {'REAL': [45, 82, 84, 1, 71, 50, 70, 13, 9],\n  'REC_POP': [45, 71, 82, 32, 50, 35, 81, 41, 9],\n  'REC_FEATURE': [45, 71, 82, 50, 81, 35, 44, 32, 9]},\n 2909: {'REAL': [71, 50, 82],\n  'REC_POP': [71, 32, 82],\n  'REC_FEATURE': [71, 50, 82]},\n 2912: {'REAL': [40, 71, 68, 57],\n  'REC_POP': [40, 71, 82, 57],\n  'REC_FEATURE': [40, 71, 82, 57]},\n 2956: {'REAL': [5, 29, 31, 85, 35],\n  'REC_POP': [5, 71, 82, 32, 35],\n  'REC_FEATURE': [5, 71, 82, 50, 35]},\n 3002: {'REAL': [35, 84, 26],\n  'REC_POP': [35, 71, 26],\n  'REC_FEATURE': [35, 71, 26]},\n 3004: {'REAL': [9, 82, 32, 71],\n  'REC_POP': [9, 82, 32, 71],\n  'REC_FEATURE': [9, 82, 50, 71]},\n 3007: {'REAL': [82, 32, 17],\n  'REC_POP': [82, 71, 17],\n  'REC_FEATURE': [82, 71, 17]},\n 3017: {'REAL': [69, 82, 3, 2],\n  'REC_POP': [69, 71, 82, 2],\n  'REC_FEATURE': [69, 71, 48, 2]},\n 3034: {'REAL': [71, 25, 82],\n  'REC_POP': [71, 32, 82],\n  'REC_FEATURE': [71, 50, 82]},\n 3042: {'REAL': [81, 0, 78],\n  'REC_POP': [81, 71, 78],\n  'REC_FEATURE': [81, 71, 78]},\n 3047: {'REAL': [82, 71, 70],\n  'REC_POP': [82, 71, 70],\n  'REC_FEATURE': [82, 71, 70]},\n 3062: {'REAL': [0, 31, 71],\n  'REC_POP': [0, 82, 71],\n  'REC_FEATURE': [0, 82, 71]},\n 3072: {'REAL': [37, 50, 71, 13, 70, 82],\n  'REC_POP': [37, 71, 32, 50, 35, 82],\n  'REC_FEATURE': [37, 71, 35, 32, 50, 82]},\n 3084: {'REAL': [9, 35, 71],\n  'REC_POP': [9, 82, 71],\n  'REC_FEATURE': [9, 82, 71]},\n 3091: {'REAL': [22, 9, 18, 50],\n  'REC_POP': [22, 71, 82, 50],\n  'REC_FEATURE': [22, 71, 82, 50]},\n 3092: {'REAL': [71, 50, 70],\n  'REC_POP': [71, 82, 70],\n  'REC_FEATURE': [71, 82, 70]},\n 3094: {'REAL': [9, 32, 18],\n  'REC_POP': [9, 71, 18],\n  'REC_FEATURE': [9, 71, 18]},\n 3127: {'REAL': [50, 70, 39, 40, 48, 49],\n  'REC_POP': [50, 71, 82, 32, 35, 49],\n  'REC_FEATURE': [50, 71, 82, 81, 35, 49]},\n 3128: {'REAL': [19, 35, 32],\n  'REC_POP': [19, 71, 32],\n  'REC_FEATURE': [19, 84, 32]},\n 3134: {'REAL': [32, 14, 68],\n  'REC_POP': [32, 71, 68],\n  'REC_FEATURE': [32, 71, 68]},\n 3187: {'REAL': [2, 48, 47],\n  'REC_POP': [2, 71, 47],\n  'REC_FEATURE': [2, 71, 47]},\n 3201: {'REAL': [23, 32, 9],\n  'REC_POP': [23, 71, 9],\n  'REC_FEATURE': [23, 71, 9]},\n 3248: {'REAL': [81, 0, 31, 82, 50, 71, 70, 35, 32, 4, 41, 21, 40],\n  'REC_POP': [81, 71, 82, 32, 50, 35, 9, 45, 26, 41, 84, 22, 40],\n  'REC_FEATURE': [81, 71, 82, 50, 35, 44, 9, 45, 70, 68, 15, 2, 40]},\n 3271: {'REAL': [81, 43, 72, 35],\n  'REC_POP': [81, 71, 82, 35],\n  'REC_FEATURE': [81, 71, 82, 35]},\n 3274: {'REAL': [22, 21, 49],\n  'REC_POP': [22, 71, 49],\n  'REC_FEATURE': [22, 71, 49]},\n 3338: {'REAL': [35, 70, 17],\n  'REC_POP': [35, 71, 17],\n  'REC_FEATURE': [35, 71, 17]},\n 3354: {'REAL': [24, 84, 4],\n  'REC_POP': [24, 71, 4],\n  'REC_FEATURE': [24, 84, 4]},\n 3368: {'REAL': [45, 25, 82, 71, 35],\n  'REC_POP': [45, 71, 82, 32, 35],\n  'REC_FEATURE': [45, 71, 82, 50, 35]},\n 3370: {'REAL': [17, 8, 85],\n  'REC_POP': [17, 71, 85],\n  'REC_FEATURE': [17, 71, 85]},\n 3387: {'REAL': [50, 71, 31, 49, 33],\n  'REC_POP': [50, 71, 82, 32, 33],\n  'REC_FEATURE': [50, 71, 82, 81, 33]},\n 3391: {'REAL': [31, 81, 50],\n  'REC_POP': [31, 71, 50],\n  'REC_FEATURE': [31, 71, 50]},\n 3395: {'REAL': [44, 0, 71],\n  'REC_POP': [44, 82, 71],\n  'REC_FEATURE': [44, 82, 71]},\n 3398: {'REAL': [18, 50, 71, 23, 1, 13],\n  'REC_POP': [18, 71, 82, 32, 50, 13],\n  'REC_FEATURE': [18, 71, 82, 50, 35, 13]},\n 3408: {'REAL': [73, 38, 9, 32],\n  'REC_POP': [73, 71, 82, 32],\n  'REC_FEATURE': [73, 71, 84, 32]},\n 3417: {'REAL': [45, 82, 71],\n  'REC_POP': [45, 82, 71],\n  'REC_FEATURE': [45, 82, 71]},\n 3467: {'REAL': [35, 82, 71, 68, 57, 79, 41],\n  'REC_POP': [35, 71, 82, 32, 50, 9, 41],\n  'REC_FEATURE': [35, 71, 82, 50, 32, 9, 41]},\n 3468: {'REAL': [2, 70, 50, 15, 13, 32, 49],\n  'REC_POP': [2, 71, 82, 32, 50, 35, 49],\n  'REC_FEATURE': [2, 71, 82, 81, 50, 35, 49]},\n 3470: {'REAL': [81, 44, 45, 25, 46, 72],\n  'REC_POP': [81, 71, 82, 32, 50, 72],\n  'REC_FEATURE': [81, 71, 82, 50, 35, 72]},\n 3477: {'REAL': [39, 70, 50],\n  'REC_POP': [39, 71, 50],\n  'REC_FEATURE': [39, 71, 50]},\n 3478: {'REAL': [81, 50, 45],\n  'REC_POP': [81, 71, 45],\n  'REC_FEATURE': [81, 71, 45]},\n 3505: {'REAL': [25, 27, 81, 71],\n  'REC_POP': [25, 82, 32, 71],\n  'REC_FEATURE': [25, 82, 50, 71]},\n 3506: {'REAL': [32, 9, 23],\n  'REC_POP': [32, 71, 23],\n  'REC_FEATURE': [32, 71, 23]},\n 3513: {'REAL': [71, 50, 37],\n  'REC_POP': [71, 82, 37],\n  'REC_FEATURE': [71, 82, 37]},\n 3534: {'REAL': [23, 82, 74],\n  'REC_POP': [23, 71, 74],\n  'REC_FEATURE': [23, 71, 74]},\n 3568: {'REAL': [32, 9, 28],\n  'REC_POP': [32, 71, 28],\n  'REC_FEATURE': [32, 84, 28]},\n 3600: {'REAL': [31, 3, 11],\n  'REC_POP': [31, 71, 11],\n  'REC_FEATURE': [31, 71, 11]},\n 3607: {'REAL': [9, 8, 13],\n  'REC_POP': [9, 71, 13],\n  'REC_FEATURE': [9, 71, 13]},\n 3609: {'REAL': [75, 67, 81, 71, 50, 82, 9, 36],\n  'REC_POP': [75, 71, 82, 32, 50, 35, 9, 36],\n  'REC_FEATURE': [75, 71, 82, 81, 50, 35, 32, 36]},\n 3626: {'REAL': [71, 81, 45, 32, 50],\n  'REC_POP': [71, 82, 32, 35, 50],\n  'REC_FEATURE': [71, 82, 81, 35, 50]},\n 3659: {'REAL': [71, 82, 81, 45],\n  'REC_POP': [71, 82, 32, 45],\n  'REC_FEATURE': [71, 82, 81, 45]},\n 3665: {'REAL': [71, 2, 40],\n  'REC_POP': [71, 82, 40],\n  'REC_FEATURE': [71, 82, 40]},\n 3668: {'REAL': [17, 9, 39, 40, 82],\n  'REC_POP': [17, 71, 32, 50, 82],\n  'REC_FEATURE': [17, 71, 50, 35, 82]},\n 3671: {'REAL': [71, 69, 48, 84, 41, 19],\n  'REC_POP': [71, 82, 32, 50, 35, 19],\n  'REC_FEATURE': [71, 82, 50, 35, 81, 19]},\n 3729: {'REAL': [81, 82, 67, 63, 0, 44],\n  'REC_POP': [81, 71, 82, 32, 50, 44],\n  'REC_FEATURE': [81, 71, 82, 50, 45, 44]},\n 3735: {'REAL': [63, 55, 56],\n  'REC_POP': [63, 71, 56],\n  'REC_FEATURE': [63, 71, 56]},\n 3736: {'REAL': [84, 68, 25, 82, 71],\n  'REC_POP': [84, 82, 32, 50, 71],\n  'REC_FEATURE': [84, 82, 50, 32, 71]},\n 3745: {'REAL': [40, 11, 48, 2],\n  'REC_POP': [40, 71, 82, 2],\n  'REC_FEATURE': [40, 71, 35, 2]},\n 3747: {'REAL': [9, 22, 41],\n  'REC_POP': [9, 71, 41],\n  'REC_FEATURE': [9, 71, 41]},\n 3748: {'REAL': [75, 43, 49, 31, 81, 82],\n  'REC_POP': [75, 71, 32, 50, 35, 82],\n  'REC_FEATURE': [75, 71, 81, 50, 35, 82]},\n 3750: {'REAL': [31, 82, 71],\n  'REC_POP': [31, 82, 71],\n  'REC_FEATURE': [31, 82, 71]},\n 3751: {'REAL': [0, 31, 22],\n  'REC_POP': [0, 71, 22],\n  'REC_FEATURE': [0, 71, 22]},\n 3752: {'REAL': [9, 22, 81],\n  'REC_POP': [9, 71, 81],\n  'REC_FEATURE': [9, 71, 81]},\n 3757: {'REAL': [71, 82, 50, 70, 35],\n  'REC_POP': [71, 82, 32, 50, 35],\n  'REC_FEATURE': [71, 82, 50, 81, 35]},\n 3758: {'REAL': [32, 31, 23, 18, 35],\n  'REC_POP': [32, 71, 82, 50, 35],\n  'REC_FEATURE': [32, 71, 82, 50, 35]},\n 3761: {'REAL': [14, 17, 13, 35, 81, 71, 44, 31, 50, 15],\n  'REC_POP': [14, 71, 82, 32, 50, 35, 9, 81, 45, 15],\n  'REC_FEATURE': [14, 71, 82, 50, 35, 81, 9, 45, 32, 15]},\n 3762: {'REAL': [14, 50, 71, 81, 82],\n  'REC_POP': [14, 71, 32, 50, 82],\n  'REC_FEATURE': [14, 71, 50, 35, 82]},\n 3767: {'REAL': [50, 35, 40, 2, 51],\n  'REC_POP': [50, 71, 82, 32, 51],\n  'REC_FEATURE': [50, 71, 82, 35, 51]},\n 3771: {'REAL': [85, 46, 44],\n  'REC_POP': [85, 71, 44],\n  'REC_FEATURE': [85, 71, 44]},\n 3772: {'REAL': [84, 9, 35, 70, 15, 17],\n  'REC_POP': [84, 71, 82, 32, 50, 17],\n  'REC_FEATURE': [84, 71, 82, 32, 50, 17]},\n 3774: {'REAL': [56, 63, 55],\n  'REC_POP': [56, 71, 55],\n  'REC_FEATURE': [56, 71, 55]},\n 3775: {'REAL': [9, 35, 44, 75],\n  'REC_POP': [9, 71, 82, 75],\n  'REC_FEATURE': [9, 71, 82, 75]},\n 3811: {'REAL': [35, 50, 82, 41],\n  'REC_POP': [35, 71, 82, 41],\n  'REC_FEATURE': [35, 71, 82, 41]},\n 3844: {'REAL': [31, 25, 16],\n  'REC_POP': [31, 71, 16],\n  'REC_FEATURE': [31, 71, 16]},\n 3846: {'REAL': [70, 0, 4],\n  'REC_POP': [70, 71, 4],\n  'REC_FEATURE': [70, 71, 4]},\n 3868: {'REAL': [82, 50, 71],\n  'REC_POP': [82, 32, 71],\n  'REC_FEATURE': [82, 81, 71]},\n 3869: {'REAL': [31, 85, 27, 25, 36],\n  'REC_POP': [31, 71, 82, 32, 36],\n  'REC_FEATURE': [31, 71, 82, 81, 36]},\n 3878: {'REAL': [3, 71, 48],\n  'REC_POP': [3, 71, 48],\n  'REC_FEATURE': [3, 84, 48]},\n 3888: {'REAL': [7, 35, 70, 50],\n  'REC_POP': [7, 71, 82, 50],\n  'REC_FEATURE': [7, 71, 82, 50]},\n 3890: {'REAL': [27, 42, 38, 22, 41, 37, 9, 23, 8, 32],\n  'REC_POP': [27, 71, 82, 50, 35, 9, 81, 45, 26, 32],\n  'REC_FEATURE': [27, 71, 82, 50, 9, 45, 81, 35, 25, 32]},\n 3891: {'REAL': [40, 39, 68, 51],\n  'REC_POP': [40, 71, 82, 51],\n  'REC_FEATURE': [40, 71, 35, 51]},\n 3963: {'REAL': [18, 25, 4],\n  'REC_POP': [18, 71, 4],\n  'REC_FEATURE': [18, 71, 4]},\n 3977: {'REAL': [4, 25, 18],\n  'REC_POP': [4, 71, 18],\n  'REC_FEATURE': [4, 71, 18]},\n 4049: {'REAL': [19, 23, 32],\n  'REC_POP': [19, 71, 32],\n  'REC_FEATURE': [19, 84, 32]},\n 4053: {'REAL': [71, 68, 81],\n  'REC_POP': [71, 82, 81],\n  'REC_FEATURE': [71, 82, 81]},\n 4069: {'REAL': [23, 82, 71, 22, 3],\n  'REC_POP': [23, 71, 82, 32, 3],\n  'REC_FEATURE': [23, 71, 9, 82, 3]},\n 4085: {'REAL': [84, 15, 50],\n  'REC_POP': [84, 71, 50],\n  'REC_FEATURE': [84, 71, 50]},\n 4105: {'REAL': [82, 17, 13],\n  'REC_POP': [82, 71, 13],\n  'REC_FEATURE': [82, 71, 13]},\n 4106: {'REAL': [45, 15, 82, 71, 35, 70, 50],\n  'REC_POP': [45, 71, 82, 32, 35, 9, 50],\n  'REC_FEATURE': [45, 71, 82, 81, 35, 44, 50]},\n 4107: {'REAL': [81, 44, 45],\n  'REC_POP': [81, 71, 45],\n  'REC_FEATURE': [81, 71, 45]},\n 4108: {'REAL': [50, 81, 44],\n  'REC_POP': [50, 71, 44],\n  'REC_FEATURE': [50, 71, 44]},\n 4113: {'REAL': [82, 35, 71],\n  'REC_POP': [82, 32, 71],\n  'REC_FEATURE': [82, 81, 71]},\n 4121: {'REAL': [53, 36, 40],\n  'REC_POP': [53, 71, 40],\n  'REC_FEATURE': [53, 71, 40]},\n 4123: {'REAL': [35, 50, 9],\n  'REC_POP': [35, 71, 9],\n  'REC_FEATURE': [35, 71, 9]},\n 4124: {'REAL': [71, 43, 49, 81],\n  'REC_POP': [71, 82, 32, 81],\n  'REC_FEATURE': [71, 82, 50, 81]},\n 4126: {'REAL': [8, 35, 82, 50, 70],\n  'REC_POP': [8, 71, 82, 32, 70],\n  'REC_FEATURE': [8, 71, 82, 50, 70]},\n 4127: {'REAL': [71, 45, 50],\n  'REC_POP': [71, 82, 50],\n  'REC_FEATURE': [71, 82, 50]},\n 4129: {'REAL': [41, 32, 19, 73, 51, 35, 50],\n  'REC_POP': [41, 71, 82, 32, 35, 9, 50],\n  'REC_FEATURE': [41, 71, 82, 35, 32, 84, 50]},\n 4130: {'REAL': [68, 82, 45, 44],\n  'REC_POP': [68, 71, 82, 44],\n  'REC_FEATURE': [68, 71, 82, 44]},\n 4133: {'REAL': [41, 45, 82, 8],\n  'REC_POP': [41, 71, 82, 8],\n  'REC_FEATURE': [41, 71, 32, 8]},\n 4134: {'REAL': [45, 0, 44, 25, 31, 81, 82, 71, 50],\n  'REC_POP': [45, 71, 82, 32, 35, 9, 81, 41, 50],\n  'REC_FEATURE': [45, 71, 82, 81, 35, 44, 9, 15, 50]},\n 4141: {'REAL': [25, 51, 71, 81, 0, 31, 14],\n  'REC_POP': [25, 71, 82, 32, 50, 35, 14],\n  'REC_FEATURE': [25, 71, 82, 45, 50, 81, 14]},\n 4160: {'REAL': [71, 17, 70, 82],\n  'REC_POP': [71, 32, 50, 82],\n  'REC_FEATURE': [71, 50, 81, 82]},\n 4171: {'REAL': [71, 22, 3, 14, 81],\n  'REC_POP': [71, 82, 32, 50, 81],\n  'REC_FEATURE': [71, 82, 50, 35, 81]},\n 4182: {'REAL': [28, 32, 50],\n  'REC_POP': [28, 71, 50],\n  'REC_FEATURE': [28, 71, 50]},\n 4183: {'REAL': [33, 49, 13, 32],\n  'REC_POP': [33, 71, 82, 32],\n  'REC_FEATURE': [33, 71, 82, 32]},\n 4185: {'REAL': [31, 32, 71, 51, 46],\n  'REC_POP': [31, 71, 82, 32, 46],\n  'REC_FEATURE': [31, 71, 82, 81, 46]},\n 4198: {'REAL': [81, 44, 75, 49],\n  'REC_POP': [81, 71, 82, 49],\n  'REC_FEATURE': [81, 71, 82, 49]},\n 4199: {'REAL': [10, 78, 39, 40, 26],\n  'REC_POP': [10, 71, 82, 32, 26],\n  'REC_FEATURE': [10, 76, 71, 12, 26]},\n 4202: {'REAL': [32, 85, 31, 26],\n  'REC_POP': [32, 71, 82, 26],\n  'REC_FEATURE': [32, 71, 82, 26]},\n 4203: {'REAL': [40, 82, 84],\n  'REC_POP': [40, 71, 84],\n  'REC_FEATURE': [40, 71, 84]},\n 4204: {'REAL': [31, 23, 32, 9],\n  'REC_POP': [31, 71, 82, 9],\n  'REC_FEATURE': [31, 71, 82, 9]},\n 4205: {'REAL': [31, 37, 81, 35],\n  'REC_POP': [31, 71, 82, 35],\n  'REC_FEATURE': [31, 71, 82, 35]},\n 4206: {'REAL': [23, 8, 84, 22, 31],\n  'REC_POP': [23, 71, 82, 32, 31],\n  'REC_FEATURE': [23, 71, 82, 50, 31]},\n 4209: {'REAL': [24, 4, 84, 9, 22, 32, 18, 23, 15, 36],\n  'REC_POP': [24, 71, 82, 32, 50, 35, 9, 81, 45, 36],\n  'REC_FEATURE': [24, 84, 41, 32, 71, 22, 48, 9, 82, 36]},\n 4210: {'REAL': [48, 51, 32],\n  'REC_POP': [48, 71, 32],\n  'REC_FEATURE': [48, 71, 32]},\n 4211: {'REAL': [2, 35, 70, 9, 81, 82, 25],\n  'REC_POP': [2, 71, 82, 32, 50, 35, 25],\n  'REC_FEATURE': [2, 71, 82, 50, 35, 81, 25]},\n 4212: {'REAL': [32, 47, 14, 9, 18, 84, 36, 4],\n  'REC_POP': [32, 71, 82, 50, 35, 9, 81, 4],\n  'REC_FEATURE': [32, 71, 84, 41, 35, 82, 9, 4]},\n 4213: {'REAL': [37, 24, 10],\n  'REC_POP': [37, 71, 10],\n  'REC_FEATURE': [37, 71, 10]},\n 4214: {'REAL': [39, 69, 24, 85, 9],\n  'REC_POP': [39, 71, 82, 32, 9],\n  'REC_FEATURE': [39, 71, 35, 82, 9]},\n 4216: {'REAL': [9, 71, 81],\n  'REC_POP': [9, 71, 81],\n  'REC_FEATURE': [9, 71, 81]},\n 4217: {'REAL': [1, 47, 27, 81, 44, 45, 82, 13, 17, 0],\n  'REC_POP': [1, 71, 82, 32, 50, 35, 9, 81, 45, 0],\n  'REC_FEATURE': [1, 71, 82, 81, 45, 50, 85, 35, 32, 0]},\n 4219: {'REAL': [39, 2, 40, 51, 36, 37, 4, 41, 21],\n  'REC_POP': [39, 71, 82, 32, 50, 35, 9, 81, 21],\n  'REC_FEATURE': [39, 71, 82, 35, 50, 32, 9, 84, 21]},\n 4244: {'REAL': [32, 42, 11],\n  'REC_POP': [32, 71, 11],\n  'REC_FEATURE': [32, 71, 11]},\n 4245: {'REAL': [32, 71, 42, 11],\n  'REC_POP': [32, 71, 82, 11],\n  'REC_FEATURE': [32, 71, 84, 11]},\n 4257: {'REAL': [9, 71, 35],\n  'REC_POP': [9, 71, 35],\n  'REC_FEATURE': [9, 71, 35]},\n 4261: {'REAL': [71, 50, 15, 35, 23, 9, 68, 22, 41, 19, 16],\n  'REC_POP': [71, 82, 32, 50, 35, 9, 81, 45, 26, 41, 16],\n  'REC_FEATURE': [71, 82, 50, 35, 81, 32, 9, 84, 70, 45, 16]},\n 4290: {'REAL': [17, 13, 50, 70, 2, 40],\n  'REC_POP': [17, 71, 82, 32, 50, 40],\n  'REC_FEATURE': [17, 71, 82, 50, 35, 40]},\n 4314: {'REAL': [17, 14, 71],\n  'REC_POP': [17, 82, 71],\n  'REC_FEATURE': [17, 82, 71]},\n 4315: {'REAL': [17, 13, 11],\n  'REC_POP': [17, 71, 11],\n  'REC_FEATURE': [17, 71, 11]},\n 4316: {'REAL': [18, 13, 17, 32],\n  'REC_POP': [18, 71, 82, 32],\n  'REC_FEATURE': [18, 71, 82, 32]},\n 4328: {'REAL': [72, 39, 71],\n  'REC_POP': [72, 82, 71],\n  'REC_FEATURE': [72, 82, 71]},\n 4368: {'REAL': [27, 71, 50, 8],\n  'REC_POP': [27, 71, 82, 8],\n  'REC_FEATURE': [27, 71, 82, 8]},\n 4369: {'REAL': [82, 81, 28],\n  'REC_POP': [82, 71, 28],\n  'REC_FEATURE': [82, 71, 28]},\n 4372: {'REAL': [7, 84, 22, 82],\n  'REC_POP': [7, 71, 32, 82],\n  'REC_FEATURE': [7, 71, 50, 82]},\n 4375: {'REAL': [84, 9, 25],\n  'REC_POP': [84, 71, 25],\n  'REC_FEATURE': [84, 71, 25]},\n 4376: {'REAL': [73, 4, 3, 26],\n  'REC_POP': [73, 71, 82, 26],\n  'REC_FEATURE': [73, 71, 82, 26]},\n 4389: {'REAL': [9, 25, 82],\n  'REC_POP': [9, 71, 82],\n  'REC_FEATURE': [9, 71, 82]},\n 4396: {'REAL': [34, 31, 44, 25],\n  'REC_POP': [34, 71, 82, 25],\n  'REC_FEATURE': [34, 71, 82, 25]},\n 4399: {'REAL': [36, 41, 22],\n  'REC_POP': [36, 71, 22],\n  'REC_FEATURE': [36, 84, 22]},\n 4431: {'REAL': [50, 71, 82],\n  'REC_POP': [50, 71, 82],\n  'REC_FEATURE': [50, 71, 82]},\n 4436: {'REAL': [82, 81, 44, 45, 71, 68, 57, 79, 6, 78, 39, 35, 9, 32, 42],\n  'REC_POP': [82, 71, 32, 50, 35, 9, 81, 45, 41, 26, 84, 22, 15, 31, 42],\n  'REC_FEATURE': [82, 71, 50, 81, 35, 32, 9, 45, 84, 15, 44, 70, 13, 14, 42]},\n 4440: {'REAL': [32, 38, 85, 80],\n  'REC_POP': [32, 71, 82, 80],\n  'REC_FEATURE': [32, 71, 82, 80]},\n 4449: {'REAL': [85, 14, 27],\n  'REC_POP': [85, 71, 27],\n  'REC_FEATURE': [85, 71, 27]},\n 4450: {'REAL': [85, 32, 23, 84],\n  'REC_POP': [85, 71, 82, 84],\n  'REC_FEATURE': [85, 32, 71, 84]},\n 4454: {'REAL': [0, 31, 71],\n  'REC_POP': [0, 82, 71],\n  'REC_FEATURE': [0, 82, 71]},\n 4468: {'REAL': [46, 70, 35],\n  'REC_POP': [46, 71, 35],\n  'REC_FEATURE': [46, 71, 35]},\n 4472: {'REAL': [71, 36, 82, 21, 9, 45],\n  'REC_POP': [71, 82, 32, 50, 35, 45],\n  'REC_FEATURE': [71, 82, 81, 50, 35, 45]},\n 4621: {'REAL': [1, 53, 85],\n  'REC_POP': [1, 71, 85],\n  'REC_FEATURE': [1, 53, 85]},\n 4650: {'REAL': [36, 84, 16],\n  'REC_POP': [36, 71, 16],\n  'REC_FEATURE': [36, 84, 16]},\n 4682: {'REAL': [71, 50, 82],\n  'REC_POP': [71, 32, 82],\n  'REC_FEATURE': [71, 50, 82]},\n 4689: {'REAL': [50, 81, 82],\n  'REC_POP': [50, 71, 82],\n  'REC_FEATURE': [50, 71, 82]},\n 4698: {'REAL': [53, 82, 0],\n  'REC_POP': [53, 71, 0],\n  'REC_FEATURE': [53, 71, 0]},\n 4702: {'REAL': [57, 52, 81, 82],\n  'REC_POP': [57, 71, 32, 82],\n  'REC_FEATURE': [57, 71, 50, 82]},\n 4710: {'REAL': [13, 35, 21, 16],\n  'REC_POP': [13, 71, 82, 16],\n  'REC_FEATURE': [13, 71, 82, 16]},\n 4726: {'REAL': [32, 2, 5, 9, 8, 35, 39, 70],\n  'REC_POP': [32, 71, 82, 50, 35, 9, 81, 70],\n  'REC_FEATURE': [32, 71, 82, 35, 50, 9, 81, 70]},\n 4742: {'REAL': [76, 49, 81, 9],\n  'REC_POP': [76, 71, 82, 9],\n  'REC_FEATURE': [76, 71, 82, 9]},\n 4749: {'REAL': [19, 32, 8, 13, 0],\n  'REC_POP': [19, 71, 82, 32, 0],\n  'REC_FEATURE': [19, 71, 82, 32, 0]},\n 4783: {'REAL': [67, 25, 44],\n  'REC_POP': [67, 71, 44],\n  'REC_FEATURE': [67, 71, 44]},\n 4786: {'REAL': [61, 15, 82, 50, 71, 81, 44, 45, 25, 40, 21],\n  'REC_POP': [61, 71, 82, 32, 50, 35, 9, 81, 45, 41, 21],\n  'REC_FEATURE': [61, 47, 1, 84, 85, 32, 53, 71, 80, 82, 21]},\n 4790: {'REAL': [16, 84, 41],\n  'REC_POP': [16, 71, 41],\n  'REC_FEATURE': [16, 84, 41]},\n 4817: {'REAL': [11, 35, 9, 50, 44, 23],\n  'REC_POP': [11, 71, 82, 32, 50, 23],\n  'REC_FEATURE': [11, 71, 82, 32, 9, 23]},\n 4828: {'REAL': [35, 71, 50, 17, 41],\n  'REC_POP': [35, 71, 82, 32, 41],\n  'REC_FEATURE': [35, 71, 82, 50, 41]},\n 4832: {'REAL': [48, 19, 14, 27],\n  'REC_POP': [48, 71, 82, 27],\n  'REC_FEATURE': [48, 71, 82, 27]},\n 4842: {'REAL': [8, 18, 36, 24],\n  'REC_POP': [8, 71, 82, 24],\n  'REC_FEATURE': [8, 71, 82, 24]},\n 4849: {'REAL': [84, 22, 2],\n  'REC_POP': [84, 71, 2],\n  'REC_FEATURE': [84, 71, 2]},\n 4852: {'REAL': [50, 82, 81, 67, 63, 35],\n  'REC_POP': [50, 71, 82, 32, 9, 35],\n  'REC_FEATURE': [50, 71, 82, 81, 9, 35]},\n 4868: {'REAL': [14, 15, 9],\n  'REC_POP': [14, 71, 9],\n  'REC_FEATURE': [14, 71, 9]},\n 4885: {'REAL': [15, 17, 14, 85, 38],\n  'REC_POP': [15, 71, 82, 32, 38],\n  'REC_FEATURE': [15, 71, 82, 50, 38]},\n 4887: {'REAL': [69, 48, 3, 4],\n  'REC_POP': [69, 71, 82, 4],\n  'REC_FEATURE': [69, 84, 71, 4]},\n 4890: {'REAL': [5, 25, 45, 63, 2, 57, 71, 50, 15],\n  'REC_POP': [5, 71, 82, 32, 50, 35, 9, 81, 15],\n  'REC_FEATURE': [5, 71, 82, 81, 45, 50, 35, 44, 15]},\n 4902: {'REAL': [44, 31, 81],\n  'REC_POP': [44, 71, 81],\n  'REC_FEATURE': [44, 71, 81]},\n 4906: {'REAL': [32, 50, 71, 70],\n  'REC_POP': [32, 71, 82, 70],\n  'REC_FEATURE': [32, 71, 82, 70]},\n 4907: {'REAL': [16, 19, 85, 71, 50, 35, 70, 23, 9, 22, 84, 41, 4],\n  'REC_POP': [16, 71, 82, 32, 50, 35, 9, 81, 45, 26, 41, 84, 4],\n  'REC_FEATURE': [16, 84, 32, 41, 71, 22, 9, 82, 35, 50, 36, 48, 4]},\n 4915: {'REAL': [21, 32, 41, 25, 85, 80, 18, 71, 62],\n  'REC_POP': [21, 71, 82, 32, 50, 35, 9, 81, 62],\n  'REC_FEATURE': [21, 71, 82, 50, 32, 35, 84, 9, 62]},\n 4922: {'REAL': [50, 17, 13, 71],\n  'REC_POP': [50, 82, 32, 71],\n  'REC_FEATURE': [50, 82, 81, 71]},\n 4929: {'REAL': [85, 15, 80],\n  'REC_POP': [85, 71, 80],\n  'REC_FEATURE': [85, 1, 80]},\n 4935: {'REAL': [31, 29, 38],\n  'REC_POP': [31, 71, 38],\n  'REC_FEATURE': [31, 71, 38]},\n 4980: {'REAL': [50, 82, 71, 81, 84, 41],\n  'REC_POP': [50, 71, 82, 32, 35, 41],\n  'REC_FEATURE': [50, 71, 82, 35, 9, 41]},\n 4982: {'REAL': [71, 81, 45],\n  'REC_POP': [71, 82, 45],\n  'REC_FEATURE': [71, 82, 45]},\n 4983: {'REAL': [40, 51, 48, 85, 15, 35],\n  'REC_POP': [40, 71, 82, 32, 50, 35],\n  'REC_FEATURE': [40, 71, 82, 50, 9, 35]},\n 5047: {'REAL': [13, 70, 15, 10, 81, 82],\n  'REC_POP': [13, 71, 32, 50, 35, 82],\n  'REC_FEATURE': [13, 71, 50, 35, 81, 82]},\n 5049: {'REAL': [27, 46, 25],\n  'REC_POP': [27, 71, 25],\n  'REC_FEATURE': [27, 71, 25]},\n 5062: {'REAL': [84, 82, 50],\n  'REC_POP': [84, 71, 50],\n  'REC_FEATURE': [84, 71, 50]},\n 5064: {'REAL': [39, 45, 0, 49],\n  'REC_POP': [39, 71, 82, 49],\n  'REC_FEATURE': [39, 71, 82, 49]},\n 5065: {'REAL': [31, 50, 70, 71, 49],\n  'REC_POP': [31, 71, 82, 32, 49],\n  'REC_FEATURE': [31, 71, 82, 81, 49]},\n 5066: {'REAL': [72, 48, 24],\n  'REC_POP': [72, 71, 24],\n  'REC_FEATURE': [72, 71, 24]},\n 5067: {'REAL': [19, 16, 4, 24],\n  'REC_POP': [19, 71, 82, 24],\n  'REC_FEATURE': [19, 84, 32, 24]},\n 5070: {'REAL': [65, 84, 32],\n  'REC_POP': [65, 71, 32],\n  'REC_FEATURE': [65, 84, 32]},\n 5096: {'REAL': [47, 15, 85],\n  'REC_POP': [47, 71, 85],\n  'REC_FEATURE': [47, 1, 85]},\n 5101: {'REAL': [32, 53, 47],\n  'REC_POP': [32, 71, 47],\n  'REC_FEATURE': [32, 71, 47]}}"
     },
     "execution_count": 29,
     "metadata": {},
     "output_type": "execute_result"
    }
   ],
   "source": [
    "recdict_rank, recdict_tran, recdict_comb, recdict_rand, recdict_ijcai=load_results(2)\n",
    "recdict_rank"
   ],
   "metadata": {
    "collapsed": false,
    "pycharm": {
     "name": "#%%\n"
    }
   }
  },
  {
   "cell_type": "markdown",
   "metadata": {},
   "source": [
    "Calculate F1-scores from loaded results."
   ]
  },
  {
   "cell_type": "code",
   "execution_count": 15,
   "metadata": {},
   "outputs": [],
   "source": [
    "def calc_metrics(recdict_rank, recdict_tran, recdict_comb, recdict_rand, recdict_ijcai, func):\n",
    "    assert(isinstance(func, types.FunctionType) or isinstance(func, types.BuiltinFunctionType))\n",
    "    \n",
    "    # deal with missing values: \n",
    "    # get rid of recommendation that not all method are successful, due to ILP timeout.\n",
    "    assert(np.all(sorted(recdict_rank.keys()) == sorted(recdict_tran.keys())))\n",
    "    assert(np.all(sorted(recdict_rank.keys()) == sorted(recdict_comb.keys())))\n",
    "    \n",
    "    keys_all = sorted(recdict_ijcai.keys() & recdict_rank.keys())\n",
    "    \n",
    "    rank1 = []; rank2 = []\n",
    "    for key in keys_all:\n",
    "        rank1.append(func(recdict_rank[key]['REAL'], recdict_rank[key]['REC_POP']))\n",
    "        rank2.append(func(recdict_rank[key]['REAL'], recdict_rank[key]['REC_FEATURE']))\n",
    "    \n",
    "    tran1 = []; tran2 = []\n",
    "    for key in keys_all:\n",
    "        tran1.append(func(recdict_tran[key]['REAL'], recdict_tran[key]['REC_DP']))\n",
    "        tran2.append(func(recdict_tran[key]['REAL'], recdict_tran[key]['REC_ILP']))\n",
    "\n",
    "    comb1 = []; comb2 = []\n",
    "    for key in keys_all:\n",
    "        comb1.append(func(recdict_comb[key]['REAL'], recdict_comb[key]['REC_DP']))\n",
    "        comb2.append(func(recdict_comb[key]['REAL'], recdict_comb[key]['REC_ILP']))\n",
    "            \n",
    "    rand = []\n",
    "    for key in keys_all:\n",
    "        rand.append(func(recdict_rand[key]['REAL'], recdict_rand[key]['REC_RAND']))\n",
    "    \n",
    "    ijcai05T = []; ijcai05L = []\n",
    "    for key in keys_all:\n",
    "        ijcai05T.append(func(recdict_ijcai[key]['REAL'], recdict_ijcai[key]['REC05T']))\n",
    "        ijcai05L.append(func(recdict_ijcai[key]['REAL'], recdict_ijcai[key]['REC05L']))\n",
    "    \n",
    "    metrics = [rand, ijcai05T, ijcai05L, rank1, rank2, tran1, tran2, comb1, comb2]\n",
    "    means = [np.mean(x) for x in metrics]\n",
    "    stds  = [np.std(x)  for x in metrics]\n",
    "    \n",
    "    return means, stds, metrics"
   ]
  },
  {
   "cell_type": "code",
   "execution_count": 30,
   "outputs": [
    {
     "name": "stdout",
     "output_type": "stream",
     "text": [
      "393\n",
      "[0.6666666666666666, 0.75, 0.6666666666666666, 0.6666666666666666, 0.5, 0.375, 0.5, 0.75, 0.6666666666666666, 0.4000000000000001, 0.5, 0.6666666666666666, 0.4000000000000001, 0.6666666666666666, 0.6666666666666666, 0.6666666666666666, 0.4000000000000001, 0.6666666666666666, 0.6666666666666666, 0.6666666666666666, 0.2857142857142857, 0.6666666666666666, 0.5714285714285714, 0.75, 0.6666666666666666, 0.6666666666666666, 0.6666666666666666, 0.6666666666666666, 0.6666666666666666, 0.6666666666666666, 0.6666666666666666, 0.2222222222222222, 0.5, 0.20000000000000004, 1.0, 0.6666666666666666, 0.2857142857142857, 0.3333333333333333, 0.6666666666666666, 0.5, 0.6666666666666666, 0.6666666666666666, 0.6666666666666666, 0.6666666666666666, 0.6666666666666666, 0.6666666666666666, 0.6666666666666666, 0.6666666666666666, 0.6, 0.75, 0.6666666666666666, 0.5, 0.6666666666666666, 0.5, 0.3333333333333333, 0.375, 0.5, 0.6, 0.6666666666666666, 0.2857142857142857, 0.5, 0.25, 0.5, 0.6666666666666666, 0.6666666666666666, 0.75, 0.6666666666666666, 0.3333333333333333, 0.2857142857142857, 0.2222222222222222, 0.6666666666666666, 0.6, 0.5, 0.6666666666666666, 0.6666666666666666, 0.6666666666666666, 0.5, 0.6666666666666666, 0.18181818181818182, 0.5, 0.6666666666666666, 0.4000000000000001, 0.5, 0.4000000000000001, 0.6666666666666666, 0.5, 0.4000000000000001, 0.4000000000000001, 0.4000000000000001, 0.3333333333333333, 0.5, 0.6666666666666666, 0.6666666666666666, 0.75, 0.5, 0.5, 0.5, 0.25, 0.6666666666666666, 0.75, 0.75, 0.6666666666666666, 0.6666666666666666, 0.5, 0.6666666666666666, 0.5, 0.75, 0.6666666666666666, 0.75, 0.5, 0.6666666666666666, 0.6666666666666666, 0.5, 0.3333333333333333, 0.42857142857142855, 0.6, 0.4000000000000001, 0.4000000000000001, 0.3333333333333333, 0.2857142857142857, 0.5, 0.6666666666666666, 0.6666666666666666, 0.6666666666666666, 0.5, 1.0, 0.4000000000000001, 0.2857142857142857, 0.6666666666666666, 0.6666666666666666, 0.5, 0.6666666666666666, 0.6666666666666666, 0.6666666666666666, 0.6666666666666666, 0.4000000000000001, 0.6666666666666666, 0.375, 0.6666666666666666, 0.5, 0.75, 0.6666666666666666, 0.5, 0.5, 0.6666666666666666, 0.2857142857142857, 0.6666666666666666, 0.6666666666666666, 0.6666666666666666, 0.5, 0.75, 0.6666666666666666, 0.6666666666666666, 0.4444444444444444, 0.6666666666666666, 0.6666666666666666, 0.6666666666666666, 0.6666666666666666, 0.4000000000000001, 0.6666666666666666, 0.6666666666666666, 0.45454545454545453, 0.6666666666666666, 0.5, 0.6666666666666666, 0.6666666666666666, 0.6666666666666666, 0.42857142857142855, 0.6666666666666666, 0.75, 0.6666666666666666, 0.6666666666666666, 0.5, 0.6666666666666666, 0.6666666666666666, 0.6666666666666666, 0.6666666666666666, 0.6666666666666666, 0.25, 0.6666666666666666, 0.2857142857142857, 0.5, 0.6666666666666666, 0.6666666666666666, 0.6666666666666666, 0.75, 0.6666666666666666, 0.375, 0.36363636363636365, 0.5, 0.6666666666666666, 0.6666666666666666, 0.5, 0.6666666666666666, 0.6666666666666666, 0.6666666666666666, 0.4000000000000001, 0.4000000000000001, 0.25, 0.4000000000000001, 0.6666666666666666, 0.375, 0.6666666666666666, 0.6666666666666666, 0.5, 0.4000000000000001, 0.6666666666666666, 0.6666666666666666, 0.75, 0.6666666666666666, 0.5, 0.5, 0.6666666666666666, 0.6666666666666666, 0.5, 0.5714285714285714, 0.6666666666666666, 0.6666666666666666, 0.6666666666666666, 0.6666666666666666, 0.6666666666666666, 0.6666666666666666, 0.6, 0.6666666666666666, 0.5, 0.6666666666666666, 0.4000000000000001, 0.6666666666666666, 0.6666666666666666, 0.6666666666666666, 0.6666666666666666, 0.5, 0.6666666666666666, 0.75, 0.4000000000000001, 0.6666666666666666, 0.75, 0.6666666666666666, 0.5, 0.6666666666666666, 0.6666666666666666, 1.0, 0.6666666666666666, 0.6666666666666666, 0.6666666666666666, 0.5, 0.6666666666666666, 0.6666666666666666, 0.3333333333333333, 0.6666666666666666, 0.6666666666666666, 0.6666666666666666, 0.6666666666666666, 0.38461538461538464, 0.5, 0.6666666666666666, 0.6666666666666666, 0.6666666666666666, 0.8000000000000002, 0.6666666666666666, 0.6, 0.6666666666666666, 0.6666666666666666, 0.3333333333333333, 0.5, 0.6666666666666666, 0.2857142857142857, 0.42857142857142855, 0.3333333333333333, 0.6666666666666666, 0.6666666666666666, 0.5, 0.6666666666666666, 0.6666666666666666, 0.6666666666666666, 0.6666666666666666, 0.6666666666666666, 0.6666666666666666, 0.5, 0.4000000000000001, 0.5, 0.6666666666666666, 0.6, 0.3333333333333333, 0.5, 0.6666666666666666, 0.3333333333333333, 0.6666666666666666, 0.6666666666666666, 0.6666666666666666, 0.4000000000000001, 0.4000000000000001, 0.3, 0.4000000000000001, 0.75, 0.6666666666666666, 0.6666666666666666, 0.6666666666666666, 0.5, 0.5, 0.5, 0.6666666666666666, 0.6666666666666666, 0.6666666666666666, 0.6666666666666666, 0.6, 0.6666666666666666, 0.6666666666666666, 0.5714285714285714, 0.6666666666666666, 0.6666666666666666, 0.6666666666666666, 0.6666666666666666, 0.6666666666666666, 0.5, 0.6, 0.6666666666666666, 0.2857142857142857, 0.5, 0.5, 0.4444444444444444, 0.42857142857142855, 0.5, 0.4000000000000001, 0.6666666666666666, 0.5, 0.4000000000000001, 0.5, 0.6666666666666666, 0.20000000000000004, 0.3333333333333333, 0.6666666666666666, 1.0, 0.36363636363636365, 0.3333333333333333, 0.6666666666666666, 0.6666666666666666, 0.5, 0.6666666666666666, 0.75, 0.6666666666666666, 0.5, 0.6666666666666666, 0.5, 0.6666666666666666, 0.5, 0.6666666666666666, 0.6666666666666666, 0.5, 0.6666666666666666, 0.5, 0.6666666666666666, 0.6666666666666666, 0.5, 0.6666666666666666, 0.6666666666666666, 0.6666666666666666, 0.6666666666666666, 0.6666666666666666, 0.5, 0.5, 0.5, 0.4000000000000001, 0.6666666666666666, 0.36363636363636365, 0.6666666666666666, 0.5, 0.6, 0.5, 0.5, 0.6666666666666666, 0.3333333333333333, 0.6666666666666666, 0.4000000000000001, 0.5, 0.6666666666666666, 0.75, 0.5, 0.6666666666666666, 0.6666666666666666, 0.3333333333333333, 0.6666666666666666, 0.5, 0.3333333333333333, 0.6666666666666666, 0.6666666666666666, 0.5, 0.6, 0.6666666666666666, 0.5, 0.6666666666666666, 0.6666666666666666, 0.6666666666666666]\n"
     ]
    },
    {
     "name": "stderr",
     "output_type": "stream",
     "text": [
      "/var/folders/rk/dg37j05d3rnd6phqd90g_zj40000gn/T/ipykernel_66371/3005200209.py:10: DeprecationWarning: `np.bool` is a deprecated alias for the builtin `bool`. To silence this warning, use `bool` by itself. Doing this will not modify any behavior and is safe. If you specifically wanted the numpy scalar type, use `np.bool_` here.\n",
      "Deprecated in NumPy 1.20; for more details and guidance: https://numpy.org/devdocs/release/1.20.0-notes.html#deprecations\n",
      "  match_tags = np.zeros(len(traj_act), dtype=np.bool)\n"
     ]
    },
    {
     "data": {
      "text/plain": "{'whiskers': [<matplotlib.lines.Line2D at 0x7fbf328e8f10>,\n  <matplotlib.lines.Line2D at 0x7fbf328f6220>],\n 'caps': [<matplotlib.lines.Line2D at 0x7fbf328f64f0>,\n  <matplotlib.lines.Line2D at 0x7fbf328f67c0>],\n 'boxes': [<matplotlib.lines.Line2D at 0x7fbf328e8c40>],\n 'medians': [<matplotlib.lines.Line2D at 0x7fbf328f6a90>],\n 'fliers': [<matplotlib.lines.Line2D at 0x7fbf328f6d60>],\n 'means': []}"
     },
     "execution_count": 30,
     "metadata": {},
     "output_type": "execute_result"
    },
    {
     "data": {
      "text/plain": "<Figure size 432x288 with 1 Axes>",
      "image/png": "[encoded data removed]"
     },
     "metadata": {
      "needs_background": "light"
     },
     "output_type": "display_data"
    }
   ],
   "source": [
    "from matplotlib import pyplot as plt\n",
    "means, stds, metrics=calc_metrics(recdict_rank, recdict_tran, recdict_comb, recdict_rand, recdict_ijcai,calc_F1)\n",
    "print(len(metrics[2]))\n",
    "print(metrics[2])\n",
    "plt.boxplot(metrics[2])\n"
   ],
   "metadata": {
    "collapsed": false,
    "pycharm": {
     "name": "#%%\n"
    }
   }
  },
  {
   "cell_type": "markdown",
   "metadata": {},
   "source": [
    "Generate Latex tables from calculated metrics."
   ]
  },
  {
   "cell_type": "code",
   "execution_count": 24,
   "metadata": {},
   "outputs": [],
   "source": [
    "def gen_latex_table(mean_df, std_df, ismax_df, ismax2nd_df, title, label):    \n",
    "    strs = []\n",
    "    strs.append('\\\\begin{table*}[t]\\n')\n",
    "    strs.append('\\\\caption{' + title + '}\\n')\n",
    "    strs.append('\\\\label{' + label + '}\\n')\n",
    "    strs.append('\\\\centering\\n')\n",
    "    strs.append('\\\\begin{tabular}{l|' + (mean_df.shape[1])*'c' + '} \\\\hline\\n')\n",
    "    for col in mean_df.columns:\n",
    "        strs.append(' & ' + col)\n",
    "    strs.append(' \\\\\\\\ \\\\hline\\n')\n",
    "    for ix in mean_df.index:\n",
    "        for j in range(mean_df.shape[1]):\n",
    "            if j == 0: strs.append(ix + ' ')\n",
    "            jx = mean_df.columns[j]\n",
    "            strs.append('& $')\n",
    "            if ismax_df.loc[ix, jx] == True: strs.append('\\\\mathbf{')\n",
    "            if ismax2nd_df.loc[ix, jx] == True: strs.append('\\\\mathit{')\n",
    "            strs.append('%.3f' % mean_df.loc[ix, jx] + '\\\\pm' + '%.3f' % std_df.loc[ix, jx])\n",
    "            if ismax_df.loc[ix, jx] == True or ismax2nd_df.loc[ix, jx] == True: strs.append('}')\n",
    "            strs.append('$ ')\n",
    "        strs.append('\\\\\\\\\\n')\n",
    "    strs.append('\\\\hline\\n')\n",
    "    strs.append('\\\\end{tabular}\\n')\n",
    "    strs.append('\\\\end{table*}\\n')\n",
    "    return ''.join(strs)"
   ]
  },
  {
   "cell_type": "markdown",
   "metadata": {},
   "source": [
    "Generate evaluation data tables."
   ]
  },
  {
   "cell_type": "code",
   "execution_count": 25,
   "metadata": {},
   "outputs": [],
   "source": [
    "#func = calc_F1\n",
    "func = calc_pairsF1"
   ]
  },
  {
   "cell_type": "code",
   "execution_count": 26,
   "outputs": [
    {
     "name": "stdout",
     "output_type": "stream",
     "text": [
      "\\begin{table*}[t]\n",
      "\\caption{Performance comparison on five datasets in terms of pairs-F$_1$ scores.\n",
      "    The best method for each dataset (i.e., a column) is shown in bold, the second best is shown in italic.}\n",
      "\\label{tab:pairf1}\n",
      "\\centering\n",
      "\\begin{tabular}{l|ccccc} \\hline\n",
      " & Edinburgh & Glasgow & Melbourne & Osaka & Toronto \\\\ \\hline\n",
      "\\textsc{Random} & $0.266\\pm0.138$ & $0.298\\pm0.136$ & $0.246\\pm0.140$ & $0.315\\pm0.127$ & $0.295\\pm0.144$ \\\\\n",
      "\\textsc{PersTour} & $0.417\\pm0.343$ & $\\mathbf{0.643\\pm0.366}$ & $0.216\\pm0.265$ & $0.468\\pm0.376$ & $0.504\\pm0.354$ \\\\\n",
      "\\textsc{PersTour-L} & $0.359\\pm0.207$ & $0.352\\pm0.162$ & $0.266\\pm0.140$ & $0.406\\pm0.238$ & $0.333\\pm0.163$ \\\\\n",
      "\\textsc{PoiPopularity} & $\\mathit{0.436\\pm0.259}$ & $0.507\\pm0.298$ & $0.316\\pm0.178$ & $0.365\\pm0.190$ & $0.384\\pm0.201$ \\\\\n",
      "\\textsc{PoiRank} & $0.432\\pm0.250$ & $\\mathit{0.552\\pm0.313}$ & $0.336\\pm0.198$ & $\\mathbf{0.511\\pm0.309}$ & $\\mathbf{0.517\\pm0.295}$ \\\\\n",
      "\\textsc{Markov} & $0.417\\pm0.248$ & $0.495\\pm0.296$ & $0.288\\pm0.195$ & $0.445\\pm0.266$ & $0.407\\pm0.241$ \\\\\n",
      "\\textsc{MarkovPath} & $0.399\\pm0.235$ & $0.491\\pm0.297$ & $0.297\\pm0.193$ & $0.442\\pm0.260$ & $0.406\\pm0.230$ \\\\\n",
      "\\textsc{Rank+Markov} & $\\mathbf{0.445\\pm0.264}$ & $0.531\\pm0.301$ & $\\mathbf{0.344\\pm0.215}$ & $0.492\\pm0.292$ & $0.511\\pm0.302$ \\\\\n",
      "\\textsc{Rank+MarkovPath} & $0.428\\pm0.248$ & $0.521\\pm0.298$ & $\\mathit{0.338\\pm0.205}$ & $\\mathit{0.498\\pm0.293}$ & $\\mathit{0.513\\pm0.297}$ \\\\\n",
      "\\hline\n",
      "\\end{tabular}\n",
      "\\end{table*}\n",
      "\n"
     ]
    }
   ],
   "source": [
    "methods = methods_all.copy()\n",
    "\n",
    "mean_df = pd.DataFrame(data=np.zeros((len(methods), len(dat_names)), dtype=float), \\\n",
    "                       columns=dat_names, index=methods)\n",
    "std_df  = pd.DataFrame(data=np.zeros((len(methods), len(dat_names)), dtype=float), \\\n",
    "                       columns=dat_names, index=methods)\n",
    "\n",
    "for dat_ix in range(len(dat_suffix)):\n",
    "    recdict_rank, recdict_tran, recdict_comb, recdict_rand, recdict_ijcai = load_results(dat_ix)\n",
    "    means, stds = calc_metrics(recdict_rank, recdict_tran, recdict_comb, recdict_rand, recdict_ijcai, func)\n",
    "    assert(len(means) == len(stds) == len(methods))\n",
    "    mean_df[dat_names[dat_ix]] = means\n",
    "    std_df[dat_names[dat_ix]]  = stds\n",
    "\n",
    "ismax_df = pd.DataFrame(data=np.zeros(mean_df.shape, dtype=bool), columns=mean_df.columns, index=mean_df.index)\n",
    "ismax2nd_df = ismax_df.copy()\n",
    "for col in ismax_df.columns:\n",
    "    indices = (-mean_df[col]).argsort().values[:2]\n",
    "    ismax_df.iloc[indices[0]][col] = True\n",
    "    ismax2nd_df.iloc[indices[1]][col] = True\n",
    "\n",
    "if func == calc_F1:\n",
    "    title = '''Performance comparison on five datasets in terms of F$_1$ scores.\n",
    "    The best method for each dataset (i.e., a column) is shown in bold, the second best is shown in italic.'''\n",
    "    label = 'tab:f1'\n",
    "else:\n",
    "    title = '''Performance comparison on five datasets in terms of pairs-F$_1$ scores.\n",
    "    The best method for each dataset (i.e., a column) is shown in bold, the second best is shown in italic.'''\n",
    "    label = 'tab:pairf1'\n",
    "strs = gen_latex_table(mean_df, std_df, ismax_df, ismax2nd_df, title, label)\n",
    "\n",
    "print(strs)"
   ],
   "metadata": {
    "collapsed": false,
    "pycharm": {
     "name": "#%%\n"
    }
   }
  }
 ],
 "metadata": {
  "kernelspec": {
   "display_name": "Python 3 (ipykernel)",
   "language": "python",
   "name": "python3"
  },
  "language_info": {
   "codemirror_mode": {
    "name": "ipython",
    "version": 3
   },
   "file_extension": ".py",
   "mimetype": "text/x-python",
   "name": "python",
   "nbconvert_exporter": "python",
   "pygments_lexer": "ipython3",
   "version": "3.8.10"
  }
 },
 "nbformat": 4,
 "nbformat_minor": 1
}