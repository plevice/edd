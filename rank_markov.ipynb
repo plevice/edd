{
 "cells": [
  {
   "cell_type": "markdown",
   "metadata": {
    "collapsed": true
   },
   "source": [
    "# Trajectory Recommendation using RankSVM and Factorised Markov Chain"
   ]
  },
  {
   "cell_type": "markdown",
   "metadata": {},
   "source": [
    "<a id='toc'></a>"
   ]
  },
  {
   "cell_type": "markdown",
   "metadata": {},
   "source": [
    "[Table of Contents](#toc)\n",
    "1. [Preprocess Dataset](#1.-Preprocess-Dataset)\n",
    "  1. [Load Data](#1.1-Load-Data)\n",
    "  1. [Utility Functions](#1.2-Utility-Functions)\n",
    "1. [POI Ranking](#2.-POI-Ranking)\n",
    "  1. [POI Features for Ranking](#2.1-POI-Features-for-Ranking)\n",
    "  1. [Training DataFrame](#2.2-Training-DataFrame)\n",
    "  1. [Test DataFrame](#2.3-Test-DataFrame)\n",
    "  1. [Ranking POIs using rankSVM](#2.4-Ranking-POIs-using-rankSVM)\n",
    "1. [Factorised Transition Probabilities between POIs](#3.-Factorised-Transition-Probabilities-between-POIs)\n",
    "  1. [POI Features for Factorisation](#3.1-POI-Features-for-Factorisation)\n",
    "  1. [Transition Matrix between POI Cateogries](#3.2-Transition-Matrix-between-POI-Cateogries)\n",
    "  1. [Transition Matrix between POI Popularity Classes](#3.3-Transition-Matrix-between-POI-Popularity-Classes)\n",
    "  1. [Transition Matrix between the Number of POI Visit Classes](#3.4-Transition-Matrix-between-the-Number-of-POI-Visit-Classes)\n",
    "  1. [Transition Matrix between POI Average Visit Duration Classes](#3.5-Transition-Matrix-between-POI-Average-Visit-Duration-Classes)\n",
    "  1. [Transition Matrix between POI Neighborhood Classes](#3.6-Transition-Matrix-between-POI-Neighborhood-Classes)\n",
    "  1. [Visualise Transition Matrices for Individual Features](#3.7-Visualise-Transition-Matrices-for-Individual-Features)\n",
    "  1. [Transition Matrix between POIs](#3.8-Transition-Matrix-between-POIs)\n",
    "1. [Trajectory Recommendation - Leave-one-out Evaluation](#4.-Trajectory-Recommendation---Leave-one-out-Evaluation)\n",
    "1. [Random Guessing](#5.-Random-Guessing)"
   ]
  },
  {
   "cell_type": "markdown",
   "metadata": {},
   "source": [
    "**Usage: **\n",
    "1. Install [RankSVM implementation](https://www.csie.ntu.edu.tw/~cjlin/libsvmtools/#large_scale_ranksvm) and assign the directory/path to variable `ranksvm_dir`.\n",
    "1. Install Python modules imported by this notebook.\n",
    "1. Please change the value of index variable `dat_ix` (feasible values: `0, 1, 2, 3, 4`) to run this notebook on different dataset, results (.pkl file) will be saved in directory indicated by variable `data_dir`. "
   ]
  },
  {
   "cell_type": "markdown",
   "metadata": {},
   "source": [
    "# 1. Preprocess Dataset"
   ]
  },
  {
   "cell_type": "code",
   "execution_count": 1,
   "metadata": {},
   "outputs": [],
   "source": [
    "# % matplotlib inline\n",
    "\n",
    "import os, sys, time, pickle, tempfile\n",
    "import math, random, itertools\n",
    "import pandas as pd\n",
    "import numpy as np\n",
    "from scipy.linalg import kron\n",
    "\n",
    "import matplotlib.pyplot as plt\n",
    "# import seaborn as sns\n",
    "\n",
    "from sklearn.cluster import KMeans\n",
    "from joblib import Parallel, delayed\n",
    "import cython\n",
    "import pulp\n",
    "\n",
    "#import setuptools\n"
   ]
  },
  {
   "cell_type": "code",
   "execution_count": 2,
   "metadata": {},
   "outputs": [],
   "source": [
    "random.seed(555)\n",
    "np.random.seed(555)\n",
    "LOG_SMALL = -10\n",
    "LOG_ZERO = -1000\n",
    "ranksvm_dir = 'liblinear-ranksvm-2.11'  # directory that contains rankSVM binaries: train, predict, svm-scale"
   ]
  },
  {
   "cell_type": "code",
   "execution_count": 3,
   "metadata": {},
   "outputs": [],
   "source": [
    "data_dir = 'data'\n",
    "dat_suffix = ['Osak', 'Glas', 'Edin', 'Toro', 'Melb']"
   ]
  },
  {
   "cell_type": "code",
   "execution_count": 4,
   "metadata": {},
   "outputs": [],
   "source": [
    "dat_ix = 4 # 0 done, 1 done, 2 done (more than 14h!!),3 done (4h), 4 had to qui"
   ]
  },
  {
   "cell_type": "code",
   "execution_count": 5,
   "outputs": [
    {
     "name": "stdout",
     "output_type": "stream",
     "text": [
      "COPYRIGHT         bodyfat_scale_qid predict.c         \u001B[31mtrain\u001B[m\u001B[m\r\n",
      "Makefile          linear.cpp        ranksvm.cpp       train.c\r\n",
      "Makefile.win      linear.def        ranksvm.h         tron.cpp\r\n",
      "README            linear.h          ranksvm.o         tron.h\r\n",
      "README.ranksvm    linear.o          \u001B[31msvm-scale\u001B[m\u001B[m         tron.o\r\n",
      "\u001B[34mblas\u001B[m\u001B[m              \u001B[31mpredict\u001B[m\u001B[m           svm-scale.c\r\n"
     ]
    }
   ],
   "source": [
    "#Tobi\n",
    "#Tobi\n",
    "!ls liblinear-ranksvm-2.11"
   ],
   "metadata": {
    "collapsed": false,
    "pycharm": {
     "name": "#%%\n"
    }
   }
  },
  {
   "cell_type": "markdown",
   "metadata": {},
   "source": [
    "Hyperparameters."
   ]
  },
  {
   "cell_type": "code",
   "execution_count": 6,
   "metadata": {},
   "outputs": [],
   "source": [
    "ALPHA_SET = [0.1, 0.3, 0.5, 0.7, 0.9]  # trade-off parameters"
   ]
  },
  {
   "cell_type": "code",
   "execution_count": 7,
   "metadata": {},
   "outputs": [],
   "source": [
    "BIN_CLUSTER = 5  # discritization parameter"
   ]
  },
  {
   "cell_type": "code",
   "execution_count": 8,
   "metadata": {},
   "outputs": [],
   "source": [
    "RANKSVM_COST = 10  # RankSVM regularisation constant\n",
    "N_JOBS = 4         # number of parallel jobs\n",
    "USE_GUROBI = False # whether to use GUROBI as ILP solver"
   ]
  },
  {
   "cell_type": "markdown",
   "metadata": {},
   "source": [
    "Method switches."
   ]
  },
  {
   "cell_type": "code",
   "execution_count": 9,
   "metadata": {},
   "outputs": [],
   "source": [
    "run_rank = True\n",
    "run_tran = False\n",
    "run_comb = False\n",
    "run_rand = False"
   ]
  },
  {
   "cell_type": "markdown",
   "metadata": {},
   "source": [
    "Generate results filenames."
   ]
  },
  {
   "cell_type": "code",
   "execution_count": 10,
   "metadata": {},
   "outputs": [],
   "source": [
    "def gen_fname(dat_ix):\n",
    "    assert(0 <= dat_ix < len(dat_suffix))\n",
    "    \n",
    "    suffix = dat_suffix[dat_ix] + '.pkl'\n",
    "    \n",
    "    frank = os.path.join(data_dir, 'rank-' + suffix)\n",
    "    ftran = os.path.join(data_dir, 'tran-' + suffix)\n",
    "    fcomb = os.path.join(data_dir, 'comb-' + suffix)\n",
    "    frand = os.path.join(data_dir, 'rand-' + suffix)\n",
    "    return frank, ftran, fcomb, frand"
   ]
  },
  {
   "cell_type": "code",
   "execution_count": 11,
   "metadata": {},
   "outputs": [
    {
     "name": "stdout",
     "output_type": "stream",
     "text": [
      "data/rank-Melb.pkl\n",
      "data/tran-Melb.pkl\n",
      "data/comb-Melb.pkl\n",
      "data/rand-Melb.pkl\n"
     ]
    }
   ],
   "source": [
    "frecdict_rank, frecdict_tran, frecdict_comb, frecdict_rand = gen_fname(dat_ix)\n",
    "print(frecdict_rank)\n",
    "print(frecdict_tran)\n",
    "print(frecdict_comb)\n",
    "print(frecdict_rand)"
   ]
  },
  {
   "cell_type": "markdown",
   "metadata": {},
   "source": [
    "## 1.1 Load Data"
   ]
  },
  {
   "cell_type": "code",
   "execution_count": 12,
   "metadata": {},
   "outputs": [],
   "source": [
    "fpoi = os.path.join(data_dir, 'poi-' + dat_suffix[dat_ix] + '.csv')"
   ]
  },
  {
   "cell_type": "code",
   "execution_count": 13,
   "metadata": {},
   "outputs": [
    {
     "data": {
      "text/plain": "               poiCat    poiLat     poiLon\npoiID                                     \n0      City precincts -37.82167  144.96778\n1      City precincts -37.81700  144.94600\n2      City precincts -37.81190  144.97300\n3      City precincts -37.79972  144.96694\n4      City precincts -37.80778  144.96333",
      "text/html": "<div>\n<style scoped>\n    .dataframe tbody tr th:only-of-type {\n        vertical-align: middle;\n    }\n\n    .dataframe tbody tr th {\n        vertical-align: top;\n    }\n\n    .dataframe thead th {\n        text-align: right;\n    }\n</style>\n<table border=\"1\" class=\"dataframe\">\n  <thead>\n    <tr style=\"text-align: right;\">\n      <th></th>\n      <th>poiCat</th>\n      <th>poiLat</th>\n      <th>poiLon</th>\n    </tr>\n    <tr>\n      <th>poiID</th>\n      <th></th>\n      <th></th>\n      <th></th>\n    </tr>\n  </thead>\n  <tbody>\n    <tr>\n      <th>0</th>\n      <td>City precincts</td>\n      <td>-37.82167</td>\n      <td>144.96778</td>\n    </tr>\n    <tr>\n      <th>1</th>\n      <td>City precincts</td>\n      <td>-37.81700</td>\n      <td>144.94600</td>\n    </tr>\n    <tr>\n      <th>2</th>\n      <td>City precincts</td>\n      <td>-37.81190</td>\n      <td>144.97300</td>\n    </tr>\n    <tr>\n      <th>3</th>\n      <td>City precincts</td>\n      <td>-37.79972</td>\n      <td>144.96694</td>\n    </tr>\n    <tr>\n      <th>4</th>\n      <td>City precincts</td>\n      <td>-37.80778</td>\n      <td>144.96333</td>\n    </tr>\n  </tbody>\n</table>\n</div>"
     },
     "execution_count": 13,
     "metadata": {},
     "output_type": "execute_result"
    }
   ],
   "source": [
    "poi_all = pd.read_csv(fpoi)\n",
    "poi_all.set_index('poiID', inplace=True)\n",
    "poi_all.head()"
   ]
  },
  {
   "cell_type": "code",
   "execution_count": 14,
   "metadata": {},
   "outputs": [],
   "source": [
    "ftraj = os.path.join(data_dir, 'traj-' + dat_suffix[dat_ix] + '.csv')"
   ]
  },
  {
   "cell_type": "code",
   "execution_count": 15,
   "outputs": [
    {
     "data": {
      "text/plain": "'data/traj-Melb.csv'"
     },
     "execution_count": 15,
     "metadata": {},
     "output_type": "execute_result"
    }
   ],
   "source": [
    "#Tobi:\n",
    "ftraj"
   ],
   "metadata": {
    "collapsed": false,
    "pycharm": {
     "name": "#%%\n"
    }
   }
  },
  {
   "cell_type": "code",
   "execution_count": 16,
   "metadata": {},
   "outputs": [
    {
     "data": {
      "text/plain": "         userID  trajID  poiID   startTime     endTime  #photo  trajLen  \\\n0  10058801@N06       0     25  1226726126  1226726126       1        1   \n1  10087938@N02       1     58  1205332532  1205332541       2        2   \n2  10087938@N02       1     66  1205342722  1205342729       2        2   \n3  10087938@N02       2     59  1205374109  1205374109       1        1   \n4  10087938@N02       3     58  1205417265  1205417265       1        1   \n\n   poiDuration  \n0            0  \n1            9  \n2            7  \n3            0  \n4            0  ",
      "text/html": "<div>\n<style scoped>\n    .dataframe tbody tr th:only-of-type {\n        vertical-align: middle;\n    }\n\n    .dataframe tbody tr th {\n        vertical-align: top;\n    }\n\n    .dataframe thead th {\n        text-align: right;\n    }\n</style>\n<table border=\"1\" class=\"dataframe\">\n  <thead>\n    <tr style=\"text-align: right;\">\n      <th></th>\n      <th>userID</th>\n      <th>trajID</th>\n      <th>poiID</th>\n      <th>startTime</th>\n      <th>endTime</th>\n      <th>#photo</th>\n      <th>trajLen</th>\n      <th>poiDuration</th>\n    </tr>\n  </thead>\n  <tbody>\n    <tr>\n      <th>0</th>\n      <td>10058801@N06</td>\n      <td>0</td>\n      <td>25</td>\n      <td>1226726126</td>\n      <td>1226726126</td>\n      <td>1</td>\n      <td>1</td>\n      <td>0</td>\n    </tr>\n    <tr>\n      <th>1</th>\n      <td>10087938@N02</td>\n      <td>1</td>\n      <td>58</td>\n      <td>1205332532</td>\n      <td>1205332541</td>\n      <td>2</td>\n      <td>2</td>\n      <td>9</td>\n    </tr>\n    <tr>\n      <th>2</th>\n      <td>10087938@N02</td>\n      <td>1</td>\n      <td>66</td>\n      <td>1205342722</td>\n      <td>1205342729</td>\n      <td>2</td>\n      <td>2</td>\n      <td>7</td>\n    </tr>\n    <tr>\n      <th>3</th>\n      <td>10087938@N02</td>\n      <td>2</td>\n      <td>59</td>\n      <td>1205374109</td>\n      <td>1205374109</td>\n      <td>1</td>\n      <td>1</td>\n      <td>0</td>\n    </tr>\n    <tr>\n      <th>4</th>\n      <td>10087938@N02</td>\n      <td>3</td>\n      <td>58</td>\n      <td>1205417265</td>\n      <td>1205417265</td>\n      <td>1</td>\n      <td>1</td>\n      <td>0</td>\n    </tr>\n  </tbody>\n</table>\n</div>"
     },
     "execution_count": 16,
     "metadata": {},
     "output_type": "execute_result"
    }
   ],
   "source": [
    "traj_all = pd.read_csv(ftraj)\n",
    "traj_all.head()"
   ]
  },
  {
   "cell_type": "code",
   "execution_count": 17,
   "metadata": {},
   "outputs": [
    {
     "data": {
      "text/plain": "      #user  #poi  #traj  #traj/user\nMelb   1000    85   5106       5.106",
      "text/html": "<div>\n<style scoped>\n    .dataframe tbody tr th:only-of-type {\n        vertical-align: middle;\n    }\n\n    .dataframe tbody tr th {\n        vertical-align: top;\n    }\n\n    .dataframe thead th {\n        text-align: right;\n    }\n</style>\n<table border=\"1\" class=\"dataframe\">\n  <thead>\n    <tr style=\"text-align: right;\">\n      <th></th>\n      <th>#user</th>\n      <th>#poi</th>\n      <th>#traj</th>\n      <th>#traj/user</th>\n    </tr>\n  </thead>\n  <tbody>\n    <tr>\n      <th>Melb</th>\n      <td>1000</td>\n      <td>85</td>\n      <td>5106</td>\n      <td>5.106</td>\n    </tr>\n  </tbody>\n</table>\n</div>"
     },
     "execution_count": 17,
     "metadata": {},
     "output_type": "execute_result"
    }
   ],
   "source": [
    "num_user = traj_all['userID'].unique().shape[0]\n",
    "num_poi = traj_all['poiID'].unique().shape[0]\n",
    "num_traj = traj_all['trajID'].unique().shape[0]\n",
    "pd.DataFrame({'#user': num_user, '#poi': num_poi, '#traj': num_traj, '#traj/user': num_traj/num_user}, \\\n",
    "             index=[str(dat_suffix[dat_ix])])"
   ]
  },
  {
   "cell_type": "markdown",
   "metadata": {},
   "source": [
    "Distribution of the number of POIs in trajectories."
   ]
  },
  {
   "cell_type": "code",
   "execution_count": 18,
   "metadata": {},
   "outputs": [
    {
     "data": {
      "text/plain": "Text(0, 0.5, '#Trajectories')"
     },
     "execution_count": 18,
     "metadata": {},
     "output_type": "execute_result"
    },
    {
     "data": {
      "text/plain": "<Figure size 432x288 with 1 Axes>",
      "image/png": "[encoded data removed]"
     },
     "metadata": {
      "needs_background": "light"
     },
     "output_type": "display_data"
    }
   ],
   "source": [
    "ax = traj_all['trajLen'].hist(bins=20)\n",
    "ax.set_yscale('log')\n",
    "ax.set_xlabel('#POIs in trajectory'); ax.set_ylabel('#Trajectories')"
   ]
  },
  {
   "cell_type": "markdown",
   "metadata": {},
   "source": [
    "Distribution of POI visit duration."
   ]
  },
  {
   "cell_type": "code",
   "execution_count": 19,
   "metadata": {},
   "outputs": [
    {
     "data": {
      "text/plain": "Text(0, 0.5, '#POI visits')"
     },
     "execution_count": 19,
     "metadata": {},
     "output_type": "execute_result"
    },
    {
     "data": {
      "text/plain": "<Figure size 432x288 with 1 Axes>",
      "image/png": "[encoded data removed]"
     },
     "metadata": {
      "needs_background": "light"
     },
     "output_type": "display_data"
    }
   ],
   "source": [
    "ax = traj_all['poiDuration'].hist(bins=20)\n",
    "ax.set_xscale('log')\n",
    "ax.set_yscale('log')\n",
    "ax.set_xlabel('POI visit duration (sec)'); ax.set_ylabel('#POI visits')"
   ]
  },
  {
   "cell_type": "code",
   "execution_count": 20,
   "outputs": [
    {
     "data": {
      "text/plain": "Text(0, 0.5, '#POI visits')"
     },
     "execution_count": 20,
     "metadata": {},
     "output_type": "execute_result"
    },
    {
     "data": {
      "text/plain": "<Figure size 432x288 with 1 Axes>",
      "image/png": "[encoded data removed]"
     },
     "metadata": {
      "needs_background": "light"
     },
     "output_type": "display_data"
    }
   ],
   "source": [
    "#Tobi:\n",
    "#Distribution makes zero sense in this way\n",
    "#Better this way:\n",
    "ax = traj_all['poiDuration'].hist(bins=15)\n",
    "ax.set_xlabel('POI visit duration (sec)'); ax.set_ylabel('#POI visits')\n",
    "\n",
    "#many 0 values -> why? I guess duration is calculated from photos\n",
    "# if you take only 1 photo (start and endtime are the same)"
   ],
   "metadata": {
    "collapsed": false,
    "pycharm": {
     "name": "#%%\n"
    }
   }
  },
  {
   "cell_type": "markdown",
   "metadata": {},
   "source": [
    "## 1.2 Utility Functions"
   ]
  },
  {
   "cell_type": "markdown",
   "metadata": {},
   "source": [
    "Print computing progress."
   ]
  },
  {
   "cell_type": "code",
   "execution_count": 21,
   "metadata": {},
   "outputs": [],
   "source": [
    "def print_progress(cnt, total):\n",
    "    \"\"\"Display a progress bar\"\"\"\n",
    "    assert(cnt > 0 and total > 0 and cnt <= total)\n",
    "    length = 80\n",
    "    ratio = cnt / total\n",
    "    n = int(length * ratio)\n",
    "    sys.stdout.write('\\r[%-80s] %d%%' % ('-'*n, int(ratio*100)))\n",
    "    sys.stdout.flush()"
   ]
  },
  {
   "cell_type": "markdown",
   "metadata": {},
   "source": [
    "Extract trajectory, i.e., a list of POIs."
   ]
  },
  {
   "cell_type": "code",
   "execution_count": 22,
   "metadata": {},
   "outputs": [],
   "source": [
    "def extract_traj(tid, traj_all):\n",
    "    traj = traj_all[traj_all['trajID'] == tid].copy()\n",
    "    traj.sort_values(by=['startTime'], ascending=True, inplace=True)\n",
    "    return traj['poiID'].tolist()"
   ]
  },
  {
   "cell_type": "markdown",
   "metadata": {},
   "source": [
    "Compute POI properties, e.g., popularity, total number of visit, average visit duration."
   ]
  },
  {
   "cell_type": "code",
   "execution_count": 23,
   "metadata": {},
   "outputs": [],
   "source": [
    "def calc_poi_info(trajid_list, traj_all, poi_all):\n",
    "    assert(len(trajid_list) > 0)\n",
    "    poi_info = traj_all[traj_all['trajID'] == trajid_list[0]][['poiID', 'poiDuration']].copy() \n",
    "    for i in range(1, len(trajid_list)):\n",
    "        traj = traj_all[traj_all['trajID'] == trajid_list[i]][['poiID', 'poiDuration']]\n",
    "        poi_info = poi_info.append(traj, ignore_index=True)\n",
    "    \n",
    "    poi_info = poi_info.groupby('poiID').agg([np.mean, np.size])\n",
    "    poi_info.columns = poi_info.columns.droplevel()\n",
    "    poi_info.reset_index(inplace=True)\n",
    "    poi_info.rename(columns={'mean':'avgDuration', 'size':'nVisit'}, inplace=True)\n",
    "    poi_info.set_index('poiID', inplace=True) \n",
    "    poi_info['poiCat'] = poi_all.loc[poi_info.index, 'poiCat']\n",
    "    poi_info['poiLon'] = poi_all.loc[poi_info.index, 'poiLon']\n",
    "    poi_info['poiLat'] = poi_all.loc[poi_info.index, 'poiLat']\n",
    "    \n",
    "    # POI popularity: the number of distinct users that visited the POI\n",
    "    pop_df = traj_all[traj_all['trajID'].isin(trajid_list)][['poiID', 'userID']].copy()\n",
    "    pop_df = pop_df.groupby('poiID').agg(pd.Series.nunique)\n",
    "    pop_df.rename(columns={'userID':'nunique'}, inplace=True)\n",
    "    poi_info['popularity'] = pop_df.loc[poi_info.index, 'nunique']\n",
    "    \n",
    "    return poi_info.copy()"
   ]
  },
  {
   "cell_type": "markdown",
   "metadata": {},
   "source": [
    "Compute the F1 score for recommended trajectory."
   ]
  },
  {
   "cell_type": "code",
   "execution_count": 24,
   "metadata": {},
   "outputs": [],
   "source": [
    "def calc_F1(traj_act, traj_rec, noloop=False):\n",
    "    '''Compute recall, precision and F1 for recommended trajectories'''\n",
    "    assert(isinstance(noloop, bool))\n",
    "    assert(len(traj_act) > 0)\n",
    "    assert(len(traj_rec) > 0)\n",
    "    \n",
    "    if noloop == True:\n",
    "        intersize = len(set(traj_act) & set(traj_rec))\n",
    "    else:\n",
    "        match_tags = np.zeros(len(traj_act), dtype=bool)\n",
    "        for poi in traj_rec:\n",
    "            for j in range(len(traj_act)):\n",
    "                if match_tags[j] == False and poi == traj_act[j]:\n",
    "                    match_tags[j] = True\n",
    "                    break\n",
    "        intersize = np.nonzero(match_tags)[0].shape[0]\n",
    "        \n",
    "    recall = intersize / len(traj_act)\n",
    "    precision = intersize / len(traj_rec)\n",
    "    F1 = 2 * precision * recall / (precision + recall)\n",
    "    return F1"
   ]
  },
  {
   "cell_type": "markdown",
   "metadata": {},
   "source": [
    "Compute the pairs-F1 score for recommended trajectory."
   ]
  },
  {
   "cell_type": "markdown",
   "source": [
    "#Tobi:\n",
    "-typecast to int (2x)"
   ],
   "metadata": {
    "collapsed": false,
    "pycharm": {
     "name": "#%% md\n"
    }
   }
  },
  {
   "cell_type": "code",
   "execution_count": 25,
   "metadata": {},
   "outputs": [],
   "source": [
    "%reload_ext Cython"
   ]
  },
  {
   "cell_type": "code",
   "execution_count": 26,
   "outputs": [],
   "source": [
    "%%cython\n",
    "import numpy as np\n",
    "cimport numpy as np\n",
    "\n",
    "# cdef float calc_pairsF1(y, y_hat):\n",
    "def calc_pairsF1(y, y_hat):\n",
    "    assert(len(y) > 0)\n",
    "    assert(len(y) == len(set(y))) # no loops in y\n",
    "    cdef int n, nr, n0, n0r, nc, poi1, poi2, i, j\n",
    "    n = len(y)\n",
    "    nr = len(y_hat)\n",
    "    n0 = int((n*(n-1) / 2))\n",
    "    n0r = int((nr*(nr-1) / 2))\n",
    "    \n",
    "    # y determines the correct visiting order\n",
    "    order_dict = dict()\n",
    "    for i in range(n):\n",
    "        order_dict[y[i]] = i\n",
    "        \n",
    "    nc = 0\n",
    "    for i in range(nr):\n",
    "        poi1 = y_hat[i]\n",
    "        for j in range(i+1, nr):\n",
    "            poi2 = y_hat[j]\n",
    "            if poi1 in order_dict and poi2 in order_dict and poi1 != poi2:\n",
    "                if order_dict[poi1] < order_dict[poi2]: nc += 1\n",
    "\n",
    "    # cdef float precision, recall, F1\n",
    "    precision = (1.0 * nc) / (1.0 * n0r)\n",
    "    recall = (1.0 * nc) / (1.0 * n0)\n",
    "    if nc == 0:\n",
    "        F1 = 0\n",
    "    else:\n",
    "        F1 = 2. * precision * recall / (precision + recall)\n",
    "    return F1"
   ],
   "metadata": {
    "collapsed": false,
    "pycharm": {
     "name": "#%%cython -2\n"
    }
   }
  },
  {
   "cell_type": "markdown",
   "metadata": {},
   "source": [
    "Compute distance between two POIs using [Haversine formula](http://en.wikipedia.org/wiki/Great-circle_distance)."
   ]
  },
  {
   "cell_type": "code",
   "execution_count": 27,
   "metadata": {},
   "outputs": [],
   "source": [
    "def calc_dist_vec(longitudes1, latitudes1, longitudes2, latitudes2):\n",
    "    \"\"\"Calculate the distance (unit: km) between two places on earth, vectorised\"\"\"\n",
    "    # convert degrees to radians\n",
    "    lng1 = np.radians(longitudes1)\n",
    "    lat1 = np.radians(latitudes1)\n",
    "    lng2 = np.radians(longitudes2)\n",
    "    lat2 = np.radians(latitudes2)\n",
    "    radius = 6371.0088 # mean earth radius, en.wikipedia.org/wiki/Earth_radius#Mean_radius\n",
    "\n",
    "    # The haversine formula, en.wikipedia.org/wiki/Great-circle_distance\n",
    "    dlng = np.fabs(lng1 - lng2)\n",
    "    dlat = np.fabs(lat1 - lat2)\n",
    "    dist =  2 * radius * np.arcsin( np.sqrt( \n",
    "                (np.sin(0.5*dlat))**2 + np.cos(lat1) * np.cos(lat2) * (np.sin(0.5*dlng))**2 ))\n",
    "    return dist"
   ]
  },
  {
   "cell_type": "markdown",
   "metadata": {},
   "source": [
    "Distance between POIs."
   ]
  },
  {
   "cell_type": "code",
   "execution_count": 28,
   "metadata": {},
   "outputs": [],
   "source": [
    "POI_DISTMAT = pd.DataFrame(data=np.zeros((poi_all.shape[0], poi_all.shape[0]), dtype=float), \\\n",
    "                           index=poi_all.index, columns=poi_all.index)"
   ]
  },
  {
   "cell_type": "code",
   "execution_count": 29,
   "metadata": {},
   "outputs": [],
   "source": [
    "for ix in poi_all.index:\n",
    "    POI_DISTMAT.loc[ix] = calc_dist_vec(poi_all.loc[ix, 'poiLon'], \\\n",
    "                                        poi_all.loc[ix, 'poiLat'], \\\n",
    "                                        poi_all['poiLon'], \\\n",
    "                                        poi_all['poiLat'])"
   ]
  },
  {
   "cell_type": "code",
   "execution_count": 30,
   "metadata": {},
   "outputs": [],
   "source": [
    "trajid_set_all = sorted(traj_all['trajID'].unique().tolist())"
   ]
  },
  {
   "cell_type": "code",
   "execution_count": 31,
   "metadata": {},
   "outputs": [],
   "source": [
    "poi_info_all = calc_poi_info(trajid_set_all, traj_all, poi_all)"
   ]
  },
  {
   "cell_type": "markdown",
   "metadata": {},
   "source": [
    "Dictionary maps every trajectory ID to the actual trajectory."
   ]
  },
  {
   "cell_type": "code",
   "execution_count": 32,
   "metadata": {},
   "outputs": [],
   "source": [
    "traj_dict = dict()"
   ]
  },
  {
   "cell_type": "code",
   "execution_count": 33,
   "metadata": {},
   "outputs": [],
   "source": [
    "for trajid in trajid_set_all:\n",
    "    traj = extract_traj(trajid, traj_all)\n",
    "    assert(trajid not in traj_dict)\n",
    "    traj_dict[trajid] = traj"
   ]
  },
  {
   "cell_type": "markdown",
   "metadata": {},
   "source": [
    "Define a *query* (in IR terminology) using tuple (start POI, end POI, #POI) ~~user ID.~~"
   ]
  },
  {
   "cell_type": "code",
   "execution_count": 34,
   "metadata": {},
   "outputs": [],
   "source": [
    "QUERY_ID_DICT = dict()  # (start, end, length) --> qid"
   ]
  },
  {
   "cell_type": "code",
   "execution_count": 35,
   "metadata": {},
   "outputs": [],
   "source": [
    "keys = [(traj_dict[x][0], traj_dict[x][-1], len(traj_dict[x])) \\\n",
    "        for x in sorted(traj_dict.keys()) if len(traj_dict[x]) > 2]\n",
    "cnt = 0\n",
    "for key in keys:\n",
    "    if key not in QUERY_ID_DICT:   # (start, end, length) --> qid\n",
    "        QUERY_ID_DICT[key] = cnt\n",
    "        cnt += 1"
   ]
  },
  {
   "cell_type": "code",
   "execution_count": 36,
   "metadata": {},
   "outputs": [
    {
     "name": "stdout",
     "output_type": "stream",
     "text": [
      "#traj in total: 5106\n",
      "#traj (length > 2): 442\n",
      "#query tuple: 415\n"
     ]
    }
   ],
   "source": [
    "print('#traj in total:', len(trajid_set_all))\n",
    "print('#traj (length > 2):', traj_all[traj_all['trajLen'] > 2]['trajID'].unique().shape[0])\n",
    "print('#query tuple:', len(QUERY_ID_DICT))"
   ]
  },
  {
   "cell_type": "markdown",
   "metadata": {},
   "source": [
    "### Validation Set for Tuning $\\alpha$"
   ]
  },
  {
   "cell_type": "markdown",
   "metadata": {},
   "source": [
    "Split dataset (length $\\ge 3$) into two (roughly) equal parts, use part 1 to tune alpha, then make prediction (leave-one-out CV) on part 2 using the tuned alpha, and vice verse. Compute the mean and std for all predictions.\n",
    "\n",
    "NOTE: All short trajectories (length $\\le 2$) are always included to compute POI features."
   ]
  },
  {
   "cell_type": "markdown",
   "metadata": {},
   "source": [
    "The whole set of trajectory ID (length $\\ge 3$)."
   ]
  },
  {
   "cell_type": "code",
   "execution_count": 37,
   "metadata": {},
   "outputs": [],
   "source": [
    "WHOLE_SET = traj_all[traj_all['trajLen'] > 2]['trajID'].unique()"
   ]
  },
  {
   "cell_type": "markdown",
   "metadata": {},
   "source": [
    "Split the whole set randomly into two (roughly) equal parts."
   ]
  },
  {
   "cell_type": "code",
   "execution_count": 38,
   "metadata": {},
   "outputs": [],
   "source": [
    "WHOLE_SET = np.random.permutation(WHOLE_SET)\n",
    "splitix = int(len(WHOLE_SET)*0.5)\n",
    "PART1 = WHOLE_SET[:splitix]\n",
    "PART2 = WHOLE_SET[splitix:]"
   ]
  },
  {
   "cell_type": "markdown",
   "metadata": {},
   "source": [
    "# 2. POI Ranking"
   ]
  },
  {
   "cell_type": "markdown",
   "metadata": {},
   "source": [
    "## 2.1 POI Features for Ranking"
   ]
  },
  {
   "cell_type": "markdown",
   "metadata": {},
   "source": [
    "POI Features used for ranking, given query (`startPOI`, `endPOI`, `nPOI`):\n",
    "1. `category`: one-hot encoding of POI category, encode `True` as `1` and `False` as `-1`\n",
    "1. `neighbourhood`: one-hot encoding of POI cluster, encode `True` as `1` and `False` as `-1`\n",
    "1. `popularity`: log of POI popularity, i.e., the number of distinct users that visited the POI\n",
    "1. `nVisit`: log of the total number of visit by all users\n",
    "1. `avgDuration`: log of average POI visit duration\n",
    "1. `trajLen`: trajectory length, i.e., the number of POIs `nPOI` in trajectory, copy from query\n",
    "1. `sameCatStart`: 1 if POI category is the same as that of `startPOI`, -1 otherwise\n",
    "1. `sameCatEnd`: 1 if POI category is the same as that of `endPOI`, -1 otherwise\n",
    "1. `distStart`: distance (haversine formula) from `startPOI`\n",
    "1. `distEnd`: distance from `endPOI`\n",
    "1. `diffPopStart`: difference in POI popularity from `startPOI` (NO LOG as it could be negative)\n",
    "1. `diffPopEnd`: difference in POI popularity from `endPOI`\n",
    "1. `diffNVisitStart`: difference in the total number of visit from `startPOI`\n",
    "1. `diffNVisitEnd`: difference in the total number of visit from `endPOI`\n",
    "1. `diffDurationStart`: difference in average POI visit duration from the actual duration spent at `startPOI`\n",
    "1. `diffDurationEnd`: difference in average POI visit duration from the actual duration spent at `endPOI`\n",
    "1. `sameNeighbourhoodStart`: 1 if POI resides in the same cluster as that of `startPOI`, -1 otherwise\n",
    "1. `sameNeighbourhoodEnd`: 1 if POI resides in the same cluster as that of `endPOI`, -1 otherwise"
   ]
  },
  {
   "cell_type": "code",
   "execution_count": 39,
   "metadata": {},
   "outputs": [],
   "source": [
    "DF_COLUMNS = ['poiID', 'label', 'queryID', 'category', 'neighbourhood', 'popularity', 'nVisit', 'avgDuration', \\\n",
    "              'trajLen', 'sameCatStart', 'sameCatEnd', 'distStart', 'distEnd', 'diffPopStart', 'diffPopEnd', \\\n",
    "              'diffNVisitStart', 'diffNVisitEnd', 'diffDurationStart', 'diffDurationEnd', \\\n",
    "              'sameNeighbourhoodStart', 'sameNeighbourhoodEnd']"
   ]
  },
  {
   "cell_type": "markdown",
   "metadata": {},
   "source": [
    "## 2.2 Training DataFrame"
   ]
  },
  {
   "cell_type": "markdown",
   "metadata": {},
   "source": [
    "Training data are generated as follows:\n",
    "1. each input tuple $(\\text{startPOI}, \\text{endPOI}, \\text{#POI})$ form a `query` (in IR terminology).\n",
    "1. the label of a specific POI is the number of presence of that POI in the set of trajectories grouped by a specific `query`, excluding the presence as $\\text{startPOI}$ or $\\text{endPOI}$. (the label of all absence POIs w.r.t. that `query` got a label `0`)"
   ]
  },
  {
   "cell_type": "markdown",
   "metadata": {},
   "source": [
    "The dimension of training data matrix is `#(qid, poi)` by `#feature`."
   ]
  },
  {
   "cell_type": "code",
   "execution_count": 40,
   "metadata": {},
   "outputs": [],
   "source": [
    "def gen_train_subdf(poi_id, query_id_set, poi_info, poi_clusters, cats, clusters, query_id_rdict):\n",
    "    assert(isinstance(cats, list))\n",
    "    assert(isinstance(clusters, list))\n",
    "    \n",
    "    columns = DF_COLUMNS\n",
    "    poi_distmat = POI_DISTMAT\n",
    "    df_ = pd.DataFrame(index=np.arange(len(query_id_set)), columns=columns)\n",
    "    \n",
    "    pop, nvisit = poi_info.loc[poi_id, 'popularity'], poi_info.loc[poi_id, 'nVisit']\n",
    "    cat, cluster = poi_info.loc[poi_id, 'poiCat'], poi_clusters.loc[poi_id, 'clusterID'] \n",
    "    duration = poi_info.loc[poi_id, 'avgDuration']\n",
    "    \n",
    "    for j in range(len(query_id_set)):\n",
    "        qid = query_id_set[j]\n",
    "        assert(qid in query_id_rdict) # qid --> (start, end, length)\n",
    "        (p0, pN, trajLen) = query_id_rdict[qid]\n",
    "        idx = df_.index[j]\n",
    "        df_.loc[idx, 'poiID'] = poi_id\n",
    "        df_.loc[idx, 'queryID'] = qid\n",
    "        \n",
    "        # df_.set_value(idx, 'category', tuple((cat == np.array(cats)).astype(int) * 2 - 1))\n",
    "        df_.at[idx, 'category'] = tuple((cat == np.array(cats)).astype(int) * 2 - 1)\n",
    "        # df_.set_value(idx, 'neighbourhood', tuple((cluster == np.array(clusters)).astype(int) * 2 - 1))\n",
    "        df_.at[idx, 'neighbourhood'] = tuple((cluster == np.array(clusters)).astype(int) * 2 - 1)\n",
    "        \n",
    "        df_.loc[idx, 'popularity'] = LOG_SMALL if pop < 1 else np.log10(pop)\n",
    "        df_.loc[idx, 'nVisit'] = LOG_SMALL if nvisit < 1 else np.log10(nvisit)\n",
    "        df_.loc[idx, 'avgDuration'] = LOG_SMALL if duration < 1 else np.log10(duration)\n",
    "        df_.loc[idx, 'trajLen'] = trajLen\n",
    "        df_.loc[idx, 'sameCatStart'] = 1 if cat == poi_info.loc[p0, 'poiCat'] else -1\n",
    "        df_.loc[idx, 'sameCatEnd']   = 1 if cat == poi_info.loc[pN, 'poiCat'] else -1\n",
    "        df_.loc[idx, 'distStart'] = poi_distmat.loc[poi_id, p0]\n",
    "        df_.loc[idx, 'distEnd']   = poi_distmat.loc[poi_id, pN]\n",
    "        df_.loc[idx, 'diffPopStart'] = pop - poi_info.loc[p0, 'popularity']\n",
    "        df_.loc[idx, 'diffPopEnd']   = pop - poi_info.loc[pN, 'popularity']\n",
    "        df_.loc[idx, 'diffNVisitStart'] = nvisit - poi_info.loc[p0, 'nVisit']\n",
    "        df_.loc[idx, 'diffNVisitEnd']   = nvisit - poi_info.loc[pN, 'nVisit']\n",
    "        df_.loc[idx, 'diffDurationStart'] = duration - poi_info.loc[p0, 'avgDuration']\n",
    "        df_.loc[idx, 'diffDurationEnd']   = duration - poi_info.loc[pN, 'avgDuration']\n",
    "        df_.loc[idx, 'sameNeighbourhoodStart'] = 1 if cluster == poi_clusters.loc[p0, 'clusterID'] else -1\n",
    "        df_.loc[idx, 'sameNeighbourhoodEnd']   = 1 if cluster == poi_clusters.loc[pN, 'clusterID'] else -1\n",
    "        \n",
    "    return df_"
   ]
  },
  {
   "cell_type": "code",
   "execution_count": 41,
   "metadata": {},
   "outputs": [],
   "source": [
    "def gen_train_df(trajid_list, traj_dict, poi_info, poi_clusters, cats, clusters, n_jobs=-1):    \n",
    "    columns = DF_COLUMNS\n",
    "    poi_distmat = POI_DISTMAT\n",
    "    query_id_dict = QUERY_ID_DICT\n",
    "    train_trajs = [traj_dict[x] for x in trajid_list if len(traj_dict[x]) > 2]\n",
    "    \n",
    "    qid_set = sorted(set([query_id_dict[(t[0], t[-1], len(t))] for t in train_trajs]))\n",
    "    poi_set = set()\n",
    "    for tr in train_trajs:\n",
    "        poi_set = poi_set | set(tr)\n",
    "    \n",
    "    query_id_rdict = dict()\n",
    "    for k, v in query_id_dict.items(): \n",
    "        query_id_rdict[v] = k  # qid --> (start, end, length)\n",
    "    \n",
    "    train_df_list = Parallel(n_jobs=n_jobs)\\\n",
    "                            (delayed(gen_train_subdf)(poi, qid_set, poi_info, poi_clusters,cats,clusters,query_id_rdict) \n",
    "                             for poi in poi_set)\n",
    "                        \n",
    "    assert(len(train_df_list) > 0)\n",
    "    df_ = train_df_list[0]\n",
    "    for j in range(1, len(train_df_list)):\n",
    "        df_ = df_.append(train_df_list[j], ignore_index=True)            \n",
    "        \n",
    "    # set label\n",
    "    df_.set_index(['queryID', 'poiID'], inplace=True)\n",
    "    df_['label'] = 0\n",
    "    for t in train_trajs:\n",
    "        qid = query_id_dict[(t[0], t[-1], len(t))]\n",
    "        for poi in t[1:-1]:  # do NOT count if the POI is startPOI/endPOI\n",
    "            df_.loc[(qid, poi), 'label'] += 1\n",
    "\n",
    "    df_.reset_index(inplace=True)\n",
    "    return df_"
   ]
  },
  {
   "cell_type": "markdown",
   "metadata": {},
   "source": [
    "## 2.3 Test DataFrame"
   ]
  },
  {
   "cell_type": "markdown",
   "metadata": {},
   "source": [
    "Test data are generated the same way as training data, except that the labels of testing data (unknown) could be arbitrary values as suggested in [libsvm FAQ](http://www.csie.ntu.edu.tw/~cjlin/libsvm/faq.html#f431).\n",
    "The reported accuracy (by `svm-predict` command) is meaningless as it is calculated based on these labels."
   ]
  },
  {
   "cell_type": "markdown",
   "metadata": {},
   "source": [
    "The dimension of training data matrix is `#poi` by `#feature` with one specific `query`, i.e. tuple $(\\text{startPOI}, \\text{endPOI}, \\text{#POI})$."
   ]
  },
  {
   "cell_type": "code",
   "execution_count": 42,
   "metadata": {},
   "outputs": [],
   "source": [
    "def gen_test_df(startPOI, endPOI, nPOI, poi_info, poi_clusters, cats, clusters):\n",
    "    assert(isinstance(cats, list))\n",
    "    assert(isinstance(clusters, list))\n",
    "    \n",
    "    columns = DF_COLUMNS\n",
    "    poi_distmat = POI_DISTMAT\n",
    "    query_id_dict = QUERY_ID_DICT\n",
    "    key = (p0, pN, trajLen) = (startPOI, endPOI, nPOI)\n",
    "    assert(key in query_id_dict)\n",
    "    assert(p0 in poi_info.index)\n",
    "    assert(pN in poi_info.index)\n",
    "    \n",
    "    df_ = pd.DataFrame(index=np.arange(poi_info.shape[0]), columns=columns)\n",
    "    poi_list = sorted(poi_info.index)\n",
    "    \n",
    "    qid = query_id_dict[key]\n",
    "    df_['queryID'] = qid\n",
    "    df_['label'] = np.random.rand(df_.shape[0]) # label for test data is arbitrary according to libsvm FAQ\n",
    "\n",
    "    for i in range(df_.index.shape[0]):\n",
    "        poi = poi_list[i]\n",
    "        lon, lat = poi_info.loc[poi, 'poiLon'], poi_info.loc[poi, 'poiLat']\n",
    "        pop, nvisit = poi_info.loc[poi, 'popularity'], poi_info.loc[poi, 'nVisit']\n",
    "        cat, cluster = poi_info.loc[poi, 'poiCat'], poi_clusters.loc[poi, 'clusterID']\n",
    "        duration = poi_info.loc[poi, 'avgDuration']\n",
    "        idx = df_.index[i]\n",
    "        df_.loc[idx, 'poiID'] = poi\n",
    "        \n",
    "        df_._set_value(idx, 'category', tuple((cat == np.array(cats)).astype(int) * 2 - 1))\n",
    "        #df_.at[idx, 'category'] = tuple((cat == np.array(cats)).astype(int) * 2 - 1)\n",
    "        df_._set_value(idx, 'neighbourhood', tuple((cluster == np.array(clusters)).astype(int) * 2 - 1))\n",
    "        #df_.at[idx, 'neighbourhood'] = tuple((cluster == np.array(clusters)).astype(int) * 2 - 1)\n",
    "        \n",
    "        df_.loc[idx, 'popularity'] = LOG_SMALL if pop < 1 else np.log10(pop)\n",
    "        df_.loc[idx, 'nVisit'] = LOG_SMALL if nvisit < 1 else np.log10(nvisit)\n",
    "        df_.loc[idx, 'avgDuration'] = LOG_SMALL if duration < 1 else np.log10(duration)\n",
    "        df_.loc[idx, 'trajLen'] = trajLen\n",
    "        df_.loc[idx, 'sameCatStart'] = 1 if cat == poi_all.loc[p0, 'poiCat'] else -1\n",
    "        df_.loc[idx, 'sameCatEnd']   = 1 if cat == poi_all.loc[pN, 'poiCat'] else -1\n",
    "        df_.loc[idx, 'distStart'] = poi_distmat.loc[poi, p0]\n",
    "        df_.loc[idx, 'distEnd']   = poi_distmat.loc[poi, pN]\n",
    "        df_.loc[idx, 'diffPopStart'] = pop - poi_info.loc[p0, 'popularity']\n",
    "        df_.loc[idx, 'diffPopEnd']   = pop - poi_info.loc[pN, 'popularity']\n",
    "        df_.loc[idx, 'diffNVisitStart'] = nvisit - poi_info.loc[p0, 'nVisit']\n",
    "        df_.loc[idx, 'diffNVisitEnd']   = nvisit - poi_info.loc[pN, 'nVisit']\n",
    "        df_.loc[idx, 'diffDurationStart'] = duration - poi_info.loc[p0, 'avgDuration']\n",
    "        df_.loc[idx, 'diffDurationEnd']   = duration - poi_info.loc[pN, 'avgDuration']\n",
    "        df_.loc[idx, 'sameNeighbourhoodStart'] = 1 if cluster == poi_clusters.loc[p0, 'clusterID'] else -1\n",
    "        df_.loc[idx, 'sameNeighbourhoodEnd']   = 1 if cluster == poi_clusters.loc[pN, 'clusterID'] else -1\n",
    "        \n",
    "    return df_"
   ]
  },
  {
   "cell_type": "markdown",
   "metadata": {},
   "source": [
    "Generate a string for a training/test data frame."
   ]
  },
  {
   "cell_type": "code",
   "execution_count": 43,
   "metadata": {},
   "outputs": [],
   "source": [
    "def gen_data_str(df_, df_columns=DF_COLUMNS):\n",
    "    for col in df_columns:\n",
    "        assert(col in df_.columns)\n",
    "        \n",
    "    lines = []\n",
    "    for idx in df_.index:\n",
    "        slist = [str(df_.loc[idx, 'label'])]\n",
    "        slist.append(' qid:')\n",
    "        slist.append(str(int(df_.loc[idx, 'queryID'])))\n",
    "        fid = 1\n",
    "        for j in range(3, len(df_columns)):\n",
    "            values_ = df_._get_value(idx, df_columns[j])\n",
    "            #values_ = df_.at[idx, j]\n",
    "            \n",
    "            values_ = values_ if isinstance(values_, tuple) else [values_]\n",
    "            for v in values_:\n",
    "                slist.append(' ')\n",
    "                slist.append(str(fid)); fid += 1\n",
    "                slist.append(':')\n",
    "                slist.append(str(v))\n",
    "        slist.append('\\n')\n",
    "        lines.append(''.join(slist))\n",
    "    return ''.join(lines)"
   ]
  },
  {
   "cell_type": "markdown",
   "metadata": {},
   "source": [
    "## 2.4 Ranking POIs using rankSVM"
   ]
  },
  {
   "cell_type": "markdown",
   "metadata": {},
   "source": [
    "Here the [rankSVM implementation](https://www.csie.ntu.edu.tw/~cjlin/libsvmtools/#large_scale_ranksvm) could be [liblinear-ranksvm](https://www.csie.ntu.edu.tw/~cjlin/libsvmtools/ranksvm/liblinear-ranksvm-2.1.zip) or [libsvm-ranksvm](https://www.csie.ntu.edu.tw/~cjlin/libsvmtools/ranksvm/libsvm-ranksvm-3.20.zip), please read `README.ranksvm` in the zip file for installation instructions."
   ]
  },
  {
   "cell_type": "markdown",
   "metadata": {},
   "source": [
    "Use [softmax function](https://en.wikipedia.org/wiki/Softmax_function) to convert ranking scores to a probability distribution."
   ]
  },
  {
   "cell_type": "code",
   "execution_count": 44,
   "metadata": {},
   "outputs": [],
   "source": [
    "def softmax(x):\n",
    "    x1 = x.copy()\n",
    "    x1 -= np.max(x1)  # numerically more stable, REF: http://cs231n.github.io/linear-classify/#softmax\n",
    "    expx = np.exp(x1)\n",
    "    return expx / np.sum(expx, axis=0) # column-wise sum"
   ]
  },
  {
   "cell_type": "markdown",
   "metadata": {},
   "source": [
    "Below is a python wrapper of the `svm-train` or `train` and `svm-predict` or `predict` commands of rankSVM with ranking probabilities $P(p_i \\lvert (p_s, p_e, len))$ computed using [softmax function](https://en.wikipedia.org/wiki/Softmax_function)."
   ]
  },
  {
   "cell_type": "code",
   "execution_count": 45,
   "outputs": [
    {
     "data": {
      "text/plain": "'liblinear-ranksvm-2.11'"
     },
     "execution_count": 45,
     "metadata": {},
     "output_type": "execute_result"
    }
   ],
   "source": [
    "bin_dir=ranksvm_dir\n",
    "dir_ = !echo $bin_dir\n",
    "dir_[0]"
   ],
   "metadata": {
    "collapsed": false,
    "pycharm": {
     "name": "#%%\n"
    }
   }
  },
  {
   "cell_type": "code",
   "execution_count": 46,
   "metadata": {},
   "outputs": [],
   "source": [
    "# python wrapper of rankSVM\n",
    "class RankSVM:\n",
    "    def __init__(self, bin_dir, useLinear=True, debug=False):\n",
    "        dir_ = !echo $bin_dir\n",
    "        #print(dir_)\n",
    "        assert(os.path.exists(dir_[0]))\n",
    "        self.bin_dir = dir_[0]\n",
    "        \n",
    "        self.bin_train = 'svm-train'\n",
    "        self.bin_predict = 'svm-predict'\n",
    "        if useLinear:\n",
    "            self.bin_train = 'train'\n",
    "            self.bin_predict = 'predict'\n",
    "        \n",
    "        assert(isinstance(debug, bool))\n",
    "        self.debug = debug\n",
    "        \n",
    "        # create named tmp files for model and feature scaling parameters\n",
    "        self.fmodel = None\n",
    "        self.fscale = None\n",
    "        with tempfile.NamedTemporaryFile(delete=False) as fd: \n",
    "            self.fmodel = fd.name\n",
    "        with tempfile.NamedTemporaryFile(delete=False) as fd: \n",
    "            self.fscale = fd.name\n",
    "        \n",
    "        if self.debug:\n",
    "            print('model file:', self.fmodel)\n",
    "            print('feature scaling parameter file:', self.fscale)\n",
    "    \n",
    "    \n",
    "    def __del__(self):\n",
    "        # remove tmp files\n",
    "        if self.debug == False:\n",
    "            if self.fmodel is not None and os.path.exists(self.fmodel):\n",
    "                os.unlink(self.fmodel)\n",
    "            if self.fscale is not None and os.path.exists(self.fscale):\n",
    "                os.unlink(self.fscale)\n",
    "\n",
    "    \n",
    "    def train(self, train_df, cost=1):\n",
    "        # cost is parameter C in SVM\n",
    "        # write train data to file\n",
    "        ftrain = None\n",
    "        with tempfile.NamedTemporaryFile(mode='w+t', delete=False) as fd: \n",
    "            ftrain = fd.name\n",
    "            datastr = gen_data_str(train_df)\n",
    "            fd.write(datastr)\n",
    "        \n",
    "        # feature scaling\n",
    "        ftrain_scaled = None\n",
    "        with tempfile.NamedTemporaryFile(mode='w+t', delete=False) as fd: \n",
    "            ftrain_scaled = fd.name\n",
    "        result = !$self.bin_dir/svm-scale -s $self.fscale $ftrain > $ftrain_scaled\n",
    "        \n",
    "        if self.debug:\n",
    "            print('cost:', cost)\n",
    "            print('train data file:', ftrain)\n",
    "            print('feature scaled train data file:', ftrain_scaled)\n",
    "        \n",
    "        # train rank svm and generate model file, if the model file exists, rewrite it\n",
    "        result = !$self.bin_dir/$self.bin_train -c $cost $ftrain_scaled $self.fmodel\n",
    "        if self.debug:\n",
    "            print('Training finished.')\n",
    "            for i in range(len(result)): print(result[i])\n",
    "\n",
    "        # remove train data file\n",
    "        if self.debug == False:\n",
    "            os.unlink(ftrain)\n",
    "            os.unlink(ftrain_scaled)        \n",
    "\n",
    "    \n",
    "    def predict(self, test_df):\n",
    "        # predict ranking scores for the given feature matrix\n",
    "        if self.fmodel is None or not os.path.exists(self.fmodel):\n",
    "            print('Model should be trained before prediction')\n",
    "            return\n",
    "        \n",
    "        # write test data to file\n",
    "        ftest = None\n",
    "        with tempfile.NamedTemporaryFile(mode='w+t', delete=False) as fd: \n",
    "            ftest = fd.name\n",
    "            datastr = gen_data_str(test_df)\n",
    "            fd.write(datastr)\n",
    "                \n",
    "        # feature scaling\n",
    "        ftest_scaled = None\n",
    "        with tempfile.NamedTemporaryFile(delete=False) as fd: \n",
    "            ftest_scaled = fd.name\n",
    "        result = !$self.bin_dir/svm-scale -r $self.fscale $ftest > $ftest_scaled\n",
    "            \n",
    "        # generate prediction file\n",
    "        fpredict = None\n",
    "        with tempfile.NamedTemporaryFile(delete=False) as fd: \n",
    "            fpredict = fd.name\n",
    "            \n",
    "        if self.debug:\n",
    "            print('test data file:', ftest)\n",
    "            print('feature scaled test data file:', ftest_scaled)\n",
    "            print('predict result file:', fpredict)\n",
    "            \n",
    "        # predict using trained model and write prediction to file\n",
    "        result = !$self.bin_dir/$self.bin_predict $ftest_scaled $self.fmodel $fpredict\n",
    "        if self.debug:\n",
    "            print('Predict result: %-30s  %s' % (result[0], result[1]))\n",
    "        \n",
    "        # generate prediction DataFrame from prediction file\n",
    "        poi_rank_df = pd.read_csv(fpredict, header=None)\n",
    "        poi_rank_df.rename(columns={0:'rank'}, inplace=True)\n",
    "        poi_rank_df['poiID'] = test_df['poiID'].astype(int)\n",
    "        poi_rank_df.set_index('poiID', inplace=True)\n",
    "        poi_rank_df['probability'] = softmax(poi_rank_df['rank'])\n",
    "        \n",
    "        # remove test file and prediction file\n",
    "        if self.debug == False:\n",
    "            os.unlink(ftest)\n",
    "            os.unlink(ftest_scaled)\n",
    "            os.unlink(fpredict)\n",
    "\n",
    "        return poi_rank_df"
   ]
  },
  {
   "cell_type": "markdown",
   "metadata": {},
   "source": [
    "# 3. Factorised Transition Probabilities between POIs"
   ]
  },
  {
   "cell_type": "markdown",
   "metadata": {},
   "source": [
    "Estimate a transition matrix for each feature of POI, transition probabilities between different POIs are obtrained by the Kronecker product of the individual transition matrix corresponding to each feature (with normalisation and a few constraints)."
   ]
  },
  {
   "cell_type": "markdown",
   "metadata": {},
   "source": [
    "## 3.1 POI Features for Factorisation"
   ]
  },
  {
   "cell_type": "markdown",
   "metadata": {},
   "source": [
    "POI features used to factorise transition matrix of Markov Chain with POI features (vector) as states:\n",
    "- Category of POI\n",
    "- Popularity of POI (discritize with uniform log-scale bins, #bins <=5 )\n",
    "- The number of POI visits (discritize with uniform log-scale bins, #bins <=5 )\n",
    "- The average visit duration of POI (discritise with uniform log-scale bins, #bins <= 5)\n",
    "- The neighborhood relationship between POIs (clustering POI(lat, lon) using k-means, #clusters <= 5)"
   ]
  },
  {
   "cell_type": "markdown",
   "metadata": {},
   "source": [
    "We count the number of transition first, then normalise each row while taking care of zero by adding each cell a number $k=1$."
   ]
  },
  {
   "cell_type": "code",
   "execution_count": 47,
   "metadata": {},
   "outputs": [],
   "source": [
    "def normalise_transmat(transmat_cnt):\n",
    "    transmat = transmat_cnt.copy()\n",
    "    assert(isinstance(transmat, pd.DataFrame))\n",
    "    for row in range(transmat.index.shape[0]):\n",
    "        rowsum = np.sum(transmat.iloc[row] + 1)\n",
    "        assert(rowsum > 0)\n",
    "        transmat.iloc[row] = (transmat.iloc[row] + 1) / rowsum\n",
    "    return transmat"
   ]
  },
  {
   "cell_type": "markdown",
   "metadata": {},
   "source": [
    "POIs in training set."
   ]
  },
  {
   "cell_type": "code",
   "execution_count": 48,
   "metadata": {},
   "outputs": [],
   "source": [
    "poi_train = sorted(poi_info_all.index)"
   ]
  },
  {
   "cell_type": "markdown",
   "metadata": {},
   "source": [
    "## 3.2 Transition Matrix between POI Cateogries"
   ]
  },
  {
   "cell_type": "code",
   "execution_count": 49,
   "metadata": {},
   "outputs": [
    {
     "data": {
      "text/plain": "['City precincts',\n 'Entertainment',\n 'Institutions',\n 'Parks and spaces',\n 'Public galleries',\n 'Shopping',\n 'Sports stadiums',\n 'Structures',\n 'Transport']"
     },
     "execution_count": 49,
     "metadata": {},
     "output_type": "execute_result"
    }
   ],
   "source": [
    "poi_cats = poi_all.loc[poi_train, 'poiCat'].unique().tolist()\n",
    "poi_cats.sort()\n",
    "POI_CAT_LIST = poi_cats\n",
    "POI_CAT_LIST"
   ]
  },
  {
   "cell_type": "code",
   "execution_count": 50,
   "metadata": {},
   "outputs": [],
   "source": [
    "def gen_transmat_cat(trajid_list, traj_dict, poi_info, poi_cats=POI_CAT_LIST):\n",
    "    transmat_cat_cnt = pd.DataFrame(data=np.zeros((len(poi_cats), len(poi_cats)), dtype=float), \\\n",
    "                                    columns=poi_cats, index=poi_cats)\n",
    "    for tid in trajid_list:\n",
    "        t = traj_dict[tid]\n",
    "        if len(t) > 1:\n",
    "            for pi in range(len(t)-1):\n",
    "                p1 = t[pi]\n",
    "                p2 = t[pi+1]\n",
    "                assert(p1 in poi_info.index and p2 in poi_info.index)\n",
    "                cat1 = poi_info.loc[p1, 'poiCat']\n",
    "                cat2 = poi_info.loc[p2, 'poiCat']\n",
    "                transmat_cat_cnt.loc[cat1, cat2] += 1\n",
    "    return normalise_transmat(transmat_cat_cnt)"
   ]
  },
  {
   "cell_type": "code",
   "execution_count": 51,
   "metadata": {},
   "outputs": [
    {
     "data": {
      "text/plain": "                  City precincts  Entertainment  Institutions  \\\nCity precincts          0.059259       0.059259      0.207407   \nEntertainment           0.043011       0.107527      0.086022   \nInstitutions            0.063830       0.031915      0.188830   \nParks and spaces        0.041322       0.030303      0.154270   \nPublic galleries        0.114286       0.071429      0.128571   \nShopping                0.057377       0.049180      0.229508   \nSports stadiums         0.059524       0.107143      0.059524   \nStructures              0.053968       0.076190      0.107937   \nTransport               0.067340       0.043771      0.151515   \n\n                  Parks and spaces  Public galleries  Shopping  \\\nCity precincts            0.118519          0.096296  0.148148   \nEntertainment             0.086022          0.043011  0.193548   \nInstitutions              0.188830          0.015957  0.265957   \nParks and spaces          0.151515          0.033058  0.126722   \nPublic galleries          0.142857          0.057143  0.142857   \nShopping                  0.077869          0.010246  0.354508   \nSports stadiums           0.202381          0.023810  0.071429   \nStructures                0.247619          0.028571  0.171429   \nTransport                 0.185185          0.013468  0.185185   \n\n                  Sports stadiums  Structures  Transport  \nCity precincts           0.059259    0.148148   0.103704  \nEntertainment            0.021505    0.225806   0.193548  \nInstitutions             0.013298    0.138298   0.093085  \nParks and spaces         0.049587    0.236915   0.176309  \nPublic galleries         0.028571    0.114286   0.200000  \nShopping                 0.008197    0.086066   0.127049  \nSports stadiums          0.321429    0.047619   0.107143  \nStructures               0.025397    0.136508   0.152381  \nTransport                0.030303    0.202020   0.121212  ",
      "text/html": "<div>\n<style scoped>\n    .dataframe tbody tr th:only-of-type {\n        vertical-align: middle;\n    }\n\n    .dataframe tbody tr th {\n        vertical-align: top;\n    }\n\n    .dataframe thead th {\n        text-align: right;\n    }\n</style>\n<table border=\"1\" class=\"dataframe\">\n  <thead>\n    <tr style=\"text-align: right;\">\n      <th></th>\n      <th>City precincts</th>\n      <th>Entertainment</th>\n      <th>Institutions</th>\n      <th>Parks and spaces</th>\n      <th>Public galleries</th>\n      <th>Shopping</th>\n      <th>Sports stadiums</th>\n      <th>Structures</th>\n      <th>Transport</th>\n    </tr>\n  </thead>\n  <tbody>\n    <tr>\n      <th>City precincts</th>\n      <td>0.059259</td>\n      <td>0.059259</td>\n      <td>0.207407</td>\n      <td>0.118519</td>\n      <td>0.096296</td>\n      <td>0.148148</td>\n      <td>0.059259</td>\n      <td>0.148148</td>\n      <td>0.103704</td>\n    </tr>\n    <tr>\n      <th>Entertainment</th>\n      <td>0.043011</td>\n      <td>0.107527</td>\n      <td>0.086022</td>\n      <td>0.086022</td>\n      <td>0.043011</td>\n      <td>0.193548</td>\n      <td>0.021505</td>\n      <td>0.225806</td>\n      <td>0.193548</td>\n    </tr>\n    <tr>\n      <th>Institutions</th>\n      <td>0.063830</td>\n      <td>0.031915</td>\n      <td>0.188830</td>\n      <td>0.188830</td>\n      <td>0.015957</td>\n      <td>0.265957</td>\n      <td>0.013298</td>\n      <td>0.138298</td>\n      <td>0.093085</td>\n    </tr>\n    <tr>\n      <th>Parks and spaces</th>\n      <td>0.041322</td>\n      <td>0.030303</td>\n      <td>0.154270</td>\n      <td>0.151515</td>\n      <td>0.033058</td>\n      <td>0.126722</td>\n      <td>0.049587</td>\n      <td>0.236915</td>\n      <td>0.176309</td>\n    </tr>\n    <tr>\n      <th>Public galleries</th>\n      <td>0.114286</td>\n      <td>0.071429</td>\n      <td>0.128571</td>\n      <td>0.142857</td>\n      <td>0.057143</td>\n      <td>0.142857</td>\n      <td>0.028571</td>\n      <td>0.114286</td>\n      <td>0.200000</td>\n    </tr>\n    <tr>\n      <th>Shopping</th>\n      <td>0.057377</td>\n      <td>0.049180</td>\n      <td>0.229508</td>\n      <td>0.077869</td>\n      <td>0.010246</td>\n      <td>0.354508</td>\n      <td>0.008197</td>\n      <td>0.086066</td>\n      <td>0.127049</td>\n    </tr>\n    <tr>\n      <th>Sports stadiums</th>\n      <td>0.059524</td>\n      <td>0.107143</td>\n      <td>0.059524</td>\n      <td>0.202381</td>\n      <td>0.023810</td>\n      <td>0.071429</td>\n      <td>0.321429</td>\n      <td>0.047619</td>\n      <td>0.107143</td>\n    </tr>\n    <tr>\n      <th>Structures</th>\n      <td>0.053968</td>\n      <td>0.076190</td>\n      <td>0.107937</td>\n      <td>0.247619</td>\n      <td>0.028571</td>\n      <td>0.171429</td>\n      <td>0.025397</td>\n      <td>0.136508</td>\n      <td>0.152381</td>\n    </tr>\n    <tr>\n      <th>Transport</th>\n      <td>0.067340</td>\n      <td>0.043771</td>\n      <td>0.151515</td>\n      <td>0.185185</td>\n      <td>0.013468</td>\n      <td>0.185185</td>\n      <td>0.030303</td>\n      <td>0.202020</td>\n      <td>0.121212</td>\n    </tr>\n  </tbody>\n</table>\n</div>"
     },
     "execution_count": 51,
     "metadata": {},
     "output_type": "execute_result"
    }
   ],
   "source": [
    "gen_transmat_cat(trajid_set_all, traj_dict, poi_info_all)"
   ]
  },
  {
   "cell_type": "markdown",
   "metadata": {},
   "source": [
    "## 3.3 Transition Matrix between POI Popularity Classes"
   ]
  },
  {
   "cell_type": "code",
   "execution_count": 52,
   "metadata": {},
   "outputs": [],
   "source": [
    "poi_pops = poi_info_all.loc[poi_train, 'popularity']"
   ]
  },
  {
   "cell_type": "markdown",
   "metadata": {},
   "source": [
    "Discretize POI popularity with uniform log-scale bins."
   ]
  },
  {
   "cell_type": "code",
   "execution_count": 53,
   "metadata": {},
   "outputs": [
    {
     "name": "stdout",
     "output_type": "stream",
     "text": [
      "0.0 2.462397997898956\n"
     ]
    }
   ],
   "source": [
    "expo_pop1 = np.log10(max(1, min(poi_pops)))\n",
    "expo_pop2 = np.log10(max(poi_pops))\n",
    "print(expo_pop1, expo_pop2)"
   ]
  },
  {
   "cell_type": "code",
   "execution_count": 54,
   "metadata": {},
   "outputs": [
    {
     "data": {
      "text/plain": "array([   0.        ,    3.98107171,   15.84893192,   63.09573445,\n        251.18864315, 1000.        ])"
     },
     "execution_count": 54,
     "metadata": {},
     "output_type": "execute_result"
    }
   ],
   "source": [
    "nbins_pop = BIN_CLUSTER\n",
    "logbins_pop = np.logspace(np.floor(expo_pop1), np.ceil(expo_pop2), nbins_pop+1)\n",
    "logbins_pop[0] = 0  # deal with underflow\n",
    "if logbins_pop[-1] < poi_info_all['popularity'].max():\n",
    "    logbins_pop[-1] = poi_info_all['popularity'].max() + 1\n",
    "logbins_pop"
   ]
  },
  {
   "cell_type": "code",
   "execution_count": 55,
   "metadata": {},
   "outputs": [
    {
     "data": {
      "text/plain": "<Figure size 360x216 with 1 Axes>",
      "image/png": "[encoded data removed]"
     },
     "metadata": {
      "needs_background": "light"
     },
     "output_type": "display_data"
    }
   ],
   "source": [
    "ax = pd.Series(poi_pops).hist(figsize=(5, 3), bins=logbins_pop)\n",
    "ax.set_xlim(xmin=0.1)\n",
    "ax.set_xscale('log')"
   ]
  },
  {
   "cell_type": "code",
   "execution_count": 56,
   "metadata": {},
   "outputs": [],
   "source": [
    "def gen_transmat_pop(trajid_list, traj_dict, poi_info, logbins_pop=logbins_pop):\n",
    "    nbins = len(logbins_pop) - 1\n",
    "    transmat_pop_cnt = pd.DataFrame(data=np.zeros((nbins, nbins), dtype=float), \\\n",
    "                                    columns=np.arange(1, nbins+1), index=np.arange(1, nbins+1))\n",
    "    for tid in trajid_list:\n",
    "        t = traj_dict[tid]\n",
    "        if len(t) > 1:\n",
    "            for pi in range(len(t)-1):\n",
    "                p1 = t[pi]\n",
    "                p2 = t[pi+1]\n",
    "                assert(p1 in poi_info.index and p2 in poi_info.index)\n",
    "                pop1 = poi_info.loc[p1, 'popularity']\n",
    "                pop2 = poi_info.loc[p2, 'popularity']\n",
    "                pc1, pc2 = np.digitize([pop1, pop2], logbins_pop)\n",
    "                transmat_pop_cnt.loc[pc1, pc2] += 1\n",
    "    return normalise_transmat(transmat_pop_cnt), logbins_pop"
   ]
  },
  {
   "cell_type": "code",
   "execution_count": 57,
   "metadata": {},
   "outputs": [
    {
     "data": {
      "text/plain": "          1         2         3         4         5\n1  0.166667  0.166667  0.333333  0.166667  0.166667\n2  0.017544  0.175439  0.350877  0.421053  0.035088\n3  0.002262  0.033937  0.316742  0.608597  0.038462\n4  0.001350  0.025641  0.172065  0.715250  0.085695\n5  0.005618  0.022472  0.095506  0.870787  0.005618",
      "text/html": "<div>\n<style scoped>\n    .dataframe tbody tr th:only-of-type {\n        vertical-align: middle;\n    }\n\n    .dataframe tbody tr th {\n        vertical-align: top;\n    }\n\n    .dataframe thead th {\n        text-align: right;\n    }\n</style>\n<table border=\"1\" class=\"dataframe\">\n  <thead>\n    <tr style=\"text-align: right;\">\n      <th></th>\n      <th>1</th>\n      <th>2</th>\n      <th>3</th>\n      <th>4</th>\n      <th>5</th>\n    </tr>\n  </thead>\n  <tbody>\n    <tr>\n      <th>1</th>\n      <td>0.166667</td>\n      <td>0.166667</td>\n      <td>0.333333</td>\n      <td>0.166667</td>\n      <td>0.166667</td>\n    </tr>\n    <tr>\n      <th>2</th>\n      <td>0.017544</td>\n      <td>0.175439</td>\n      <td>0.350877</td>\n      <td>0.421053</td>\n      <td>0.035088</td>\n    </tr>\n    <tr>\n      <th>3</th>\n      <td>0.002262</td>\n      <td>0.033937</td>\n      <td>0.316742</td>\n      <td>0.608597</td>\n      <td>0.038462</td>\n    </tr>\n    <tr>\n      <th>4</th>\n      <td>0.001350</td>\n      <td>0.025641</td>\n      <td>0.172065</td>\n      <td>0.715250</td>\n      <td>0.085695</td>\n    </tr>\n    <tr>\n      <th>5</th>\n      <td>0.005618</td>\n      <td>0.022472</td>\n      <td>0.095506</td>\n      <td>0.870787</td>\n      <td>0.005618</td>\n    </tr>\n  </tbody>\n</table>\n</div>"
     },
     "execution_count": 57,
     "metadata": {},
     "output_type": "execute_result"
    }
   ],
   "source": [
    "gen_transmat_pop(trajid_set_all, traj_dict, poi_info_all)[0]"
   ]
  },
  {
   "cell_type": "markdown",
   "metadata": {},
   "source": [
    "## 3.4 Transition Matrix between the Number of POI Visit Classes"
   ]
  },
  {
   "cell_type": "code",
   "execution_count": 58,
   "metadata": {},
   "outputs": [],
   "source": [
    "poi_visits = poi_info_all.loc[poi_train, 'nVisit']"
   ]
  },
  {
   "cell_type": "markdown",
   "metadata": {},
   "source": [
    "Discretize the number of POI visit with uniform log-scale bins."
   ]
  },
  {
   "cell_type": "code",
   "execution_count": 59,
   "metadata": {},
   "outputs": [
    {
     "name": "stdout",
     "output_type": "stream",
     "text": [
      "0.0 2.6910814921229687\n"
     ]
    }
   ],
   "source": [
    "expo_visit1 = np.log10(max(1, min(poi_visits)))\n",
    "expo_visit2 = np.log10(max(poi_visits))\n",
    "print(expo_visit1, expo_visit2)"
   ]
  },
  {
   "cell_type": "code",
   "execution_count": 60,
   "metadata": {},
   "outputs": [
    {
     "data": {
      "text/plain": "array([   0.        ,    3.98107171,   15.84893192,   63.09573445,\n        251.18864315, 1000.        ])"
     },
     "execution_count": 60,
     "metadata": {},
     "output_type": "execute_result"
    }
   ],
   "source": [
    "nbins_visit = BIN_CLUSTER\n",
    "logbins_visit = np.logspace(np.floor(expo_visit1), np.ceil(expo_visit2), nbins_visit+1)\n",
    "logbins_visit[0] = 0  # deal with underflow\n",
    "if logbins_visit[-1] < poi_info_all['nVisit'].max():\n",
    "    logbins_visit[-1] = poi_info_all['nVisit'].max() + 1\n",
    "logbins_visit"
   ]
  },
  {
   "cell_type": "code",
   "execution_count": 61,
   "metadata": {},
   "outputs": [
    {
     "data": {
      "text/plain": "<Figure size 360x216 with 1 Axes>",
      "image/png": "[encoded data removed]"
     },
     "metadata": {
      "needs_background": "light"
     },
     "output_type": "display_data"
    }
   ],
   "source": [
    "ax = pd.Series(poi_visits).hist(figsize=(5, 3), bins=logbins_visit)\n",
    "ax.set_xlim(xmin=0.1)\n",
    "ax.set_xscale('log')"
   ]
  },
  {
   "cell_type": "code",
   "execution_count": 62,
   "metadata": {},
   "outputs": [],
   "source": [
    "def gen_transmat_visit(trajid_list, traj_dict, poi_info, logbins_visit=logbins_visit):\n",
    "    nbins = len(logbins_visit) - 1\n",
    "    transmat_visit_cnt = pd.DataFrame(data=np.zeros((nbins, nbins), dtype=float), \\\n",
    "                                      columns=np.arange(1, nbins+1), index=np.arange(1, nbins+1))\n",
    "    for tid in trajid_list:\n",
    "        t = traj_dict[tid]\n",
    "        if len(t) > 1:\n",
    "            for pi in range(len(t)-1):\n",
    "                p1 = t[pi]\n",
    "                p2 = t[pi+1]\n",
    "                assert(p1 in poi_info.index and p2 in poi_info.index)\n",
    "                visit1 = poi_info.loc[p1, 'nVisit']\n",
    "                visit2 = poi_info.loc[p2, 'nVisit']\n",
    "                vc1, vc2 = np.digitize([visit1, visit2], logbins_visit)\n",
    "                transmat_visit_cnt.loc[vc1, vc2] += 1\n",
    "    return normalise_transmat(transmat_visit_cnt), logbins_visit"
   ]
  },
  {
   "cell_type": "code",
   "execution_count": 63,
   "metadata": {},
   "outputs": [
    {
     "data": {
      "text/plain": "          1         2         3         4         5\n1  0.200000  0.200000  0.200000  0.200000  0.200000\n2  0.038462  0.076923  0.346154  0.500000  0.038462\n3  0.003448  0.027586  0.272414  0.562069  0.134483\n4  0.000762  0.017517  0.121097  0.614623  0.246002\n5  0.001883  0.007533  0.064030  0.651601  0.274953",
      "text/html": "<div>\n<style scoped>\n    .dataframe tbody tr th:only-of-type {\n        vertical-align: middle;\n    }\n\n    .dataframe tbody tr th {\n        vertical-align: top;\n    }\n\n    .dataframe thead th {\n        text-align: right;\n    }\n</style>\n<table border=\"1\" class=\"dataframe\">\n  <thead>\n    <tr style=\"text-align: right;\">\n      <th></th>\n      <th>1</th>\n      <th>2</th>\n      <th>3</th>\n      <th>4</th>\n      <th>5</th>\n    </tr>\n  </thead>\n  <tbody>\n    <tr>\n      <th>1</th>\n      <td>0.200000</td>\n      <td>0.200000</td>\n      <td>0.200000</td>\n      <td>0.200000</td>\n      <td>0.200000</td>\n    </tr>\n    <tr>\n      <th>2</th>\n      <td>0.038462</td>\n      <td>0.076923</td>\n      <td>0.346154</td>\n      <td>0.500000</td>\n      <td>0.038462</td>\n    </tr>\n    <tr>\n      <th>3</th>\n      <td>0.003448</td>\n      <td>0.027586</td>\n      <td>0.272414</td>\n      <td>0.562069</td>\n      <td>0.134483</td>\n    </tr>\n    <tr>\n      <th>4</th>\n      <td>0.000762</td>\n      <td>0.017517</td>\n      <td>0.121097</td>\n      <td>0.614623</td>\n      <td>0.246002</td>\n    </tr>\n    <tr>\n      <th>5</th>\n      <td>0.001883</td>\n      <td>0.007533</td>\n      <td>0.064030</td>\n      <td>0.651601</td>\n      <td>0.274953</td>\n    </tr>\n  </tbody>\n</table>\n</div>"
     },
     "execution_count": 63,
     "metadata": {},
     "output_type": "execute_result"
    }
   ],
   "source": [
    "gen_transmat_visit(trajid_set_all, traj_dict, poi_info_all)[0]"
   ]
  },
  {
   "cell_type": "markdown",
   "metadata": {},
   "source": [
    "## 3.5 Transition Matrix between POI Average Visit Duration Classes"
   ]
  },
  {
   "cell_type": "code",
   "execution_count": 64,
   "metadata": {},
   "outputs": [],
   "source": [
    "poi_durations = poi_info_all.loc[poi_train, 'avgDuration']"
   ]
  },
  {
   "cell_type": "code",
   "execution_count": 65,
   "metadata": {},
   "outputs": [
    {
     "name": "stdout",
     "output_type": "stream",
     "text": [
      "0.0 3.90794220593366\n"
     ]
    }
   ],
   "source": [
    "expo_duration1 = np.log10(max(1, min(poi_durations)))\n",
    "expo_duration2 = np.log10(max(poi_durations))\n",
    "print(expo_duration1, expo_duration2)"
   ]
  },
  {
   "cell_type": "code",
   "execution_count": 66,
   "metadata": {},
   "outputs": [
    {
     "data": {
      "text/plain": "array([0.00000000e+00, 6.30957344e+00, 3.98107171e+01, 2.51188643e+02,\n       1.58489319e+03, 8.08988235e+05])"
     },
     "execution_count": 66,
     "metadata": {},
     "output_type": "execute_result"
    }
   ],
   "source": [
    "nbins_duration = BIN_CLUSTER\n",
    "logbins_duration = np.logspace(np.floor(expo_duration1), np.ceil(expo_duration2), nbins_duration+1)\n",
    "logbins_duration[0] = 0  # deal with underflow\n",
    "logbins_duration[-1] = np.power(10, expo_duration2+2)\n",
    "logbins_duration"
   ]
  },
  {
   "cell_type": "code",
   "execution_count": 67,
   "metadata": {},
   "outputs": [
    {
     "data": {
      "text/plain": "<Figure size 360x216 with 1 Axes>",
      "image/png": "[encoded data removed]"
     },
     "metadata": {
      "needs_background": "light"
     },
     "output_type": "display_data"
    }
   ],
   "source": [
    "ax = pd.Series(poi_durations).hist(figsize=(5, 3), bins=logbins_duration)\n",
    "ax.set_xlim(xmin=0.1)\n",
    "ax.set_xscale('log')"
   ]
  },
  {
   "cell_type": "code",
   "execution_count": 68,
   "metadata": {},
   "outputs": [],
   "source": [
    "def gen_transmat_duration(trajid_list, traj_dict, poi_info, logbins_duration=logbins_duration):\n",
    "    nbins = len(logbins_duration) - 1\n",
    "    transmat_duration_cnt = pd.DataFrame(data=np.zeros((nbins, nbins), dtype=float), \\\n",
    "                                         columns=np.arange(1, nbins+1), index=np.arange(1, nbins+1))\n",
    "    for tid in trajid_list:\n",
    "        t = traj_dict[tid]\n",
    "        if len(t) > 1:\n",
    "            for pi in range(len(t)-1):\n",
    "                p1 = t[pi]\n",
    "                p2 = t[pi+1]\n",
    "                assert(p1 in poi_info.index and p2 in poi_info.index)\n",
    "                d1 = poi_info.loc[p1, 'avgDuration']\n",
    "                d2 = poi_info.loc[p2, 'avgDuration']\n",
    "                dc1, dc2 = np.digitize([d1, d2], logbins_duration)\n",
    "                transmat_duration_cnt.loc[dc1, dc2] += 1\n",
    "    return normalise_transmat(transmat_duration_cnt), logbins_duration"
   ]
  },
  {
   "cell_type": "code",
   "execution_count": 69,
   "metadata": {},
   "outputs": [
    {
     "data": {
      "text/plain": "          1         2         3         4         5\n1  0.200000  0.200000  0.200000  0.200000  0.200000\n2  0.166667  0.166667  0.166667  0.333333  0.166667\n3  0.012658  0.012658  0.037975  0.582278  0.354430\n4  0.000708  0.001416  0.043201  0.647309  0.307365\n5  0.001508  0.001508  0.036199  0.686275  0.274510",
      "text/html": "<div>\n<style scoped>\n    .dataframe tbody tr th:only-of-type {\n        vertical-align: middle;\n    }\n\n    .dataframe tbody tr th {\n        vertical-align: top;\n    }\n\n    .dataframe thead th {\n        text-align: right;\n    }\n</style>\n<table border=\"1\" class=\"dataframe\">\n  <thead>\n    <tr style=\"text-align: right;\">\n      <th></th>\n      <th>1</th>\n      <th>2</th>\n      <th>3</th>\n      <th>4</th>\n      <th>5</th>\n    </tr>\n  </thead>\n  <tbody>\n    <tr>\n      <th>1</th>\n      <td>0.200000</td>\n      <td>0.200000</td>\n      <td>0.200000</td>\n      <td>0.200000</td>\n      <td>0.200000</td>\n    </tr>\n    <tr>\n      <th>2</th>\n      <td>0.166667</td>\n      <td>0.166667</td>\n      <td>0.166667</td>\n      <td>0.333333</td>\n      <td>0.166667</td>\n    </tr>\n    <tr>\n      <th>3</th>\n      <td>0.012658</td>\n      <td>0.012658</td>\n      <td>0.037975</td>\n      <td>0.582278</td>\n      <td>0.354430</td>\n    </tr>\n    <tr>\n      <th>4</th>\n      <td>0.000708</td>\n      <td>0.001416</td>\n      <td>0.043201</td>\n      <td>0.647309</td>\n      <td>0.307365</td>\n    </tr>\n    <tr>\n      <th>5</th>\n      <td>0.001508</td>\n      <td>0.001508</td>\n      <td>0.036199</td>\n      <td>0.686275</td>\n      <td>0.274510</td>\n    </tr>\n  </tbody>\n</table>\n</div>"
     },
     "execution_count": 69,
     "metadata": {},
     "output_type": "execute_result"
    }
   ],
   "source": [
    "gen_transmat_duration(trajid_set_all, traj_dict, poi_info_all)[0]"
   ]
  },
  {
   "cell_type": "markdown",
   "metadata": {},
   "source": [
    "## 3.6 Transition Matrix between POI Neighborhood Classes"
   ]
  },
  {
   "cell_type": "markdown",
   "metadata": {},
   "source": [
    "KMeans in scikit-learn seems unable to use custom distance metric and no implementation of [Haversine formula](http://en.wikipedia.org/wiki/Great-circle_distance), use Euclidean distance to approximate."
   ]
  },
  {
   "cell_type": "code",
   "execution_count": 70,
   "metadata": {},
   "outputs": [],
   "source": [
    "X = poi_all.loc[poi_train, ['poiLon', 'poiLat']]\n",
    "nclusters = BIN_CLUSTER"
   ]
  },
  {
   "cell_type": "markdown",
   "source": [],
   "metadata": {
    "collapsed": false
   }
  },
  {
   "cell_type": "code",
   "execution_count": 71,
   "metadata": {},
   "outputs": [
    {
     "data": {
      "text/plain": "KMeans(n_clusters=5, random_state=987654321)"
     },
     "execution_count": 71,
     "metadata": {},
     "output_type": "execute_result"
    }
   ],
   "source": [
    "kmeans = KMeans(n_clusters=nclusters, random_state=987654321)\n",
    "kmeans.fit(X)"
   ]
  },
  {
   "cell_type": "code",
   "execution_count": 72,
   "metadata": {},
   "outputs": [],
   "source": [
    "clusters = kmeans.predict(X)\n",
    "POI_CLUSTER_LIST = sorted(np.unique(clusters))\n",
    "POI_CLUSTERS = pd.DataFrame(data=clusters, index=poi_train)\n",
    "POI_CLUSTERS.index.name = 'poiID'\n",
    "POI_CLUSTERS.rename(columns={0:'clusterID'}, inplace=True)\n",
    "POI_CLUSTERS['clusterID'] = POI_CLUSTERS['clusterID'].astype(int)"
   ]
  },
  {
   "cell_type": "markdown",
   "metadata": {},
   "source": [
    "Scatter plot of POI coordinates with clustering results."
   ]
  },
  {
   "cell_type": "code",
   "execution_count": 73,
   "metadata": {},
   "outputs": [
    {
     "data": {
      "text/plain": "<matplotlib.collections.PathCollection at 0x7f9da1da2cd0>"
     },
     "execution_count": 73,
     "metadata": {},
     "output_type": "execute_result"
    },
    {
     "data": {
      "text/plain": "<Figure size 432x432 with 1 Axes>",
      "image/png": "[encoded data removed]"
     },
     "metadata": {
      "needs_background": "light"
     },
     "output_type": "display_data"
    }
   ],
   "source": [
    "diff = poi_all.loc[poi_train, ['poiLon', 'poiLat']].max() - poi_all.loc[poi_train, ['poiLon', 'poiLat']].min()\n",
    "ratio = diff['poiLon'] / diff['poiLat']\n",
    "height = 6; width = int(round(ratio)*height)\n",
    "plt.figure(figsize=[width, height])\n",
    "plt.scatter(poi_all.loc[poi_train, 'poiLon'], poi_all.loc[poi_train, 'poiLat'], c=clusters, s=50)"
   ]
  },
  {
   "cell_type": "code",
   "execution_count": 74,
   "metadata": {},
   "outputs": [],
   "source": [
    "def gen_transmat_neighbor(trajid_list, traj_dict, poi_info, poi_clusters=POI_CLUSTERS):\n",
    "    nclusters = len(poi_clusters['clusterID'].unique())\n",
    "    transmat_neighbor_cnt = pd.DataFrame(data=np.zeros((nclusters, nclusters), dtype=float), \\\n",
    "                                         columns=np.arange(nclusters), index=np.arange(nclusters))\n",
    "    for tid in trajid_list:\n",
    "        t = traj_dict[tid]\n",
    "        if len(t) > 1:\n",
    "            for pi in range(len(t)-1):\n",
    "                p1 = t[pi]\n",
    "                p2 = t[pi+1]\n",
    "                assert(p1 in poi_info.index and p2 in poi_info.index)\n",
    "                c1 = poi_clusters.loc[p1, 'clusterID']\n",
    "                c2 = poi_clusters.loc[p2, 'clusterID']\n",
    "                transmat_neighbor_cnt.loc[c1, c2] += 1\n",
    "    return normalise_transmat(transmat_neighbor_cnt), poi_clusters"
   ]
  },
  {
   "cell_type": "code",
   "execution_count": 75,
   "metadata": {},
   "outputs": [
    {
     "data": {
      "text/plain": "          0         1         2         3         4\n0  0.200000  0.250000  0.500000  0.025000  0.025000\n1  0.034351  0.500000  0.442748  0.001908  0.020992\n2  0.007083  0.134578  0.840953  0.000644  0.016742\n3  0.200000  0.200000  0.200000  0.200000  0.200000\n4  0.023256  0.162791  0.581395  0.023256  0.209302",
      "text/html": "<div>\n<style scoped>\n    .dataframe tbody tr th:only-of-type {\n        vertical-align: middle;\n    }\n\n    .dataframe tbody tr th {\n        vertical-align: top;\n    }\n\n    .dataframe thead th {\n        text-align: right;\n    }\n</style>\n<table border=\"1\" class=\"dataframe\">\n  <thead>\n    <tr style=\"text-align: right;\">\n      <th></th>\n      <th>0</th>\n      <th>1</th>\n      <th>2</th>\n      <th>3</th>\n      <th>4</th>\n    </tr>\n  </thead>\n  <tbody>\n    <tr>\n      <th>0</th>\n      <td>0.200000</td>\n      <td>0.250000</td>\n      <td>0.500000</td>\n      <td>0.025000</td>\n      <td>0.025000</td>\n    </tr>\n    <tr>\n      <th>1</th>\n      <td>0.034351</td>\n      <td>0.500000</td>\n      <td>0.442748</td>\n      <td>0.001908</td>\n      <td>0.020992</td>\n    </tr>\n    <tr>\n      <th>2</th>\n      <td>0.007083</td>\n      <td>0.134578</td>\n      <td>0.840953</td>\n      <td>0.000644</td>\n      <td>0.016742</td>\n    </tr>\n    <tr>\n      <th>3</th>\n      <td>0.200000</td>\n      <td>0.200000</td>\n      <td>0.200000</td>\n      <td>0.200000</td>\n      <td>0.200000</td>\n    </tr>\n    <tr>\n      <th>4</th>\n      <td>0.023256</td>\n      <td>0.162791</td>\n      <td>0.581395</td>\n      <td>0.023256</td>\n      <td>0.209302</td>\n    </tr>\n  </tbody>\n</table>\n</div>"
     },
     "execution_count": 75,
     "metadata": {},
     "output_type": "execute_result"
    }
   ],
   "source": [
    "gen_transmat_neighbor(trajid_set_all, traj_dict, poi_info_all)[0]"
   ]
  },
  {
   "cell_type": "markdown",
   "metadata": {},
   "source": [
    "## 3.8 Transition Matrix between POIs"
   ]
  },
  {
   "cell_type": "markdown",
   "metadata": {},
   "source": [
    "Approximate transition probabilities (matrix) between different POI features (vector) using the [Kronecker product](https://en.wikipedia.org/wiki/Kronecker_product) of individual transition matrix corresponding to each feature, i.e., POI category, POI popularity (discritized), POI average visit duration (discritized) and POI neighborhoods (clusters)."
   ]
  },
  {
   "cell_type": "markdown",
   "metadata": {},
   "source": [
    "Deal with features without corresponding POIs and feature with more than one corresponding POIs. (*Before Normalisation*)\n",
    "- For features without corresponding POIs, just remove the rows and columns from the matrix obtained by Kronecker product.\n",
    "- For different POIs with the exact same feature, \n",
    "  - Let POIs with the same feature as a POI group,\n",
    "  - The *incoming* **transition value (i.e., unnormalised transition probability)** of this POI group \n",
    "    should be divided uniformly among the group members, \n",
    "    *which corresponds to choose a group member uniformly at random in the incoming case*.\n",
    "  - The *outgoing* transition value should be duplicated (i.e., the same) among all group members, \n",
    "    **as we were already in that group in the outgoing case**.\n",
    "  - For each POI in the group, the allocation transition value of the *self-loop of the POI group* is similar to \n",
    "    that in the *outgoing* case, **as we were already in that group**, so just duplicate and then divide uniformly among \n",
    "    the transitions from this POI to other POIs in the same group, \n",
    "    *which corresponds to choose a outgoing transition uniformly at random from all outgoing transitions\n",
    "    excluding the self-loop of this POI*.\n",
    "- **Concretely**, for a POI group with $n$ POIs, \n",
    "    1. If the *incoming* transition value of POI group is $m_1$,\n",
    "       then the corresponding *incoming* transition value for each group member is $\\frac{m_1}{n}$.\n",
    "    1. If the *outgoing* transition value of POI group is $m_2$,\n",
    "       then the corresponding *outgoing* transition value for each group member is also $m_2$.\n",
    "    1. If the transition value of *self-loop of the POI group* is $m_3$,\n",
    "       then transition value of *self-loop of individual POIs* should be $0$,  \n",
    "       and *other in-group transitions* with value $\\frac{m_3}{n-1}$\n",
    "       as the total number of outgoing transitions to other POIs in the same group is $n-1$ (excluding the self-loop),\n",
    "       i.e. $n-1$ choose $1$.\n",
    "       \n",
    "**NOTE**: execute the above division before or after row normalisation will lead to the same result, *as the division itself does NOT change the normalising constant of each row (i.e., the sum of each row before normalising)*."
   ]
  },
  {
   "cell_type": "code",
   "execution_count": 76,
   "metadata": {},
   "outputs": [],
   "source": [
    "def gen_poi_logtransmat(trajid_list, poi_set, traj_dict, poi_info, debug=False):\n",
    "    transmat_cat                        = gen_transmat_cat(trajid_list, traj_dict, poi_info)\n",
    "    transmat_pop,      logbins_pop      = gen_transmat_pop(trajid_list, traj_dict, poi_info)\n",
    "    transmat_visit,    logbins_visit    = gen_transmat_visit(trajid_list, traj_dict, poi_info)\n",
    "    transmat_duration, logbins_duration = gen_transmat_duration(trajid_list, traj_dict, poi_info)\n",
    "    transmat_neighbor, poi_clusters     = gen_transmat_neighbor(trajid_list, traj_dict, poi_info)\n",
    "\n",
    "    # Kronecker product\n",
    "    transmat_ix = list(itertools.product(transmat_cat.index, transmat_pop.index, transmat_visit.index, \\\n",
    "                                         transmat_duration.index, transmat_neighbor.index))\n",
    "    transmat_value = transmat_cat.values\n",
    "    for transmat in [transmat_pop, transmat_visit, transmat_duration, transmat_neighbor]:\n",
    "        transmat_value = kron(transmat_value, transmat.values)\n",
    "    transmat_feature = pd.DataFrame(data=transmat_value, index=transmat_ix, columns=transmat_ix)\n",
    "    \n",
    "    poi_train = sorted(poi_set)\n",
    "    feature_names = ['poiCat', 'popularity', 'nVisit', 'avgDuration', 'clusterID']\n",
    "    poi_features = pd.DataFrame(data=np.zeros((len(poi_train), len(feature_names))), \\\n",
    "                                columns=feature_names, index=poi_train)\n",
    "    poi_features.index.name = 'poiID'\n",
    "    poi_features['poiCat'] = poi_info.loc[poi_train, 'poiCat']\n",
    "    poi_features['popularity'] = np.digitize(poi_info.loc[poi_train, 'popularity'], logbins_pop)\n",
    "    poi_features['nVisit'] = np.digitize(poi_info.loc[poi_train, 'nVisit'], logbins_visit)\n",
    "    poi_features['avgDuration'] = np.digitize(poi_info.loc[poi_train, 'avgDuration'], logbins_duration)\n",
    "    poi_features['clusterID'] = poi_clusters.loc[poi_train, 'clusterID']\n",
    "    \n",
    "    # shrink the result of Kronecker product and deal with POIs with the same features\n",
    "    poi_logtransmat = pd.DataFrame(data=np.zeros((len(poi_train), len(poi_train)), dtype=float), \\\n",
    "                                   columns=poi_train, index=poi_train)\n",
    "    for p1 in poi_logtransmat.index:\n",
    "        rix = tuple(poi_features.loc[p1])\n",
    "        for p2 in poi_logtransmat.columns:\n",
    "            cix = tuple(poi_features.loc[p2])\n",
    "            value_ = transmat_feature.loc[(rix,), (cix,)]\n",
    "            poi_logtransmat.loc[p1, p2] = value_.values[0, 0]\n",
    "    \n",
    "    # group POIs with the same features\n",
    "    features_dup = dict()\n",
    "    for poi in poi_features.index:\n",
    "        key = tuple(poi_features.loc[poi])\n",
    "        if key in features_dup:\n",
    "            features_dup[key].append(poi)\n",
    "        else:\n",
    "            features_dup[key] = [poi]\n",
    "    if debug == True:\n",
    "        for key in sorted(features_dup.keys()):\n",
    "            print(key, '->', features_dup[key])\n",
    "            \n",
    "    # deal with POIs with the same features\n",
    "    for feature in sorted(features_dup.keys()):\n",
    "        n = len(features_dup[feature])\n",
    "        if n > 1:\n",
    "            group = features_dup[feature]\n",
    "            v1 = poi_logtransmat.loc[group[0], group[0]]  # transition value of self-loop of POI group\n",
    "            \n",
    "            # divide incoming transition value (i.e. unnormalised transition probability) uniformly among group members\n",
    "            for poi in group:\n",
    "                poi_logtransmat[poi] /= n\n",
    "                \n",
    "            # outgoing transition value has already been duplicated (value copied above)\n",
    "            \n",
    "            # duplicate & divide transition value of self-loop of POI group uniformly among all outgoing transitions,\n",
    "            # from a POI to all other POIs in the same group (excluding POI self-loop)\n",
    "            v2 = v1 / (n - 1)\n",
    "            for pair in itertools.permutations(group, 2):\n",
    "                poi_logtransmat.loc[pair[0], pair[1]] = v2\n",
    "                            \n",
    "    # normalise each row\n",
    "    for p1 in poi_logtransmat.index:\n",
    "        poi_logtransmat.loc[p1, p1] = 0\n",
    "        rowsum = poi_logtransmat.loc[p1].sum()\n",
    "        assert(rowsum > 0)\n",
    "        logrowsum = np.log10(rowsum)\n",
    "        for p2 in poi_logtransmat.columns:\n",
    "            if p1 == p2:\n",
    "                poi_logtransmat.loc[p1, p2] = LOG_ZERO  # deal with log(0) explicitly\n",
    "            else:\n",
    "                poi_logtransmat.loc[p1, p2] = np.log10(poi_logtransmat.loc[p1, p2]) - logrowsum\n",
    "    \n",
    "    return poi_logtransmat"
   ]
  },
  {
   "cell_type": "code",
   "execution_count": 77,
   "metadata": {},
   "outputs": [
    {
     "name": "stdout",
     "output_type": "stream",
     "text": [
      "('City precincts', 2, 3, 4, 2) -> [5]\n",
      "('City precincts', 2, 3, 5, 2) -> [6]\n",
      "('City precincts', 3, 3, 4, 0) -> [1]\n",
      "('City precincts', 3, 3, 4, 1) -> [3, 7]\n",
      "('City precincts', 3, 4, 5, 1) -> [4]\n",
      "('City precincts', 4, 4, 4, 2) -> [0, 2]\n",
      "('Entertainment', 3, 4, 5, 1) -> [28]\n",
      "('Entertainment', 4, 4, 4, 2) -> [27]\n",
      "('Entertainment', 4, 4, 5, 2) -> [25]\n",
      "('Entertainment', 4, 4, 5, 4) -> [26]\n",
      "('Institutions', 2, 2, 4, 2) -> [43]\n",
      "('Institutions', 2, 2, 5, 2) -> [33]\n",
      "('Institutions', 3, 3, 3, 1) -> [42]\n",
      "('Institutions', 3, 3, 4, 1) -> [36, 37, 38]\n",
      "('Institutions', 3, 3, 4, 2) -> [34]\n",
      "('Institutions', 3, 4, 4, 2) -> [39]\n",
      "('Institutions', 4, 4, 5, 1) -> [41]\n",
      "('Institutions', 4, 4, 5, 2) -> [40]\n",
      "('Institutions', 4, 5, 4, 1) -> [32]\n",
      "('Institutions', 4, 5, 4, 2) -> [35]\n",
      "('Parks and spaces', 1, 4, 2, 1) -> [77]\n",
      "('Parks and spaces', 2, 2, 3, 2) -> [79]\n",
      "('Parks and spaces', 2, 2, 5, 4) -> [66]\n",
      "('Parks and spaces', 2, 3, 5, 2) -> [74]\n",
      "('Parks and spaces', 3, 3, 3, 1) -> [69]\n",
      "('Parks and spaces', 3, 3, 4, 1) -> [73]\n",
      "('Parks and spaces', 3, 3, 4, 2) -> [67, 72, 75, 78]\n",
      "('Parks and spaces', 3, 3, 4, 4) -> [76]\n",
      "('Parks and spaces', 4, 4, 4, 2) -> [68, 70]\n",
      "('Parks and spaces', 5, 5, 5, 2) -> [71]\n",
      "('Public galleries', 3, 3, 3, 2) -> [29]\n",
      "('Public galleries', 3, 3, 4, 1) -> [30]\n",
      "('Public galleries', 4, 4, 5, 2) -> [31]\n",
      "('Shopping', 2, 3, 4, 2) -> [10]\n",
      "('Shopping', 3, 3, 4, 4) -> [12]\n",
      "('Shopping', 3, 3, 5, 1) -> [24]\n",
      "('Shopping', 3, 4, 4, 1) -> [16, 19]\n",
      "('Shopping', 3, 4, 4, 2) -> [23]\n",
      "('Shopping', 3, 4, 5, 2) -> [18]\n",
      "('Shopping', 3, 4, 5, 4) -> [20]\n",
      "('Shopping', 4, 4, 3, 2) -> [13]\n",
      "('Shopping', 4, 4, 4, 1) -> [11, 22]\n",
      "('Shopping', 4, 4, 4, 2) -> [8, 14, 15, 17]\n",
      "('Shopping', 4, 4, 5, 1) -> [21]\n",
      "('Shopping', 4, 5, 4, 2) -> [9]\n",
      "('Sports stadiums', 2, 2, 5, 0) -> [61]\n",
      "('Sports stadiums', 2, 2, 5, 1) -> [65]\n",
      "('Sports stadiums', 2, 2, 5, 2) -> [52, 62]\n",
      "('Sports stadiums', 2, 2, 5, 4) -> [60]\n",
      "('Sports stadiums', 2, 3, 5, 4) -> [58, 59]\n",
      "('Sports stadiums', 3, 3, 5, 0) -> [53]\n",
      "('Sports stadiums', 3, 3, 5, 2) -> [55, 56]\n",
      "('Sports stadiums', 3, 4, 5, 2) -> [63]\n",
      "('Sports stadiums', 4, 4, 5, 2) -> [57]\n",
      "('Structures', 3, 3, 4, 0) -> [47]\n",
      "('Structures', 3, 3, 4, 2) -> [51]\n",
      "('Structures', 3, 4, 5, 2) -> [46]\n",
      "('Structures', 4, 4, 4, 2) -> [44, 49, 50]\n",
      "('Structures', 4, 4, 5, 1) -> [48]\n",
      "('Structures', 4, 4, 5, 2) -> [45]\n",
      "('Transport', 1, 1, 1, 3) -> [83]\n",
      "('Transport', 2, 2, 3, 0) -> [86]\n",
      "('Transport', 2, 3, 4, 0) -> [80]\n",
      "('Transport', 4, 4, 4, 1) -> [84, 85]\n",
      "('Transport', 4, 4, 4, 2) -> [81]\n",
      "('Transport', 4, 5, 4, 2) -> [82]\n"
     ]
    }
   ],
   "source": [
    "transmat_ = gen_poi_logtransmat(trajid_set_all, set(poi_info_all.index), traj_dict, poi_info_all, debug=True)"
   ]
  },
  {
   "cell_type": "markdown",
   "metadata": {},
   "source": [
    "## 3.9 Viterbi Decoding vs ILP"
   ]
  },
  {
   "cell_type": "markdown",
   "metadata": {},
   "source": [
    "Use dynamic programming to find a possibly non-simple path, i.e., walk.   "
   ]
  },
  {
   "cell_type": "markdown",
   "metadata": {},
   "source": [
    "Can include/exclude `startPOI` and `endPOI` when evaluating intermediate POIs in dynamic programming."
   ]
  },
  {
   "cell_type": "code",
   "execution_count": 78,
   "metadata": {},
   "outputs": [],
   "source": [
    "def find_viterbi(V, E, ps, pe, L, withNodeWeight=False, alpha=0.5, withStartEndIntermediate=False):\n",
    "    assert(isinstance(V, pd.DataFrame))\n",
    "    assert(isinstance(E, pd.DataFrame))\n",
    "    assert(ps in V.index)\n",
    "    assert(pe in V.index)\n",
    "    assert(2 < L <= V.index.shape[0])  \n",
    "    if withNodeWeight == True:\n",
    "        assert(0 < alpha < 1)\n",
    "        beta = 1 - alpha\n",
    "    else:\n",
    "        alpha = 0\n",
    "        beta = 1\n",
    "        weightkey = 'weight'\n",
    "        if weightkey not in V.columns:\n",
    "            V['weight'] = 1  # dummy weights, will not be used as alpha=0\n",
    "    if withStartEndIntermediate == True:\n",
    "        excludes = [ps]\n",
    "    else:\n",
    "        excludes = [ps, pe]\n",
    "    \n",
    "    A = pd.DataFrame(data=np.zeros((L-1, V.shape[0]), dtype=float), columns=V.index, index=np.arange(2, L+1))\n",
    "    B = pd.DataFrame(data=np.zeros((L-1, V.shape[0]), dtype=int),   columns=V.index, index=np.arange(2, L+1))\n",
    "    A += np.inf\n",
    "    for v in V.index:            \n",
    "        if v not in excludes:\n",
    "            A.loc[2, v] = alpha * (V.loc[ps, 'weight'] + V.loc[v, 'weight']) + beta * E.loc[ps, v]  # ps--v\n",
    "            B.loc[2, v] = ps\n",
    "    \n",
    "    for l in range(3, L+1):\n",
    "        for v in V.index:\n",
    "            if withStartEndIntermediate == True: # ps-~-v1---v \n",
    "                values = [A.loc[l-1, v1] + alpha * V.loc[v, 'weight'] + beta * E.loc[v1, v] for v1 in V.index]\n",
    "            else: # ps-~-v1---v \n",
    "                values = [A.loc[l-1, v1] + alpha * V.loc[v, 'weight'] + beta * E.loc[v1, v] \\\n",
    "                          if v1 not in [ps, pe] else -np.inf for v1 in V.index] # exclude ps and pe\n",
    "            \n",
    "            maxix = np.argmax(values)\n",
    "            A.loc[l, v] = values[maxix]\n",
    "            B.loc[l, v] = V.index[maxix]\n",
    "            \n",
    "    path = [pe]\n",
    "    v = path[-1]\n",
    "    l = L\n",
    "    while l >= 2:\n",
    "        path.append(B.loc[l, v])\n",
    "        v = path[-1]\n",
    "        l -= 1\n",
    "    path.reverse()\n",
    "    return path"
   ]
  },
  {
   "cell_type": "markdown",
   "metadata": {},
   "source": [
    "Use integer linear programming (ILP) to find a simple path."
   ]
  },
  {
   "cell_type": "markdown",
   "source": [
    "#Tobi:\n",
    "if you just use pb.solve() then it works fine"
   ],
   "metadata": {
    "collapsed": false,
    "pycharm": {
     "name": "#%% md\n"
    }
   }
  },
  {
   "cell_type": "code",
   "execution_count": 79,
   "metadata": {},
   "outputs": [],
   "source": [
    "def find_ILP(V, E, ps, pe, L, withNodeWeight=False, alpha=0.5):\n",
    "    assert(isinstance(V, pd.DataFrame))\n",
    "    assert(isinstance(E, pd.DataFrame))\n",
    "    assert(ps in V.index)\n",
    "    assert(pe in V.index)\n",
    "    assert(2 < L <= V.index.shape[0])\n",
    "    if withNodeWeight == True:\n",
    "        assert(0 < alpha < 1)\n",
    "    beta = 1 - alpha\n",
    "    \n",
    "    p0 = str(ps); pN = str(pe); N = V.index.shape[0]\n",
    "    \n",
    "    # REF: pythonhosted.org/PuLP/index.html\n",
    "    pois = [str(p) for p in V.index] # create a string list for each POI\n",
    "    pb = pulp.LpProblem('MostLikelyTraj', pulp.LpMaximize) # create problem\n",
    "    # visit_i_j = 1 means POI i and j are visited in sequence\n",
    "    visit_vars = pulp.LpVariable.dicts('visit', (pois, pois), 0, 1, pulp.LpInteger) \n",
    "    # a dictionary contains all dummy variables\n",
    "    dummy_vars = pulp.LpVariable.dicts('u', [x for x in pois if x != p0], 2, N, pulp.LpInteger)\n",
    "    \n",
    "    # add objective\n",
    "    objlist = []\n",
    "    if withNodeWeight == True:\n",
    "        objlist.append(alpha * V.loc[int(p0), 'weight'])\n",
    "    for pi in [x for x in pois if x != pN]:     # from\n",
    "        for pj in [y for y in pois if y != p0]: # to\n",
    "            if withNodeWeight == True:\n",
    "                objlist.append(visit_vars[pi][pj] * (alpha * V.loc[int(pj), 'weight'] + beta * E.loc[int(pi), int(pj)]))\n",
    "            else:\n",
    "                objlist.append(visit_vars[pi][pj] * E.loc[int(pi), int(pj)])\n",
    "    pb += pulp.lpSum(objlist), 'Objective'\n",
    "    \n",
    "    # add constraints, each constraint should be in ONE line\n",
    "    pb += pulp.lpSum([visit_vars[p0][pj] for pj in pois if pj != p0]) == 1, 'StartAt_p0'\n",
    "    pb += pulp.lpSum([visit_vars[pi][pN] for pi in pois if pi != pN]) == 1, 'EndAt_pN'\n",
    "    if p0 != pN:\n",
    "        pb += pulp.lpSum([visit_vars[pi][p0] for pi in pois]) == 0, 'NoIncoming_p0'\n",
    "        pb += pulp.lpSum([visit_vars[pN][pj] for pj in pois]) == 0, 'NoOutgoing_pN'\n",
    "    pb += pulp.lpSum([visit_vars[pi][pj] for pi in pois if pi != pN for pj in pois if pj != p0]) == L-1, 'Length'\n",
    "    for pk in [x for x in pois if x not in {p0, pN}]:\n",
    "        pb += pulp.lpSum([visit_vars[pi][pk] for pi in pois if pi != pN]) == \\\n",
    "              pulp.lpSum([visit_vars[pk][pj] for pj in pois if pj != p0]), 'ConnectedAt_' + pk\n",
    "        pb += pulp.lpSum([visit_vars[pi][pk] for pi in pois if pi != pN]) <= 1, 'Enter_' + pk + '_AtMostOnce'\n",
    "        pb += pulp.lpSum([visit_vars[pk][pj] for pj in pois if pj != p0]) <= 1, 'Leave_' + pk + '_AtMostOnce'\n",
    "    for pi in [x for x in pois if x != p0]:\n",
    "        for pj in [y for y in pois if y != p0]:\n",
    "            pb += dummy_vars[pi] - dummy_vars[pj] + 1 <= (N - 1) * (1 - visit_vars[pi][pj]), \\\n",
    "                    'SubTourElimination_' + pi + '_' + pj\n",
    "    #pb.writeLP(\"traj_tmp.lp\")\n",
    "    # solve problem: solver should be available in PATH\n",
    "    if USE_GUROBI == True:\n",
    "        gurobi_options = [('TimeLimit', '7200'), ('Threads', str(N_JOBS)), ('NodefileStart', '0.2'), ('Cuts', '2')]\n",
    "        pb.solve(pulp.GUROBI_CMD(path='gurobi_cl', options=gurobi_options)) # GUROBI\n",
    "    else:\n",
    "        pb.solve(pulp.COIN_CMD(path='/Users/tobias/PycharmProjects/DataspellProjects/edd/venv/lib/python3.9/site-packages/pulp/solverdir/cbc/osx/64/cbc', options=['-threads', str(N_JOBS), '-strategy', '1', '-maxIt', '2000000']))#CBC\n",
    "        #pb.solve()\n",
    "    visit_mat = pd.DataFrame(data=np.zeros((len(pois), len(pois)), dtype=float), index=pois, columns=pois)\n",
    "    for pi in pois:\n",
    "        for pj in pois: visit_mat.loc[pi, pj] = visit_vars[pi][pj].varValue\n",
    "\n",
    "    # build the recommended trajectory\n",
    "    recseq = [p0]\n",
    "    while True:\n",
    "        pi = recseq[-1]\n",
    "        pj = visit_mat.loc[pi].idxmax()\n",
    "        assert(round(visit_mat.loc[pi, pj]) == 1)\n",
    "        recseq.append(pj)\n",
    "        if pj == pN: return [int(x) for x in recseq]"
   ]
  },
  {
   "cell_type": "markdown",
   "metadata": {},
   "source": [
    "Tune $\\alpha$ using a validation set based on performance of `Rank+Markov` in terms of `pairs-F1`:\n",
    "leave-one-out cross validation on validation set (with all short trajectories, i.e., length $\\le 2$, included when training)."
   ]
  },
  {
   "cell_type": "code",
   "execution_count": 80,
   "metadata": {},
   "outputs": [],
   "source": [
    "def cv_choose_alpha(alpha_set, validation_set, short_traj_set):\n",
    "    assert(len(set(validation_set) & set(short_traj_set)) == 0)  # NO intersection\n",
    "    best_score = 0\n",
    "    best_alpha = 0\n",
    "    cnt = 1; total = len(validation_set) * len(alpha_set)\n",
    "    for alpha_i in alpha_set:\n",
    "        scores = []\n",
    "        for i in range(len(validation_set)):\n",
    "            tid = validation_set[i]\n",
    "            te = traj_dict[tid]\n",
    "            assert(len(te) > 2)\n",
    "            \n",
    "            trajid_list_train = list(short_traj_set) + list(validation_set[:i]) + list(validation_set[i+1:])\n",
    "            poi_info = calc_poi_info(trajid_list_train, traj_all, poi_all)\n",
    "            \n",
    "            # start/end is not in training set\n",
    "            if not (te[0] in poi_info.index and te[-1] in poi_info.index): \n",
    "                print('Failed cross-validation instance:', te)\n",
    "                continue\n",
    "        \n",
    "            train_df = gen_train_df(trajid_list_train, traj_dict, poi_info, poi_clusters=POI_CLUSTERS, \\\n",
    "                                    cats=POI_CAT_LIST, clusters=POI_CLUSTER_LIST, n_jobs=N_JOBS)\n",
    "            ranksvm = RankSVM(ranksvm_dir, useLinear=True)\n",
    "            ranksvm.train(train_df, cost=RANKSVM_COST)\n",
    "            test_df = gen_test_df(te[0], te[-1], len(te), poi_info, poi_clusters=POI_CLUSTERS, \\\n",
    "                                  cats=POI_CAT_LIST, clusters=POI_CLUSTER_LIST)\n",
    "            rank_df = ranksvm.predict(test_df)\n",
    "\n",
    "            poi_logtransmat = gen_poi_logtransmat(trajid_list_train, set(poi_info.index), traj_dict, poi_info)\n",
    "            edges = poi_logtransmat.copy()\n",
    "            \n",
    "            nodes = rank_df.copy()\n",
    "            nodes['weight'] = np.log10(nodes['probability'])\n",
    "            nodes.drop('probability', axis=1, inplace=True)\n",
    "            comb = find_viterbi(nodes, edges, te[0], te[-1], len(te), withNodeWeight=True, alpha=alpha_i)\n",
    "            \n",
    "            scores.append(calc_pairsF1(te, comb))\n",
    "            \n",
    "            print_progress(cnt, total); cnt += 1\n",
    "            \n",
    "        mean_score = np.mean(scores)\n",
    "        print('alpha:', alpha_i, ' mean pairs-F1:', mean_score)\n",
    "        if best_score > mean_score: continue\n",
    "        best_score = mean_score\n",
    "        best_alpha = alpha_i\n",
    "            \n",
    "    return best_alpha"
   ]
  },
  {
   "cell_type": "markdown",
   "metadata": {},
   "source": [
    "# 4. Trajectory Recommendation - Leave-one-out Evaluation"
   ]
  },
  {
   "cell_type": "markdown",
   "source": [
    "# Tobi:\n",
    "1. let warnings disappear: (replace np.int with int)\n",
    "2. the problem starts here: `ranksvm = RankSVM(ranksvm_dir, useLinear=True)` and `ranksvm.train(train_df, cost=RANKSVM_COST)` --> we will have to understand how RankSWM works (is an installation needed??)"
   ],
   "metadata": {
    "collapsed": false
   }
  },
  {
   "cell_type": "markdown",
   "metadata": {},
   "source": [
    "Recommend trajectories by leveraging POI ranking."
   ]
  },
  {
   "cell_type": "code",
   "execution_count": 81,
   "metadata": {
    "scrolled": true
   },
   "outputs": [
    {
     "name": "stdout",
     "output_type": "stream",
     "text": [
      "[81, 75, 56, 57, 78, 55] #1 ->\n",
      "           Rank POP: [81, 71, 82, 32, 50, 55]\n",
      "           Rank POI: [81, 71, 82, 50, 44, 55]\n",
      "[40, 17, 14] #2 ->\n",
      "           Rank POP: [40, 71, 14]\n",
      "           Rank POI: [40, 71, 14]\n",
      "[40, 2, 9, 32] #3 ->\n",
      "           Rank POP: [40, 71, 82, 32]\n",
      "           Rank POI: [40, 71, 82, 32]\n",
      "[16, 41, 22] #4 ->\n",
      "           Rank POP: [16, 71, 22]\n",
      "           Rank POI: [16, 84, 22]\n",
      "[23, 40, 3] #5 ->\n",
      "           Rank POP: [23, 71, 3]\n",
      "           Rank POI: [23, 71, 3]\n",
      "[41, 36, 55, 71, 81, 50] #6 ->\n",
      "           Rank POP: [41, 71, 82, 32, 35, 50]\n",
      "           Rank POI: [41, 71, 82, 35, 32, 50]\n",
      "[82, 50, 15, 70, 69, 48, 40, 84] #7 ->\n",
      "           Rank POP: [82, 71, 32, 50, 35, 9, 81, 84]\n",
      "           Rank POI: [82, 71, 50, 81, 35, 32, 9, 84]\n",
      "[41, 22, 21, 84] #8 ->\n",
      "           Rank POP: [41, 71, 82, 84]\n",
      "           Rank POI: [41, 32, 71, 84]\n",
      "[71, 67, 81, 27] #9 ->\n",
      "           Rank POP: [71, 82, 32, 27]\n",
      "           Rank POI: [71, 82, 50, 27]\n",
      "[9, 44, 81] #10 ->\n",
      "           Rank POP: [9, 71, 81]\n",
      "           Rank POI: [9, 71, 81]\n",
      "[78, 6, 23, 45, 71] #11 ->\n",
      "           Rank POP: [78, 82, 32, 50, 71]\n",
      "           Rank POI: [78, 82, 50, 81, 71]\n",
      "[50, 9, 11, 40] #12 ->\n",
      "           Rank POP: [50, 71, 82, 40]\n",
      "           Rank POI: [50, 71, 82, 40]\n",
      "[2, 32, 15] #13 ->\n",
      "           Rank POP: [2, 71, 15]\n",
      "           Rank POI: [2, 71, 15]\n",
      "[2, 4, 50, 82, 71] #14 ->\n",
      "           Rank POP: [2, 82, 32, 50, 71]\n",
      "           Rank POI: [2, 82, 50, 35, 71]\n",
      "[71, 81, 0] #15 ->\n",
      "           Rank POP: [71, 82, 0]\n",
      "           Rank POI: [71, 82, 0]\n",
      "[21, 19, 44] #16 ->\n",
      "           Rank POP: [21, 71, 44]\n",
      "           Rank POI: [21, 71, 44]\n",
      "[15, 13, 40] #17 ->\n",
      "           Rank POP: [15, 71, 40]\n",
      "           Rank POI: [15, 71, 40]\n",
      "[17, 13, 18, 23, 9] #18 ->\n",
      "           Rank POP: [17, 71, 82, 32, 9]\n",
      "           Rank POI: [17, 71, 82, 50, 9]\n",
      "[71, 25, 32] #19 ->\n",
      "           Rank POP: [71, 82, 32]\n",
      "           Rank POI: [71, 82, 32]\n",
      "[71, 82, 85] #20 ->\n",
      "           Rank POP: [71, 82, 85]\n",
      "           Rank POI: [71, 82, 85]\n",
      "[74, 34, 76] #21 ->\n",
      "           Rank POP: [74, 71, 76]\n",
      "           Rank POI: [74, 71, 76]\n",
      "[46, 25, 45, 71, 32, 23, 8] #22 ->\n",
      "           Rank POP: [46, 71, 82, 32, 50, 35, 8]\n",
      "           Rank POI: [46, 71, 82, 50, 45, 81, 8]\n",
      "[2, 82, 75] #23 ->\n",
      "           Rank POP: [2, 71, 75]\n",
      "           Rank POI: [2, 71, 75]\n",
      "[50, 71, 75, 84, 41, 22, 9] #24 ->\n",
      "           Rank POP: [50, 71, 82, 32, 35, 81, 9]\n",
      "           Rank POI: [50, 71, 82, 35, 81, 45, 9]\n",
      "[15, 50, 9, 32] #25 ->\n",
      "           Rank POP: [15, 71, 82, 32]\n",
      "           Rank POI: [15, 71, 82, 32]\n",
      "[9, 22, 19] #26 ->\n",
      "           Rank POP: [9, 71, 19]\n",
      "           Rank POI: [9, 71, 19]\n",
      "[32, 18, 8] #27 ->\n",
      "           Rank POP: [32, 71, 8]\n",
      "           Rank POI: [32, 71, 8]\n",
      "[44, 31, 43] #28 ->\n",
      "           Rank POP: [44, 71, 43]\n",
      "           Rank POI: [44, 71, 43]\n",
      "[2, 40, 0] #29 ->\n",
      "           Rank POP: [2, 71, 0]\n",
      "           Rank POI: [2, 71, 0]\n",
      "[71, 70, 9] #30 ->\n",
      "           Rank POP: [71, 82, 9]\n",
      "           Rank POI: [71, 82, 9]\n",
      "[41, 9, 35, 82, 81, 71] #31 ->\n",
      "           Rank POP: [41, 82, 32, 50, 35, 71]\n",
      "           Rank POI: [41, 82, 35, 32, 50, 71]\n",
      "[50, 70, 35] #32 ->\n",
      "           Rank POP: [50, 71, 35]\n",
      "           Rank POI: [50, 71, 35]\n",
      "[44, 50, 82, 71, 15, 32, 84, 41, 9] #33 ->\n",
      "           Rank POP: [44, 71, 82, 32, 50, 35, 81, 45, 9]\n",
      "           Rank POI: [44, 71, 82, 50, 81, 35, 45, 32, 9]\n",
      "[27, 15, 82, 71] #34 ->\n",
      "           Rank POP: [27, 82, 32, 71]\n",
      "           Rank POI: [27, 82, 50, 71]\n",
      "[12, 20, 82, 75, 49, 34, 74, 31, 81, 44] #35 ->\n",
      "           Rank POP: [12, 71, 82, 32, 50, 35, 9, 81, 45, 44]\n",
      "           Rank POI: [12, 71, 76, 82, 81, 20, 50, 45, 49, 44]\n",
      "[73, 38, 69, 48, 51, 40, 39, 2] #36 ->\n",
      "           Rank POP: [73, 71, 82, 32, 50, 35, 9, 2]\n",
      "           Rank POI: [73, 71, 82, 32, 84, 35, 50, 2]\n",
      "[85, 1, 42, 21, 19, 71, 31, 69, 3, 61, 34, 15, 25] #37 ->\n",
      "           Rank POP: [85, 71, 82, 32, 50, 35, 9, 81, 45, 41, 26, 84, 25]\n",
      "           Rank POI: [85, 71, 82, 45, 81, 50, 27, 32, 35, 9, 46, 84, 25]\n",
      "[82, 71, 26] #38 ->\n",
      "           Rank POP: [82, 71, 26]\n",
      "           Rank POI: [82, 71, 26]\n",
      "[71, 22, 84] #39 ->\n",
      "           Rank POP: [71, 82, 84]\n",
      "           Rank POI: [71, 82, 84]\n",
      "[15, 82, 0, 31, 81, 44, 13] #40 ->\n",
      "           Rank POP: [15, 71, 82, 32, 50, 35, 13]\n",
      "           Rank POI: [15, 71, 82, 50, 35, 81, 13]\n",
      "[4, 36, 41, 84, 70, 17, 15, 82, 81] #41 ->\n",
      "           Rank POP: [4, 71, 82, 32, 50, 35, 9, 45, 81]\n",
      "           Rank POI: [4, 71, 82, 50, 32, 35, 84, 9, 81]\n",
      "[15, 50, 71] #42 ->\n",
      "           Rank POP: [15, 82, 71]\n",
      "           Rank POI: [15, 82, 71]\n",
      "[81, 74, 76, 45] #43 ->\n",
      "           Rank POP: [81, 71, 82, 45]\n",
      "           Rank POI: [81, 71, 82, 45]\n",
      "[45, 25, 85] #44 ->\n",
      "           Rank POP: [45, 71, 85]\n",
      "           Rank POI: [45, 71, 85]\n",
      "[35, 32, 78] #45 ->\n",
      "           Rank POP: [35, 71, 78]\n",
      "           Rank POI: [35, 71, 78]\n",
      "[71, 48, 41] #46 ->\n",
      "           Rank POP: [71, 82, 41]\n",
      "           Rank POI: [71, 82, 41]\n",
      "[72, 6, 57] #47 ->\n",
      "           Rank POP: [72, 71, 57]\n",
      "           Rank POI: [72, 71, 57]\n",
      "[4, 41, 32] #48 ->\n",
      "           Rank POP: [4, 71, 32]\n",
      "           Rank POI: [4, 84, 32]\n",
      "[82, 50, 71] #49 ->\n",
      "           Rank POP: [82, 32, 71]\n",
      "           Rank POI: [82, 81, 71]\n",
      "[71, 67, 31] #50 ->\n",
      "           Rank POP: [71, 82, 31]\n",
      "           Rank POI: [71, 82, 31]\n",
      "[35, 68, 63] #51 ->\n",
      "           Rank POP: [35, 71, 63]\n",
      "           Rank POI: [35, 71, 63]\n",
      "[69, 48, 25, 42, 27] #52 ->\n",
      "           Rank POP: [69, 71, 82, 32, 27]\n",
      "           Rank POI: [69, 71, 82, 50, 27]\n",
      "[76, 81, 71, 68] #53 ->\n",
      "           Rank POP: [76, 71, 82, 68]\n",
      "           Rank POI: [76, 71, 82, 68]\n",
      "[39, 35, 78] #54 ->\n",
      "           Rank POP: [39, 71, 78]\n",
      "           Rank POI: [39, 71, 78]\n",
      "[68, 71, 82, 45, 14, 25, 27, 85] #55 ->\n",
      "           Rank POP: [68, 71, 82, 32, 50, 35, 9, 85]\n",
      "           Rank POI: [68, 71, 82, 50, 81, 35, 45, 85]\n",
      "[71, 67, 81] #56 ->\n",
      "           Rank POP: [71, 82, 81]\n",
      "           Rank POI: [71, 82, 81]\n",
      "[84, 4, 70, 50] #57 ->\n",
      "           Rank POP: [84, 71, 82, 50]\n",
      "           Rank POI: [84, 71, 82, 50]\n",
      "[45, 56, 23, 70, 8, 15] #58 ->\n",
      "           Rank POP: [45, 71, 82, 32, 50, 15]\n",
      "           Rank POI: [45, 71, 82, 50, 81, 15]\n",
      "[71, 50, 15, 17, 13, 35, 31, 81] #59 ->\n",
      "           Rank POP: [71, 82, 32, 50, 35, 9, 45, 81]\n",
      "           Rank POI: [71, 82, 50, 35, 44, 45, 70, 81]\n",
      "[32, 21, 48, 40, 2, 51] #60 ->\n",
      "           Rank POP: [32, 71, 82, 50, 35, 51]\n",
      "           Rank POI: [32, 71, 35, 82, 50, 51]\n",
      "[49, 17, 18, 23] #61 ->\n",
      "           Rank POP: [49, 71, 82, 23]\n",
      "           Rank POI: [49, 71, 82, 23]\n",
      "[44, 45, 71, 82, 0] #62 ->\n",
      "           Rank POP: [44, 71, 82, 32, 0]\n",
      "           Rank POI: [44, 71, 82, 81, 0]\n",
      "[71, 51, 41] #63 ->\n",
      "           Rank POP: [71, 82, 41]\n",
      "           Rank POI: [71, 82, 41]\n",
      "[27, 25, 45, 81, 50, 35, 9] #64 ->\n",
      "           Rank POP: [27, 71, 82, 32, 50, 35, 9]\n",
      "           Rank POI: [27, 71, 82, 50, 35, 81, 9]\n",
      "[26, 81, 44, 45] #65 ->\n",
      "           Rank POP: [26, 71, 82, 45]\n",
      "           Rank POI: [26, 58, 66, 45]\n",
      "[9, 35, 70, 50, 71, 81, 82, 39] #66 ->\n",
      "           Rank POP: [9, 71, 82, 32, 50, 35, 81, 39]\n",
      "           Rank POI: [9, 71, 82, 50, 35, 81, 32, 39]\n",
      "[71, 44, 75, 81] #67 ->\n",
      "           Rank POP: [71, 82, 32, 81]\n",
      "           Rank POI: [71, 82, 50, 81]\n",
      "[35, 9, 71] #68 ->\n",
      "           Rank POP: [35, 82, 71]\n",
      "           Rank POI: [35, 82, 71]\n",
      "[45, 44, 0] #69 ->\n",
      "           Rank POP: [45, 71, 0]\n",
      "           Rank POI: [45, 71, 0]\n",
      "[22, 9, 23, 41] #70 ->\n",
      "           Rank POP: [22, 71, 82, 41]\n",
      "           Rank POI: [22, 84, 32, 41]\n",
      "[17, 15, 13] #71 ->\n",
      "           Rank POP: [17, 71, 13]\n",
      "           Rank POI: [17, 71, 13]\n",
      "[71, 82, 50, 81, 44, 45] #72 ->\n",
      "           Rank POP: [71, 82, 32, 50, 35, 45]\n",
      "           Rank POI: [71, 82, 81, 50, 35, 45]\n",
      "[81, 82, 45, 44, 0, 25, 15] #73 ->\n",
      "           Rank POP: [81, 71, 82, 32, 50, 35, 15]\n",
      "           Rank POI: [81, 71, 82, 50, 35, 44, 15]\n",
      "[82, 71, 8, 18, 23, 9, 13, 17, 15] #74 ->\n",
      "           Rank POP: [82, 71, 32, 50, 35, 9, 81, 45, 15]\n",
      "           Rank POI: [82, 71, 50, 81, 35, 45, 44, 9, 15]\n",
      "[9, 15, 50, 35] #75 ->\n",
      "           Rank POP: [9, 71, 82, 35]\n",
      "           Rank POI: [9, 71, 82, 35]\n",
      "[40, 37, 36] #76 ->\n",
      "           Rank POP: [40, 71, 36]\n",
      "           Rank POI: [40, 71, 36]\n",
      "[4, 84, 50, 14, 35] #77 ->\n",
      "           Rank POP: [4, 71, 82, 32, 35]\n",
      "           Rank POI: [4, 71, 84, 82, 35]\n",
      "[23, 9, 8, 13] #78 ->\n",
      "           Rank POP: [23, 71, 82, 13]\n",
      "           Rank POI: [23, 71, 82, 13]\n",
      "[35, 31, 81] #79 ->\n",
      "           Rank POP: [35, 71, 81]\n",
      "           Rank POI: [35, 71, 81]\n",
      "[71, 76, 75] #80 ->\n",
      "           Rank POP: [71, 82, 75]\n",
      "           Rank POI: [71, 82, 75]\n",
      "[31, 0, 40] #81 ->\n",
      "           Rank POP: [31, 71, 40]\n",
      "           Rank POI: [31, 71, 40]\n",
      "[23, 17, 50, 35] #82 ->\n",
      "           Rank POP: [23, 71, 82, 35]\n",
      "           Rank POI: [23, 71, 82, 35]\n",
      "[35, 45, 71, 68, 50, 0] #83 ->\n",
      "           Rank POP: [35, 71, 82, 32, 50, 0]\n",
      "           Rank POI: [35, 71, 82, 50, 81, 0]\n",
      "[19, 2, 40, 35, 8, 17, 14, 42, 38, 84, 4] #84 ->\n",
      "           Rank POP: [19, 71, 82, 32, 50, 35, 9, 81, 45, 41, 4]\n",
      "           Rank POI: [19, 84, 32, 71, 41, 22, 9, 82, 35, 50, 4]\n",
      "[22, 18, 8, 32, 84, 16] #85 ->\n",
      "           Rank POP: [22, 71, 82, 32, 50, 16]\n",
      "           Rank POI: [22, 84, 32, 41, 71, 16]\n",
      "[73, 38, 19] #86 ->\n",
      "           Rank POP: [73, 71, 19]\n",
      "           Rank POI: [73, 84, 19]\n",
      "[67, 74, 76, 49, 22] #87 ->\n",
      "           Rank POP: [67, 71, 82, 32, 22]\n",
      "           Rank POI: [67, 71, 82, 50, 22]\n",
      "[14, 70, 32, 84] #88 ->\n",
      "           Rank POP: [14, 71, 82, 84]\n",
      "           Rank POI: [14, 71, 82, 84]\n",
      "[81, 82, 50, 17, 2] #89 ->\n",
      "           Rank POP: [81, 71, 82, 32, 2]\n",
      "           Rank POI: [81, 71, 82, 50, 2]\n",
      "[41, 22, 9] #90 ->\n",
      "           Rank POP: [41, 71, 9]\n",
      "           Rank POI: [41, 71, 9]\n",
      "[41, 84, 22, 26] #91 ->\n",
      "           Rank POP: [41, 71, 82, 26]\n",
      "           Rank POI: [41, 71, 82, 26]\n",
      "[82, 81, 13, 44, 25] #92 ->\n",
      "           Rank POP: [82, 71, 32, 50, 25]\n",
      "           Rank POI: [82, 71, 81, 50, 25]\n",
      "[24, 23, 21, 48, 82] #93 ->\n",
      "           Rank POP: [24, 71, 32, 50, 82]\n",
      "           Rank POI: [24, 71, 50, 32, 82]\n",
      "[46, 78, 35, 50, 71] #94 ->\n",
      "           Rank POP: [46, 82, 32, 50, 71]\n",
      "           Rank POI: [46, 82, 50, 45, 71]\n",
      "[85, 59, 82, 8, 66, 25] #95 ->\n",
      "           Rank POP: [85, 71, 82, 32, 50, 25]\n",
      "           Rank POI: [85, 71, 82, 45, 81, 25]\n",
      "[35, 70, 18, 14] #96 ->\n",
      "           Rank POP: [35, 71, 82, 14]\n",
      "           Rank POI: [35, 71, 82, 14]\n",
      "[9, 35, 32] #97 ->\n",
      "           Rank POP: [9, 71, 32]\n",
      "           Rank POI: [9, 71, 32]\n",
      "[13, 81, 39] #98 ->\n",
      "           Rank POP: [13, 71, 39]\n",
      "           Rank POI: [13, 71, 39]\n",
      "[31, 71, 50, 32] #99 ->\n",
      "           Rank POP: [31, 71, 82, 32]\n",
      "           Rank POI: [31, 71, 82, 32]\n",
      "[26, 15, 41, 71] #100 ->\n",
      "           Rank POP: [26, 82, 32, 71]\n",
      "           Rank POI: [26, 58, 66, 71]\n",
      "[50, 69, 48, 27, 29, 63, 56, 68, 71, 31, 44, 81] #101 ->\n",
      "           Rank POP: [50, 71, 82, 32, 35, 9, 45, 41, 26, 84, 22, 81]\n",
      "           Rank POI: [50, 71, 82, 35, 44, 45, 9, 70, 15, 32, 13, 81]\n",
      "[81, 68, 71, 50] #102 ->\n",
      "           Rank POP: [81, 71, 82, 50]\n",
      "           Rank POI: [81, 71, 82, 50]\n",
      "[84, 41, 32, 22] #103 ->\n",
      "           Rank POP: [84, 71, 82, 22]\n",
      "           Rank POI: [84, 32, 71, 22]\n",
      "[31, 0, 44, 81, 70, 35, 9, 23] #104 ->\n",
      "           Rank POP: [31, 71, 82, 32, 50, 35, 9, 23]\n",
      "           Rank POI: [31, 71, 82, 81, 50, 35, 45, 23]\n",
      "[22, 9, 40] #105 ->\n",
      "           Rank POP: [22, 71, 40]\n",
      "           Rank POI: [22, 71, 40]\n",
      "[50, 13, 8, 0, 44, 84, 41, 22] #106 ->\n",
      "           Rank POP: [50, 71, 82, 32, 35, 9, 81, 22]\n",
      "           Rank POI: [50, 71, 82, 35, 32, 81, 9, 22]\n",
      "[42, 32, 9, 35, 8, 17, 13, 15, 82, 50, 71, 81, 44, 45, 14, 85, 1, 53, 27, 25] #107 ->\n",
      "           Rank POP: [42, 71, 82, 32, 50, 35, 9, 81, 45, 41, 26, 84, 22, 31, 15, 48, 85, 44, 40, 25]\n",
      "           Rank POI: [42, 71, 32, 82, 35, 50, 45, 81, 9, 85, 84, 27, 41, 44, 14, 15, 70, 13, 8, 25]\n",
      "[82, 71, 50, 15] #108 ->\n",
      "           Rank POP: [82, 71, 32, 15]\n",
      "           Rank POI: [82, 71, 50, 15]\n",
      "[42, 71, 13, 50] #109 ->\n",
      "           Rank POP: [42, 71, 82, 50]\n",
      "           Rank POI: [42, 71, 82, 50]\n",
      "[32, 17, 57] #110 ->\n",
      "           Rank POP: [32, 71, 57]\n",
      "           Rank POI: [32, 71, 57]\n",
      "[50, 68, 63] #111 ->\n",
      "           Rank POP: [50, 71, 63]\n",
      "           Rank POI: [50, 71, 63]\n",
      "[27, 35, 69, 36] #112 ->\n",
      "           Rank POP: [27, 71, 82, 36]\n",
      "           Rank POI: [27, 71, 82, 36]\n",
      "[15, 14, 8] #113 ->\n",
      "           Rank POP: [15, 71, 8]\n",
      "           Rank POI: [15, 71, 8]\n",
      "[32, 41, 36, 24] #114 ->\n",
      "           Rank POP: [32, 71, 82, 24]\n",
      "           Rank POI: [32, 71, 84, 24]\n",
      "[18, 71, 8, 14] #115 ->\n",
      "           Rank POP: [18, 71, 82, 14]\n",
      "           Rank POI: [18, 71, 82, 14]\n",
      "[44, 31, 71] #116 ->\n",
      "           Rank POP: [44, 82, 71]\n",
      "           Rank POI: [44, 82, 71]\n",
      "[46, 71, 32, 82] #117 ->\n",
      "           Rank POP: [46, 71, 32, 82]\n",
      "           Rank POI: [46, 71, 50, 82]\n",
      "[60, 55, 69, 10] #118 ->\n",
      "           Rank POP: [60, 71, 82, 10]\n",
      "           Rank POI: [60, 76, 71, 10]\n",
      "[17, 71, 36] #119 ->\n",
      "           Rank POP: [17, 71, 36]\n",
      "           Rank POI: [17, 71, 36]\n",
      "[82, 44, 45] #120 ->\n",
      "           Rank POP: [82, 71, 45]\n",
      "           Rank POI: [82, 71, 45]\n",
      "[27, 82, 35, 13] #121 ->\n",
      "           Rank POP: [27, 71, 82, 13]\n",
      "           Rank POI: [27, 71, 82, 13]\n",
      "[19, 21, 16, 84, 41, 35, 70, 71, 81, 44, 0, 74] #122 ->\n",
      "           Rank POP: [19, 71, 82, 32, 50, 35, 9, 81, 45, 26, 41, 74]\n",
      "           Rank POI: [19, 71, 82, 50, 32, 9, 81, 35, 84, 45, 44, 74]\n",
      "[71, 35, 18, 81, 44, 17, 9] #123 ->\n",
      "           Rank POP: [71, 82, 32, 50, 35, 81, 9]\n",
      "           Rank POI: [71, 82, 50, 35, 81, 70, 9]\n",
      "[4, 71, 81, 44, 31] #124 ->\n",
      "           Rank POP: [4, 71, 82, 32, 31]\n",
      "           Rank POI: [4, 71, 82, 50, 31]\n",
      "[9, 32, 15, 50, 68] #125 ->\n",
      "           Rank POP: [9, 71, 82, 32, 68]\n",
      "           Rank POI: [9, 71, 82, 50, 68]\n",
      "[71, 8, 23, 31, 20] #126 ->\n",
      "           Rank POP: [71, 82, 32, 50, 20]\n",
      "           Rank POI: [71, 82, 81, 50, 20]\n",
      "[71, 50, 82, 15, 8, 32, 13, 70, 51] #127 ->\n",
      "           Rank POP: [71, 82, 32, 50, 35, 9, 81, 45, 51]\n",
      "           Rank POI: [71, 82, 50, 81, 35, 9, 70, 68, 51]\n",
      "[32, 9, 2, 63, 68, 81, 27] #128 ->\n",
      "           Rank POP: [32, 71, 82, 50, 35, 9, 27]\n",
      "           Rank POI: [32, 71, 82, 35, 50, 9, 27]\n",
      "[50, 62, 76, 41] #129 ->\n",
      "           Rank POP: [50, 71, 82, 41]\n",
      "           Rank POI: [50, 71, 82, 41]\n",
      "[27, 71, 82] #130 ->\n",
      "           Rank POP: [27, 71, 82]\n",
      "           Rank POI: [27, 71, 82]\n",
      "[26, 81, 45] #131 ->\n",
      "           Rank POP: [26, 71, 45]\n",
      "           Rank POI: [26, 58, 45]\n",
      "[18, 35, 32] #132 ->\n",
      "           Rank POP: [18, 71, 32]\n",
      "           Rank POI: [18, 71, 32]\n",
      "[16, 84, 35, 32] #133 ->\n",
      "           Rank POP: [16, 71, 82, 32]\n",
      "           Rank POI: [16, 84, 71, 32]\n",
      "[50, 71, 2] #134 ->\n",
      "           Rank POP: [50, 71, 2]\n",
      "           Rank POI: [50, 71, 2]\n",
      "[23, 32, 35, 50, 70] #135 ->\n",
      "           Rank POP: [23, 71, 82, 32, 70]\n",
      "           Rank POI: [23, 71, 82, 50, 70]\n",
      "[35, 13, 17, 8, 14, 51, 39, 78, 57, 85, 1, 27, 25, 71] #136 ->\n",
      "           Rank POP: [35, 82, 32, 50, 9, 81, 45, 41, 26, 84, 22, 31, 15, 71]\n",
      "           Rank POI: [35, 82, 50, 81, 9, 32, 70, 45, 44, 15, 13, 68, 17, 71]\n",
      "[84, 41, 22, 9, 49, 67, 81] #137 ->\n",
      "           Rank POP: [84, 71, 82, 32, 50, 35, 81]\n",
      "           Rank POI: [84, 71, 82, 50, 32, 35, 81]\n",
      "[40, 70, 50] #138 ->\n",
      "           Rank POP: [40, 71, 50]\n",
      "           Rank POI: [40, 71, 50]\n",
      "[9, 41, 46] #139 ->\n",
      "           Rank POP: [9, 71, 46]\n",
      "           Rank POI: [9, 71, 46]\n",
      "[71, 32, 45, 25] #140 ->\n",
      "           Rank POP: [71, 82, 32, 25]\n",
      "           Rank POI: [71, 82, 50, 25]\n",
      "[35, 70, 50] #141 ->\n",
      "           Rank POP: [35, 71, 50]\n",
      "           Rank POI: [35, 71, 50]\n",
      "[35, 40, 8] #142 ->\n",
      "           Rank POP: [35, 71, 8]\n",
      "           Rank POI: [35, 71, 8]\n",
      "[14, 35, 40] #143 ->\n",
      "           Rank POP: [14, 71, 40]\n",
      "           Rank POI: [14, 71, 40]\n",
      "[35, 39, 40] #144 ->\n",
      "           Rank POP: [35, 71, 40]\n",
      "           Rank POI: [35, 71, 40]\n",
      "[40, 39, 2, 35, 14] #145 ->\n",
      "           Rank POP: [40, 71, 82, 32, 14]\n",
      "           Rank POI: [40, 71, 82, 35, 14]\n",
      "[70, 50, 13] #146 ->\n",
      "           Rank POP: [70, 71, 13]\n",
      "           Rank POI: [70, 71, 13]\n",
      "[53, 14, 82, 9, 84, 69, 49, 45] #147 ->\n",
      "           Rank POP: [53, 71, 82, 32, 50, 35, 9, 45]\n",
      "           Rank POI: [53, 71, 82, 1, 85, 50, 81, 45]\n",
      "[21, 76, 27] #148 ->\n",
      "           Rank POP: [21, 71, 27]\n",
      "           Rank POI: [21, 71, 27]\n",
      "[81, 44, 0, 25] #149 ->\n",
      "           Rank POP: [81, 71, 82, 25]\n",
      "           Rank POI: [81, 71, 82, 25]\n",
      "[78, 71, 15, 81] #150 ->\n",
      "           Rank POP: [78, 71, 82, 81]\n",
      "           Rank POI: [78, 71, 82, 81]\n",
      "[41, 45, 84] #151 ->\n",
      "           Rank POP: [41, 71, 84]\n",
      "           Rank POI: [41, 32, 84]\n",
      "[35, 41, 32, 50] #152 ->\n",
      "           Rank POP: [35, 71, 82, 50]\n",
      "           Rank POI: [35, 71, 82, 50]\n",
      "[31, 9, 37, 50] #153 ->\n",
      "           Rank POP: [31, 71, 82, 50]\n",
      "           Rank POI: [31, 71, 82, 50]\n",
      "[71, 82, 45] #154 ->\n",
      "           Rank POP: [71, 82, 45]\n",
      "           Rank POI: [71, 82, 45]\n",
      "[5, 45, 50, 82, 14, 8, 23, 9, 32, 71, 81, 44, 25, 70, 27] #155 ->\n",
      "           Rank POP: [5, 71, 82, 32, 50, 35, 9, 81, 45, 41, 26, 84, 22, 31, 27]\n",
      "           Rank POI: [5, 71, 82, 45, 46, 25, 81, 50, 35, 44, 85, 31, 0, 9, 27]\n",
      "[41, 84, 32, 21] #156 ->\n",
      "           Rank POP: [41, 71, 82, 21]\n",
      "           Rank POI: [41, 84, 32, 21]\n",
      "[51, 72, 69, 48, 3, 24, 41, 35, 70, 50, 71, 81, 25, 45, 44, 0, 31, 43] #157 ->\n",
      "           Rank POP: [51, 71, 82, 32, 50, 35, 9, 81, 45, 41, 26, 84, 22, 15, 31, 48, 25, 43]\n",
      "           Rank POI: [51, 71, 82, 50, 81, 35, 45, 44, 9, 40, 2, 68, 31, 70, 39, 15, 32, 43]\n",
      "[2, 40, 75, 34, 49, 71, 35] #158 ->\n",
      "           Rank POP: [2, 71, 82, 32, 50, 9, 35]\n",
      "           Rank POI: [2, 71, 82, 50, 9, 81, 35]\n",
      "[32, 42, 9] #159 ->\n",
      "           Rank POP: [32, 71, 9]\n",
      "           Rank POI: [32, 71, 9]\n",
      "[32, 39, 70] #160 ->\n",
      "           Rank POP: [32, 71, 70]\n",
      "           Rank POI: [32, 71, 70]\n",
      "[78, 39, 72] #161 ->\n",
      "           Rank POP: [78, 71, 72]\n",
      "           Rank POI: [78, 71, 72]\n",
      "[71, 40, 35, 45] #162 ->\n",
      "           Rank POP: [71, 82, 32, 45]\n",
      "           Rank POI: [71, 82, 81, 45]\n",
      "[84, 9, 23, 32] #163 ->\n",
      "           Rank POP: [84, 71, 82, 32]\n",
      "           Rank POI: [84, 71, 82, 32]\n",
      "[32, 41, 71] #164 ->\n",
      "           Rank POP: [32, 82, 71]\n",
      "           Rank POI: [32, 82, 71]\n",
      "[23, 50, 26] #165 ->\n",
      "           Rank POP: [23, 71, 26]\n",
      "           Rank POI: [23, 71, 26]\n",
      "[32, 40, 51, 71, 81, 22, 41, 4, 36] #166 ->\n",
      "           Rank POP: [32, 71, 82, 50, 35, 9, 81, 45, 36]\n",
      "           Rank POI: [32, 71, 84, 41, 35, 82, 9, 50, 36]\n",
      "[85, 81, 35] #167 ->\n",
      "           Rank POP: [85, 71, 35]\n",
      "           Rank POI: [85, 71, 35]\n",
      "[26, 45, 82, 71] #168 ->\n",
      "           Rank POP: [26, 82, 32, 71]\n",
      "           Rank POI: [26, 58, 66, 71]\n",
      "[9, 50, 71] #169 ->\n",
      "           Rank POP: [9, 82, 71]\n",
      "           Rank POI: [9, 82, 71]\n",
      "[31, 75, 44] #170 ->\n",
      "           Rank POP: [31, 71, 44]\n",
      "           Rank POI: [31, 71, 44]\n",
      "[85, 82, 63] #171 ->\n",
      "           Rank POP: [85, 71, 63]\n",
      "           Rank POI: [85, 71, 63]\n",
      "[44, 82, 22, 15, 81] #172 ->\n",
      "           Rank POP: [44, 71, 82, 32, 81]\n",
      "           Rank POI: [44, 71, 82, 50, 81]\n",
      "[84, 44, 15] #173 ->\n",
      "           Rank POP: [84, 71, 15]\n",
      "           Rank POI: [84, 71, 15]\n",
      "[81, 29, 26] #174 ->\n",
      "           Rank POP: [81, 71, 26]\n",
      "           Rank POI: [81, 71, 26]\n",
      "[45, 13, 50, 35, 8, 18, 9, 70, 71, 31, 25] #175 ->\n",
      "           Rank POP: [45, 71, 82, 32, 50, 35, 9, 81, 41, 26, 25]\n",
      "           Rank POI: [45, 71, 82, 81, 50, 44, 35, 31, 27, 9, 25]\n",
      "[81, 44, 62] #176 ->\n",
      "           Rank POP: [81, 71, 62]\n",
      "           Rank POI: [81, 71, 62]\n",
      "[68, 27, 73, 21] #177 ->\n",
      "           Rank POP: [68, 71, 82, 21]\n",
      "           Rank POI: [68, 71, 82, 21]\n",
      "[23, 85, 32] #178 ->\n",
      "           Rank POP: [23, 71, 32]\n",
      "           Rank POI: [23, 71, 32]\n",
      "[71, 35, 26] #179 ->\n",
      "           Rank POP: [71, 82, 26]\n",
      "           Rank POI: [71, 82, 26]\n",
      "[71, 81, 74] #180 ->\n",
      "           Rank POP: [71, 82, 74]\n",
      "           Rank POI: [71, 82, 74]\n",
      "[44, 80, 71, 35] #181 ->\n",
      "           Rank POP: [44, 71, 82, 35]\n",
      "           Rank POI: [44, 71, 82, 35]\n",
      "[82, 71, 50, 21, 32, 45, 72] #182 ->\n",
      "           Rank POP: [82, 71, 32, 50, 35, 9, 72]\n",
      "           Rank POI: [82, 71, 81, 50, 35, 9, 72]\n",
      "[19, 55, 68] #183 ->\n",
      "           Rank POP: [19, 71, 68]\n",
      "           Rank POI: [19, 71, 68]\n",
      "[9, 82, 25, 85] #184 ->\n",
      "           Rank POP: [9, 71, 82, 85]\n",
      "           Rank POI: [9, 71, 82, 85]\n",
      "[41, 9, 40] #185 ->\n",
      "           Rank POP: [41, 71, 40]\n",
      "           Rank POI: [41, 71, 40]\n",
      "[26, 82, 81] #186 ->\n",
      "           Rank POP: [26, 71, 81]\n",
      "           Rank POI: [26, 71, 81]\n",
      "[21, 15, 82, 22] #187 ->\n",
      "           Rank POP: [21, 71, 82, 22]\n",
      "           Rank POI: [21, 84, 32, 22]\n",
      "[22, 26, 49] #188 ->\n",
      "           Rank POP: [22, 71, 49]\n",
      "           Rank POI: [22, 71, 49]\n",
      "[71, 81, 17] #189 ->\n",
      "           Rank POP: [71, 82, 17]\n",
      "           Rank POI: [71, 82, 17]\n",
      "[81, 67, 68] #190 ->\n",
      "           Rank POP: [81, 71, 68]\n",
      "           Rank POI: [81, 71, 68]\n",
      "[2, 40, 71] #191 ->\n",
      "           Rank POP: [2, 82, 71]\n",
      "           Rank POI: [2, 82, 71]\n",
      "[41, 9, 2] #192 ->\n",
      "           Rank POP: [41, 71, 2]\n",
      "           Rank POI: [41, 71, 2]\n",
      "[23, 9, 35, 82, 50, 71, 15, 61] #193 ->\n",
      "           Rank POP: [23, 71, 82, 32, 50, 35, 9, 61]\n",
      "           Rank POI: [23, 71, 82, 9, 32, 35, 50, 61]\n",
      "[29, 31, 44] #194 ->\n",
      "           Rank POP: [29, 71, 44]\n",
      "           Rank POI: [29, 71, 44]\n",
      "[71, 50, 82, 17, 15, 13, 42] #195 ->\n",
      "           Rank POP: [71, 82, 32, 50, 35, 9, 42]\n",
      "           Rank POI: [71, 82, 50, 81, 35, 32, 42]\n",
      "[82, 9, 70, 50] #196 ->\n",
      "           Rank POP: [82, 71, 32, 50]\n",
      "           Rank POI: [82, 71, 81, 50]\n",
      "[9, 70, 50] #197 ->\n",
      "           Rank POP: [9, 71, 50]\n",
      "           Rank POI: [9, 71, 50]\n",
      "[49, 81, 68] #198 ->\n",
      "           Rank POP: [49, 71, 68]\n",
      "           Rank POI: [49, 71, 68]\n",
      "[37, 36, 22] #199 ->\n",
      "           Rank POP: [37, 71, 22]\n",
      "           Rank POI: [37, 84, 22]\n",
      "[40, 71, 35, 9] #200 ->\n",
      "           Rank POP: [40, 71, 82, 9]\n",
      "           Rank POI: [40, 71, 35, 9]\n",
      "[48, 1, 53] #201 ->\n",
      "           Rank POP: [48, 71, 53]\n",
      "           Rank POI: [48, 71, 53]\n",
      "[41, 84, 9, 35, 70, 50, 71, 82] #202 ->\n",
      "           Rank POP: [41, 71, 32, 50, 35, 9, 81, 82]\n",
      "           Rank POI: [41, 71, 32, 35, 50, 84, 9, 82]\n",
      "[45, 50, 35, 2, 22, 9, 71, 72, 68, 34, 82] #203 ->\n",
      "           Rank POP: [45, 71, 32, 50, 35, 9, 81, 41, 26, 84, 82]\n",
      "           Rank POI: [45, 71, 50, 81, 44, 35, 15, 31, 9, 0, 82]\n",
      "[35, 9, 22, 41] #204 ->\n",
      "           Rank POP: [35, 71, 82, 41]\n",
      "           Rank POI: [35, 71, 82, 41]\n",
      "[70, 50, 71] #205 ->\n",
      "           Rank POP: [70, 82, 71]\n",
      "           Rank POI: [70, 82, 71]\n",
      "[44, 50, 82] #206 ->\n",
      "           Rank POP: [44, 71, 82]\n",
      "           Rank POI: [44, 71, 82]\n",
      "[31, 75, 81, 32] #207 ->\n",
      "           Rank POP: [31, 71, 82, 32]\n",
      "           Rank POI: [31, 71, 82, 32]\n",
      "[42, 35, 70] #208 ->\n",
      "           Rank POP: [42, 71, 70]\n",
      "           Rank POI: [42, 71, 70]\n",
      "[85, 82, 15] #209 ->\n",
      "           Rank POP: [85, 71, 15]\n",
      "           Rank POI: [85, 71, 15]\n",
      "[41, 81, 45] #210 ->\n",
      "           Rank POP: [41, 71, 45]\n",
      "           Rank POI: [41, 71, 45]\n",
      "[71, 81, 44, 45, 15] #211 ->\n",
      "           Rank POP: [71, 82, 32, 50, 15]\n",
      "           Rank POI: [71, 82, 50, 81, 15]\n",
      "[85, 53, 1, 46, 25] #212 ->\n",
      "           Rank POP: [85, 71, 82, 32, 25]\n",
      "           Rank POI: [85, 71, 82, 45, 25]\n",
      "[81, 44, 45, 29, 43, 49, 67, 68] #213 ->\n",
      "           Rank POP: [81, 71, 82, 32, 50, 35, 9, 68]\n",
      "           Rank POI: [81, 71, 82, 50, 44, 35, 45, 68]\n",
      "[71, 9, 32, 23, 18, 8] #214 ->\n",
      "           Rank POP: [71, 82, 32, 50, 35, 8]\n",
      "           Rank POI: [71, 82, 50, 81, 35, 8]\n",
      "[1, 70, 39, 2, 40] #215 ->\n",
      "           Rank POP: [1, 71, 82, 32, 40]\n",
      "           Rank POI: [1, 71, 82, 50, 40]\n",
      "[71, 81, 82, 45, 25] #216 ->\n",
      "           Rank POP: [71, 82, 32, 50, 25]\n",
      "           Rank POI: [71, 82, 50, 81, 25]\n",
      "[48, 2, 67] #217 ->\n",
      "           Rank POP: [48, 71, 67]\n",
      "           Rank POI: [48, 71, 67]\n",
      "[82, 32, 35, 50, 23, 9, 40, 2] #218 ->\n",
      "           Rank POP: [82, 71, 32, 50, 35, 9, 81, 2]\n",
      "           Rank POI: [82, 71, 50, 81, 35, 9, 44, 2]\n",
      "[19, 84, 22] #219 ->\n",
      "           Rank POP: [19, 71, 22]\n",
      "           Rank POI: [19, 84, 22]\n",
      "[0, 31, 81] #220 ->\n",
      "           Rank POP: [0, 71, 81]\n",
      "           Rank POI: [0, 71, 81]\n",
      "[82, 66, 58, 25] #221 ->\n",
      "           Rank POP: [82, 71, 32, 25]\n",
      "           Rank POI: [82, 71, 81, 25]\n",
      "[71, 45, 81, 68, 50] #222 ->\n",
      "           Rank POP: [71, 82, 32, 35, 50]\n",
      "           Rank POI: [71, 82, 81, 35, 50]\n",
      "[81, 71, 9] #223 ->\n",
      "           Rank POP: [81, 71, 9]\n",
      "           Rank POI: [81, 71, 9]\n",
      "[38, 19, 35] #224 ->\n",
      "           Rank POP: [38, 71, 35]\n",
      "           Rank POI: [38, 71, 35]\n",
      "[32, 71, 22, 84] #225 ->\n",
      "           Rank POP: [32, 71, 82, 84]\n",
      "           Rank POI: [32, 71, 35, 84]\n",
      "[84, 36, 22] #226 ->\n",
      "           Rank POP: [84, 71, 22]\n",
      "           Rank POI: [84, 32, 22]\n",
      "[39, 50, 2, 41] #227 ->\n",
      "           Rank POP: [39, 71, 82, 41]\n",
      "           Rank POI: [39, 71, 35, 41]\n",
      "[37, 82, 71, 68, 62, 52] #228 ->\n",
      "           Rank POP: [37, 71, 82, 32, 50, 52]\n",
      "           Rank POI: [37, 71, 82, 35, 50, 52]\n",
      "[14, 3, 26] #229 ->\n",
      "           Rank POP: [14, 71, 26]\n",
      "           Rank POI: [14, 71, 26]\n",
      "[16, 82, 18] #230 ->\n",
      "           Rank POP: [16, 71, 18]\n",
      "           Rank POI: [16, 71, 18]\n",
      "[35, 82, 0, 81] #231 ->\n",
      "           Rank POP: [35, 71, 82, 81]\n",
      "           Rank POI: [35, 71, 82, 81]\n",
      "[25, 27, 50, 44, 68] #232 ->\n",
      "           Rank POP: [25, 71, 82, 32, 68]\n",
      "           Rank POI: [25, 71, 82, 81, 68]\n",
      "[14, 13, 71, 9, 39, 40, 2] #233 ->\n",
      "           Rank POP: [14, 71, 82, 32, 50, 35, 2]\n",
      "           Rank POI: [14, 71, 82, 50, 35, 9, 2]\n",
      "[15, 35, 71] #234 ->\n",
      "           Rank POP: [15, 82, 71]\n",
      "           Rank POI: [15, 82, 71]\n",
      "[55, 63, 56] #235 ->\n",
      "           Rank POP: [55, 71, 56]\n",
      "           Rank POI: [55, 71, 56]\n",
      "[51, 42, 73] #236 ->\n",
      "           Rank POP: [51, 71, 73]\n",
      "           Rank POI: [51, 71, 73]\n",
      "[70, 81, 13] #237 ->\n",
      "           Rank POP: [70, 71, 13]\n",
      "           Rank POI: [70, 71, 13]\n",
      "[15, 14, 85] #238 ->\n",
      "           Rank POP: [15, 71, 85]\n",
      "           Rank POI: [15, 71, 85]\n",
      "[40, 39, 51] #239 ->\n",
      "           Rank POP: [40, 71, 51]\n",
      "           Rank POI: [40, 71, 51]\n",
      "[44, 50, 68, 71, 81] #240 ->\n",
      "           Rank POP: [44, 71, 82, 32, 81]\n",
      "           Rank POI: [44, 71, 82, 50, 81]\n",
      "[50, 81, 75] #241 ->\n",
      "           Rank POP: [50, 71, 75]\n",
      "           Rank POI: [50, 71, 75]\n",
      "[21, 45, 49, 76] #242 ->\n",
      "           Rank POP: [21, 71, 82, 76]\n",
      "           Rank POI: [21, 71, 82, 76]\n",
      "[82, 84, 41] #243 ->\n",
      "           Rank POP: [82, 71, 41]\n",
      "           Rank POI: [82, 71, 41]\n",
      "[11, 70, 35, 40, 9] #244 ->\n",
      "           Rank POP: [11, 71, 82, 32, 9]\n",
      "           Rank POI: [11, 71, 82, 32, 9]\n",
      "[71, 68, 52] #245 ->\n",
      "           Rank POP: [71, 82, 52]\n",
      "           Rank POI: [71, 82, 52]\n",
      "[41, 68, 67] #246 ->\n",
      "           Rank POP: [41, 71, 67]\n",
      "           Rank POI: [41, 71, 67]\n",
      "[23, 9, 18] #247 ->\n",
      "           Rank POP: [23, 71, 18]\n",
      "           Rank POI: [23, 71, 18]\n",
      "[57, 68, 82] #248 ->\n",
      "           Rank POP: [57, 71, 82]\n",
      "           Rank POI: [57, 71, 82]\n",
      "[21, 84, 41, 71, 81, 44, 45, 73] #249 ->\n",
      "           Rank POP: [21, 71, 82, 32, 50, 35, 9, 73]\n",
      "           Rank POI: [21, 84, 32, 71, 41, 9, 22, 73]\n",
      "[47, 53, 44, 81, 71, 50, 73] #250 ->\n",
      "           Rank POP: [47, 71, 82, 32, 50, 35, 73]\n",
      "           Rank POI: [47, 1, 85, 32, 84, 71, 73]\n",
      "[39, 78, 41] #251 ->\n",
      "           Rank POP: [39, 71, 41]\n",
      "           Rank POI: [39, 71, 41]\n",
      "[9, 13, 17, 41, 36, 35, 71, 68, 0, 44] #252 ->\n",
      "           Rank POP: [9, 71, 82, 32, 50, 35, 81, 45, 26, 44]\n",
      "           Rank POI: [9, 71, 82, 50, 81, 35, 32, 45, 15, 44]\n",
      "[45, 82, 84, 1, 71, 50, 70, 13, 9] #253 ->\n",
      "           Rank POP: [45, 71, 82, 32, 50, 35, 81, 41, 9]\n",
      "           Rank POI: [45, 71, 82, 50, 81, 35, 44, 32, 9]\n",
      "[71, 50, 82] #254 ->\n",
      "           Rank POP: [71, 32, 82]\n",
      "           Rank POI: [71, 50, 82]\n",
      "[40, 71, 68, 57] #255 ->\n",
      "           Rank POP: [40, 71, 82, 57]\n",
      "           Rank POI: [40, 71, 82, 57]\n",
      "[5, 29, 31, 85, 35] #256 ->\n",
      "           Rank POP: [5, 71, 82, 32, 35]\n",
      "           Rank POI: [5, 71, 82, 50, 35]\n",
      "[35, 84, 26] #257 ->\n",
      "           Rank POP: [35, 71, 26]\n",
      "           Rank POI: [35, 71, 26]\n",
      "[9, 82, 32, 71] #258 ->\n",
      "           Rank POP: [9, 82, 32, 71]\n",
      "           Rank POI: [9, 82, 50, 71]\n",
      "[82, 32, 17] #259 ->\n",
      "           Rank POP: [82, 71, 17]\n",
      "           Rank POI: [82, 71, 17]\n",
      "[69, 82, 3, 2] #260 ->\n",
      "           Rank POP: [69, 71, 82, 2]\n",
      "           Rank POI: [69, 71, 48, 2]\n",
      "[71, 25, 82] #261 ->\n",
      "           Rank POP: [71, 32, 82]\n",
      "           Rank POI: [71, 50, 82]\n",
      "[81, 0, 78] #262 ->\n",
      "           Rank POP: [81, 71, 78]\n",
      "           Rank POI: [81, 71, 78]\n",
      "[82, 71, 70] #263 ->\n",
      "           Rank POP: [82, 71, 70]\n",
      "           Rank POI: [82, 71, 70]\n",
      "[0, 31, 71] #264 ->\n",
      "           Rank POP: [0, 82, 71]\n",
      "           Rank POI: [0, 82, 71]\n",
      "[37, 50, 71, 13, 70, 82] #265 ->\n",
      "           Rank POP: [37, 71, 32, 50, 35, 82]\n",
      "           Rank POI: [37, 71, 35, 32, 50, 82]\n",
      "[9, 35, 71] #266 ->\n",
      "           Rank POP: [9, 82, 71]\n",
      "           Rank POI: [9, 82, 71]\n",
      "[22, 9, 18, 50] #267 ->\n",
      "           Rank POP: [22, 71, 82, 50]\n",
      "           Rank POI: [22, 71, 82, 50]\n",
      "[71, 50, 70] #268 ->\n",
      "           Rank POP: [71, 82, 70]\n",
      "           Rank POI: [71, 82, 70]\n",
      "[9, 32, 18] #269 ->\n",
      "           Rank POP: [9, 71, 18]\n",
      "           Rank POI: [9, 71, 18]\n",
      "[50, 70, 39, 40, 48, 49] #270 ->\n",
      "           Rank POP: [50, 71, 82, 32, 35, 49]\n",
      "           Rank POI: [50, 71, 82, 81, 35, 49]\n",
      "[19, 35, 32] #271 ->\n",
      "           Rank POP: [19, 71, 32]\n",
      "           Rank POI: [19, 84, 32]\n",
      "[32, 14, 68] #272 ->\n",
      "           Rank POP: [32, 71, 68]\n",
      "           Rank POI: [32, 71, 68]\n",
      "[2, 48, 47] #273 ->\n",
      "           Rank POP: [2, 71, 47]\n",
      "           Rank POI: [2, 71, 47]\n",
      "[23, 32, 9] #274 ->\n",
      "           Rank POP: [23, 71, 9]\n",
      "           Rank POI: [23, 71, 9]\n",
      "[81, 0, 31, 82, 50, 71, 70, 35, 32, 4, 41, 21, 40] #275 ->\n",
      "           Rank POP: [81, 71, 82, 32, 50, 35, 9, 45, 26, 41, 84, 22, 40]\n",
      "           Rank POI: [81, 71, 82, 50, 35, 44, 9, 45, 70, 68, 15, 2, 40]\n",
      "[81, 43, 72, 35] #276 ->\n",
      "           Rank POP: [81, 71, 82, 35]\n",
      "           Rank POI: [81, 71, 82, 35]\n",
      "[22, 21, 49] #277 ->\n",
      "           Rank POP: [22, 71, 49]\n",
      "           Rank POI: [22, 71, 49]\n",
      "[35, 70, 17] #278 ->\n",
      "           Rank POP: [35, 71, 17]\n",
      "           Rank POI: [35, 71, 17]\n",
      "[24, 84, 4] #279 ->\n",
      "           Rank POP: [24, 71, 4]\n",
      "           Rank POI: [24, 84, 4]\n",
      "[45, 25, 82, 71, 35] #280 ->\n",
      "           Rank POP: [45, 71, 82, 32, 35]\n",
      "           Rank POI: [45, 71, 82, 50, 35]\n",
      "[17, 8, 85] #281 ->\n",
      "           Rank POP: [17, 71, 85]\n",
      "           Rank POI: [17, 71, 85]\n",
      "[50, 71, 31, 49, 33] #282 ->\n",
      "           Rank POP: [50, 71, 82, 32, 33]\n",
      "           Rank POI: [50, 71, 82, 81, 33]\n",
      "[31, 81, 50] #283 ->\n",
      "           Rank POP: [31, 71, 50]\n",
      "           Rank POI: [31, 71, 50]\n",
      "[44, 0, 71] #284 ->\n",
      "           Rank POP: [44, 82, 71]\n",
      "           Rank POI: [44, 82, 71]\n",
      "[18, 50, 71, 23, 1, 13] #285 ->\n",
      "           Rank POP: [18, 71, 82, 32, 50, 13]\n",
      "           Rank POI: [18, 71, 82, 50, 35, 13]\n",
      "[73, 38, 9, 32] #286 ->\n",
      "           Rank POP: [73, 71, 82, 32]\n",
      "           Rank POI: [73, 71, 84, 32]\n",
      "[45, 82, 71] #287 ->\n",
      "           Rank POP: [45, 82, 71]\n",
      "           Rank POI: [45, 82, 71]\n",
      "[35, 82, 71, 68, 57, 79, 41] #288 ->\n",
      "           Rank POP: [35, 71, 82, 32, 50, 9, 41]\n",
      "           Rank POI: [35, 71, 82, 50, 32, 9, 41]\n",
      "[2, 70, 50, 15, 13, 32, 49] #289 ->\n",
      "           Rank POP: [2, 71, 82, 32, 50, 35, 49]\n",
      "           Rank POI: [2, 71, 82, 81, 50, 35, 49]\n",
      "[81, 44, 45, 25, 46, 72] #290 ->\n",
      "           Rank POP: [81, 71, 82, 32, 50, 72]\n",
      "           Rank POI: [81, 71, 82, 50, 35, 72]\n",
      "[39, 70, 50] #291 ->\n",
      "           Rank POP: [39, 71, 50]\n",
      "           Rank POI: [39, 71, 50]\n",
      "[81, 50, 45] #292 ->\n",
      "           Rank POP: [81, 71, 45]\n",
      "           Rank POI: [81, 71, 45]\n",
      "[25, 27, 81, 71] #293 ->\n",
      "           Rank POP: [25, 82, 32, 71]\n",
      "           Rank POI: [25, 82, 50, 71]\n",
      "[32, 9, 23] #294 ->\n",
      "           Rank POP: [32, 71, 23]\n",
      "           Rank POI: [32, 71, 23]\n",
      "[71, 50, 37] #295 ->\n",
      "           Rank POP: [71, 82, 37]\n",
      "           Rank POI: [71, 82, 37]\n",
      "[23, 82, 74] #296 ->\n",
      "           Rank POP: [23, 71, 74]\n",
      "           Rank POI: [23, 71, 74]\n",
      "[32, 9, 28] #297 ->\n",
      "           Rank POP: [32, 71, 28]\n",
      "           Rank POI: [32, 84, 28]\n",
      "[31, 3, 11] #298 ->\n",
      "           Rank POP: [31, 71, 11]\n",
      "           Rank POI: [31, 71, 11]\n",
      "[9, 8, 13] #299 ->\n",
      "           Rank POP: [9, 71, 13]\n",
      "           Rank POI: [9, 71, 13]\n",
      "[75, 67, 81, 71, 50, 82, 9, 36] #300 ->\n",
      "           Rank POP: [75, 71, 82, 32, 50, 35, 9, 36]\n",
      "           Rank POI: [75, 71, 82, 81, 50, 35, 32, 36]\n",
      "[71, 81, 45, 32, 50] #301 ->\n",
      "           Rank POP: [71, 82, 32, 35, 50]\n",
      "           Rank POI: [71, 82, 81, 35, 50]\n",
      "[71, 82, 81, 45] #302 ->\n",
      "           Rank POP: [71, 82, 32, 45]\n",
      "           Rank POI: [71, 82, 81, 45]\n",
      "[71, 2, 40] #303 ->\n",
      "           Rank POP: [71, 82, 40]\n",
      "           Rank POI: [71, 82, 40]\n",
      "[17, 9, 39, 40, 82] #304 ->\n",
      "           Rank POP: [17, 71, 32, 50, 82]\n",
      "           Rank POI: [17, 71, 50, 35, 82]\n",
      "[71, 69, 48, 84, 41, 19] #305 ->\n",
      "           Rank POP: [71, 82, 32, 50, 35, 19]\n",
      "           Rank POI: [71, 82, 50, 35, 81, 19]\n",
      "[81, 82, 67, 63, 0, 44] #306 ->\n",
      "           Rank POP: [81, 71, 82, 32, 50, 44]\n",
      "           Rank POI: [81, 71, 82, 50, 45, 44]\n",
      "[63, 55, 56] #307 ->\n",
      "           Rank POP: [63, 71, 56]\n",
      "           Rank POI: [63, 71, 56]\n",
      "[84, 68, 25, 82, 71] #308 ->\n",
      "           Rank POP: [84, 82, 32, 50, 71]\n",
      "           Rank POI: [84, 82, 50, 32, 71]\n",
      "[40, 11, 48, 2] #309 ->\n",
      "           Rank POP: [40, 71, 82, 2]\n",
      "           Rank POI: [40, 71, 35, 2]\n",
      "[9, 22, 41] #310 ->\n",
      "           Rank POP: [9, 71, 41]\n",
      "           Rank POI: [9, 71, 41]\n",
      "[75, 43, 49, 31, 81, 82] #311 ->\n",
      "           Rank POP: [75, 71, 32, 50, 35, 82]\n",
      "           Rank POI: [75, 71, 81, 50, 35, 82]\n",
      "[31, 82, 71] #312 ->\n",
      "           Rank POP: [31, 82, 71]\n",
      "           Rank POI: [31, 82, 71]\n",
      "[0, 31, 22] #313 ->\n",
      "           Rank POP: [0, 71, 22]\n",
      "           Rank POI: [0, 71, 22]\n",
      "[9, 22, 81] #314 ->\n",
      "           Rank POP: [9, 71, 81]\n",
      "           Rank POI: [9, 71, 81]\n",
      "[71, 82, 50, 70, 35] #315 ->\n",
      "           Rank POP: [71, 82, 32, 50, 35]\n",
      "           Rank POI: [71, 82, 50, 81, 35]\n",
      "[32, 31, 23, 18, 35] #316 ->\n",
      "           Rank POP: [32, 71, 82, 50, 35]\n",
      "           Rank POI: [32, 71, 82, 50, 35]\n",
      "[14, 17, 13, 35, 81, 71, 44, 31, 50, 15] #317 ->\n",
      "           Rank POP: [14, 71, 82, 32, 50, 35, 9, 81, 45, 15]\n",
      "           Rank POI: [14, 71, 82, 50, 35, 81, 9, 45, 32, 15]\n",
      "[14, 50, 71, 81, 82] #318 ->\n",
      "           Rank POP: [14, 71, 32, 50, 82]\n",
      "           Rank POI: [14, 71, 50, 35, 82]\n",
      "[50, 35, 40, 2, 51] #319 ->\n",
      "           Rank POP: [50, 71, 82, 32, 51]\n",
      "           Rank POI: [50, 71, 82, 35, 51]\n",
      "[85, 46, 44] #320 ->\n",
      "           Rank POP: [85, 71, 44]\n",
      "           Rank POI: [85, 71, 44]\n",
      "[84, 9, 35, 70, 15, 17] #321 ->\n",
      "           Rank POP: [84, 71, 82, 32, 50, 17]\n",
      "           Rank POI: [84, 71, 82, 32, 50, 17]\n",
      "[56, 63, 55] #322 ->\n",
      "           Rank POP: [56, 71, 55]\n",
      "           Rank POI: [56, 71, 55]\n",
      "[9, 35, 44, 75] #323 ->\n",
      "           Rank POP: [9, 71, 82, 75]\n",
      "           Rank POI: [9, 71, 82, 75]\n",
      "[35, 50, 82, 41] #324 ->\n",
      "           Rank POP: [35, 71, 82, 41]\n",
      "           Rank POI: [35, 71, 82, 41]\n",
      "[31, 25, 16] #325 ->\n",
      "           Rank POP: [31, 71, 16]\n",
      "           Rank POI: [31, 71, 16]\n",
      "[70, 0, 4] #326 ->\n",
      "           Rank POP: [70, 71, 4]\n",
      "           Rank POI: [70, 71, 4]\n",
      "[82, 50, 71] #327 ->\n",
      "           Rank POP: [82, 32, 71]\n",
      "           Rank POI: [82, 81, 71]\n",
      "[31, 85, 27, 25, 36] #328 ->\n",
      "           Rank POP: [31, 71, 82, 32, 36]\n",
      "           Rank POI: [31, 71, 82, 81, 36]\n",
      "[3, 71, 48] #329 ->\n",
      "           Rank POP: [3, 71, 48]\n",
      "           Rank POI: [3, 84, 48]\n",
      "[7, 35, 70, 50] #330 ->\n",
      "           Rank POP: [7, 71, 82, 50]\n",
      "           Rank POI: [7, 71, 82, 50]\n",
      "[27, 42, 38, 22, 41, 37, 9, 23, 8, 32] #331 ->\n",
      "           Rank POP: [27, 71, 82, 50, 35, 9, 81, 45, 26, 32]\n",
      "           Rank POI: [27, 71, 82, 50, 9, 45, 81, 35, 25, 32]\n",
      "[40, 39, 68, 51] #332 ->\n",
      "           Rank POP: [40, 71, 82, 51]\n",
      "           Rank POI: [40, 71, 35, 51]\n",
      "[18, 25, 4] #333 ->\n",
      "           Rank POP: [18, 71, 4]\n",
      "           Rank POI: [18, 71, 4]\n",
      "[4, 25, 18] #334 ->\n",
      "           Rank POP: [4, 71, 18]\n",
      "           Rank POI: [4, 71, 18]\n",
      "[19, 23, 32] #335 ->\n",
      "           Rank POP: [19, 71, 32]\n",
      "           Rank POI: [19, 84, 32]\n",
      "[71, 68, 81] #336 ->\n",
      "           Rank POP: [71, 82, 81]\n",
      "           Rank POI: [71, 82, 81]\n",
      "[23, 82, 71, 22, 3] #337 ->\n",
      "           Rank POP: [23, 71, 82, 32, 3]\n",
      "           Rank POI: [23, 71, 9, 82, 3]\n",
      "[84, 15, 50] #338 ->\n",
      "           Rank POP: [84, 71, 50]\n",
      "           Rank POI: [84, 71, 50]\n",
      "[82, 17, 13] #339 ->\n",
      "           Rank POP: [82, 71, 13]\n",
      "           Rank POI: [82, 71, 13]\n",
      "[45, 15, 82, 71, 35, 70, 50] #340 ->\n",
      "           Rank POP: [45, 71, 82, 32, 35, 9, 50]\n",
      "           Rank POI: [45, 71, 82, 81, 35, 44, 50]\n",
      "[81, 44, 45] #341 ->\n",
      "           Rank POP: [81, 71, 45]\n",
      "           Rank POI: [81, 71, 45]\n",
      "[50, 81, 44] #342 ->\n",
      "           Rank POP: [50, 71, 44]\n",
      "           Rank POI: [50, 71, 44]\n",
      "[82, 35, 71] #343 ->\n",
      "           Rank POP: [82, 32, 71]\n",
      "           Rank POI: [82, 81, 71]\n",
      "[53, 36, 40] #344 ->\n",
      "           Rank POP: [53, 71, 40]\n",
      "           Rank POI: [53, 71, 40]\n",
      "[35, 50, 9] #345 ->\n",
      "           Rank POP: [35, 71, 9]\n",
      "           Rank POI: [35, 71, 9]\n",
      "[71, 43, 49, 81] #346 ->\n",
      "           Rank POP: [71, 82, 32, 81]\n",
      "           Rank POI: [71, 82, 50, 81]\n",
      "[8, 35, 82, 50, 70] #347 ->\n",
      "           Rank POP: [8, 71, 82, 32, 70]\n",
      "           Rank POI: [8, 71, 82, 50, 70]\n",
      "[71, 45, 50] #348 ->\n",
      "           Rank POP: [71, 82, 50]\n",
      "           Rank POI: [71, 82, 50]\n",
      "[41, 32, 19, 73, 51, 35, 50] #349 ->\n",
      "           Rank POP: [41, 71, 82, 32, 35, 9, 50]\n",
      "           Rank POI: [41, 71, 82, 35, 32, 84, 50]\n",
      "[68, 82, 45, 44] #350 ->\n",
      "           Rank POP: [68, 71, 82, 44]\n",
      "           Rank POI: [68, 71, 82, 44]\n",
      "[41, 45, 82, 8] #351 ->\n",
      "           Rank POP: [41, 71, 82, 8]\n",
      "           Rank POI: [41, 71, 32, 8]\n",
      "[45, 0, 44, 25, 31, 81, 82, 71, 50] #352 ->\n",
      "           Rank POP: [45, 71, 82, 32, 35, 9, 81, 41, 50]\n",
      "           Rank POI: [45, 71, 82, 81, 35, 44, 9, 15, 50]\n",
      "[25, 51, 71, 81, 0, 31, 14] #353 ->\n",
      "           Rank POP: [25, 71, 82, 32, 50, 35, 14]\n",
      "           Rank POI: [25, 71, 82, 45, 50, 81, 14]\n",
      "[71, 17, 70, 82] #354 ->\n",
      "           Rank POP: [71, 32, 50, 82]\n",
      "           Rank POI: [71, 50, 81, 82]\n",
      "[71, 22, 3, 14, 81] #355 ->\n",
      "           Rank POP: [71, 82, 32, 50, 81]\n",
      "           Rank POI: [71, 82, 50, 35, 81]\n",
      "[28, 32, 50] #356 ->\n",
      "           Rank POP: [28, 71, 50]\n",
      "           Rank POI: [28, 71, 50]\n",
      "[33, 49, 13, 32] #357 ->\n",
      "           Rank POP: [33, 71, 82, 32]\n",
      "           Rank POI: [33, 71, 82, 32]\n",
      "[31, 32, 71, 51, 46] #358 ->\n",
      "           Rank POP: [31, 71, 82, 32, 46]\n",
      "           Rank POI: [31, 71, 82, 81, 46]\n",
      "[81, 44, 75, 49] #359 ->\n",
      "           Rank POP: [81, 71, 82, 49]\n",
      "           Rank POI: [81, 71, 82, 49]\n",
      "[10, 78, 39, 40, 26] #360 ->\n",
      "           Rank POP: [10, 71, 82, 32, 26]\n",
      "           Rank POI: [10, 76, 71, 12, 26]\n",
      "[32, 85, 31, 26] #361 ->\n",
      "           Rank POP: [32, 71, 82, 26]\n",
      "           Rank POI: [32, 71, 82, 26]\n",
      "[40, 82, 84] #362 ->\n",
      "           Rank POP: [40, 71, 84]\n",
      "           Rank POI: [40, 71, 84]\n",
      "[31, 23, 32, 9] #363 ->\n",
      "           Rank POP: [31, 71, 82, 9]\n",
      "           Rank POI: [31, 71, 82, 9]\n",
      "[31, 37, 81, 35] #364 ->\n",
      "           Rank POP: [31, 71, 82, 35]\n",
      "           Rank POI: [31, 71, 82, 35]\n",
      "[23, 8, 84, 22, 31] #365 ->\n",
      "           Rank POP: [23, 71, 82, 32, 31]\n",
      "           Rank POI: [23, 71, 82, 50, 31]\n",
      "[24, 4, 84, 9, 22, 32, 18, 23, 15, 36] #366 ->\n",
      "           Rank POP: [24, 71, 82, 32, 50, 35, 9, 81, 45, 36]\n",
      "           Rank POI: [24, 84, 41, 32, 71, 22, 48, 9, 82, 36]\n",
      "[48, 51, 32] #367 ->\n",
      "           Rank POP: [48, 71, 32]\n",
      "           Rank POI: [48, 71, 32]\n",
      "[2, 35, 70, 9, 81, 82, 25] #368 ->\n",
      "           Rank POP: [2, 71, 82, 32, 50, 35, 25]\n",
      "           Rank POI: [2, 71, 82, 50, 35, 81, 25]\n",
      "[32, 47, 14, 9, 18, 84, 36, 4] #369 ->\n",
      "           Rank POP: [32, 71, 82, 50, 35, 9, 81, 4]\n",
      "           Rank POI: [32, 71, 84, 41, 35, 82, 9, 4]\n",
      "[37, 24, 10] #370 ->\n",
      "           Rank POP: [37, 71, 10]\n",
      "           Rank POI: [37, 71, 10]\n",
      "[39, 69, 24, 85, 9] #371 ->\n",
      "           Rank POP: [39, 71, 82, 32, 9]\n",
      "           Rank POI: [39, 71, 35, 82, 9]\n",
      "[9, 71, 81] #372 ->\n",
      "           Rank POP: [9, 71, 81]\n",
      "           Rank POI: [9, 71, 81]\n",
      "[1, 47, 27, 81, 44, 45, 82, 13, 17, 0] #373 ->\n",
      "           Rank POP: [1, 71, 82, 32, 50, 35, 9, 81, 45, 0]\n",
      "           Rank POI: [1, 71, 82, 81, 45, 50, 85, 35, 32, 0]\n",
      "[39, 2, 40, 51, 36, 37, 4, 41, 21] #374 ->\n",
      "           Rank POP: [39, 71, 82, 32, 50, 35, 9, 81, 21]\n",
      "           Rank POI: [39, 71, 82, 35, 50, 32, 9, 84, 21]\n",
      "[32, 42, 11] #375 ->\n",
      "           Rank POP: [32, 71, 11]\n",
      "           Rank POI: [32, 71, 11]\n",
      "[32, 71, 42, 11] #376 ->\n",
      "           Rank POP: [32, 71, 82, 11]\n",
      "           Rank POI: [32, 71, 84, 11]\n",
      "[9, 71, 35] #377 ->\n",
      "           Rank POP: [9, 71, 35]\n",
      "           Rank POI: [9, 71, 35]\n",
      "[71, 50, 15, 35, 23, 9, 68, 22, 41, 19, 16] #378 ->\n",
      "           Rank POP: [71, 82, 32, 50, 35, 9, 81, 45, 26, 41, 16]\n",
      "           Rank POI: [71, 82, 50, 35, 81, 32, 9, 84, 70, 45, 16]\n",
      "[17, 13, 50, 70, 2, 40] #379 ->\n",
      "           Rank POP: [17, 71, 82, 32, 50, 40]\n",
      "           Rank POI: [17, 71, 82, 50, 35, 40]\n",
      "[17, 14, 71] #380 ->\n",
      "           Rank POP: [17, 82, 71]\n",
      "           Rank POI: [17, 82, 71]\n",
      "[17, 13, 11] #381 ->\n",
      "           Rank POP: [17, 71, 11]\n",
      "           Rank POI: [17, 71, 11]\n",
      "[18, 13, 17, 32] #382 ->\n",
      "           Rank POP: [18, 71, 82, 32]\n",
      "           Rank POI: [18, 71, 82, 32]\n",
      "[72, 39, 71] #383 ->\n",
      "           Rank POP: [72, 82, 71]\n",
      "           Rank POI: [72, 82, 71]\n",
      "[27, 71, 50, 8] #384 ->\n",
      "           Rank POP: [27, 71, 82, 8]\n",
      "           Rank POI: [27, 71, 82, 8]\n",
      "[82, 81, 28] #385 ->\n",
      "           Rank POP: [82, 71, 28]\n",
      "           Rank POI: [82, 71, 28]\n",
      "[7, 84, 22, 82] #386 ->\n",
      "           Rank POP: [7, 71, 32, 82]\n",
      "           Rank POI: [7, 71, 50, 82]\n",
      "[84, 9, 25] #387 ->\n",
      "           Rank POP: [84, 71, 25]\n",
      "           Rank POI: [84, 71, 25]\n",
      "[73, 4, 3, 26] #388 ->\n",
      "           Rank POP: [73, 71, 82, 26]\n",
      "           Rank POI: [73, 71, 82, 26]\n",
      "[9, 25, 82] #389 ->\n",
      "           Rank POP: [9, 71, 82]\n",
      "           Rank POI: [9, 71, 82]\n",
      "[34, 31, 44, 25] #390 ->\n",
      "           Rank POP: [34, 71, 82, 25]\n",
      "           Rank POI: [34, 71, 82, 25]\n",
      "[36, 41, 22] #391 ->\n",
      "           Rank POP: [36, 71, 22]\n",
      "           Rank POI: [36, 84, 22]\n",
      "[50, 71, 82] #392 ->\n",
      "           Rank POP: [50, 71, 82]\n",
      "           Rank POI: [50, 71, 82]\n",
      "[82, 81, 44, 45, 71, 68, 57, 79, 6, 78, 39, 35, 9, 32, 42] #393 ->\n",
      "           Rank POP: [82, 71, 32, 50, 35, 9, 81, 45, 41, 26, 84, 22, 15, 31, 42]\n",
      "           Rank POI: [82, 71, 50, 81, 35, 32, 9, 45, 84, 15, 44, 70, 13, 14, 42]\n",
      "[32, 38, 85, 80] #394 ->\n",
      "           Rank POP: [32, 71, 82, 80]\n",
      "           Rank POI: [32, 71, 82, 80]\n",
      "[85, 14, 27] #395 ->\n",
      "           Rank POP: [85, 71, 27]\n",
      "           Rank POI: [85, 71, 27]\n",
      "[85, 32, 23, 84] #396 ->\n",
      "           Rank POP: [85, 71, 82, 84]\n",
      "           Rank POI: [85, 32, 71, 84]\n",
      "[0, 31, 71] #397 ->\n",
      "           Rank POP: [0, 82, 71]\n",
      "           Rank POI: [0, 82, 71]\n",
      "[46, 70, 35] #398 ->\n",
      "           Rank POP: [46, 71, 35]\n",
      "           Rank POI: [46, 71, 35]\n",
      "[71, 36, 82, 21, 9, 45] #399 ->\n",
      "           Rank POP: [71, 82, 32, 50, 35, 45]\n",
      "           Rank POI: [71, 82, 81, 50, 35, 45]\n",
      "[1, 53, 85] #400 ->\n",
      "           Rank POP: [1, 71, 85]\n",
      "           Rank POI: [1, 53, 85]\n",
      "[36, 84, 16] #401 ->\n",
      "           Rank POP: [36, 71, 16]\n",
      "           Rank POI: [36, 84, 16]\n",
      "[71, 50, 82] #402 ->\n",
      "           Rank POP: [71, 32, 82]\n",
      "           Rank POI: [71, 50, 82]\n",
      "[50, 81, 82] #403 ->\n",
      "           Rank POP: [50, 71, 82]\n",
      "           Rank POI: [50, 71, 82]\n",
      "[53, 82, 0] #404 ->\n",
      "           Rank POP: [53, 71, 0]\n",
      "           Rank POI: [53, 71, 0]\n",
      "[57, 52, 81, 82] #405 ->\n",
      "           Rank POP: [57, 71, 32, 82]\n",
      "           Rank POI: [57, 71, 50, 82]\n",
      "[13, 35, 21, 16] #406 ->\n",
      "           Rank POP: [13, 71, 82, 16]\n",
      "           Rank POI: [13, 71, 82, 16]\n",
      "[32, 2, 5, 9, 8, 35, 39, 70] #407 ->\n",
      "           Rank POP: [32, 71, 82, 50, 35, 9, 81, 70]\n",
      "           Rank POI: [32, 71, 82, 35, 50, 9, 81, 70]\n",
      "[76, 49, 81, 9] #408 ->\n",
      "           Rank POP: [76, 71, 82, 9]\n",
      "           Rank POI: [76, 71, 82, 9]\n",
      "[19, 32, 8, 13, 0] #409 ->\n",
      "           Rank POP: [19, 71, 82, 32, 0]\n",
      "           Rank POI: [19, 71, 82, 32, 0]\n",
      "[67, 25, 44] #410 ->\n",
      "           Rank POP: [67, 71, 44]\n",
      "           Rank POI: [67, 71, 44]\n",
      "[61, 15, 82, 50, 71, 81, 44, 45, 25, 40, 21] #411 ->\n",
      "           Rank POP: [61, 71, 82, 32, 50, 35, 9, 81, 45, 41, 21]\n",
      "           Rank POI: [61, 47, 1, 84, 85, 32, 53, 71, 80, 82, 21]\n",
      "[16, 84, 41] #412 ->\n",
      "           Rank POP: [16, 71, 41]\n",
      "           Rank POI: [16, 84, 41]\n",
      "[11, 35, 9, 50, 44, 23] #413 ->\n",
      "           Rank POP: [11, 71, 82, 32, 50, 23]\n",
      "           Rank POI: [11, 71, 82, 32, 9, 23]\n",
      "[35, 71, 50, 17, 41] #414 ->\n",
      "           Rank POP: [35, 71, 82, 32, 41]\n",
      "           Rank POI: [35, 71, 82, 50, 41]\n",
      "[48, 19, 14, 27] #415 ->\n",
      "           Rank POP: [48, 71, 82, 27]\n",
      "           Rank POI: [48, 71, 82, 27]\n",
      "[8, 18, 36, 24] #416 ->\n",
      "           Rank POP: [8, 71, 82, 24]\n",
      "           Rank POI: [8, 71, 82, 24]\n",
      "[84, 22, 2] #417 ->\n",
      "           Rank POP: [84, 71, 2]\n",
      "           Rank POI: [84, 71, 2]\n",
      "[50, 82, 81, 67, 63, 35] #418 ->\n",
      "           Rank POP: [50, 71, 82, 32, 9, 35]\n",
      "           Rank POI: [50, 71, 82, 81, 9, 35]\n",
      "[14, 15, 9] #419 ->\n",
      "           Rank POP: [14, 71, 9]\n",
      "           Rank POI: [14, 71, 9]\n",
      "[15, 17, 14, 85, 38] #420 ->\n",
      "           Rank POP: [15, 71, 82, 32, 38]\n",
      "           Rank POI: [15, 71, 82, 50, 38]\n",
      "[69, 48, 3, 4] #421 ->\n",
      "           Rank POP: [69, 71, 82, 4]\n",
      "           Rank POI: [69, 84, 71, 4]\n",
      "[5, 25, 45, 63, 2, 57, 71, 50, 15] #422 ->\n",
      "           Rank POP: [5, 71, 82, 32, 50, 35, 9, 81, 15]\n",
      "           Rank POI: [5, 71, 82, 81, 45, 50, 35, 44, 15]\n",
      "[44, 31, 81] #423 ->\n",
      "           Rank POP: [44, 71, 81]\n",
      "           Rank POI: [44, 71, 81]\n",
      "[32, 50, 71, 70] #424 ->\n",
      "           Rank POP: [32, 71, 82, 70]\n",
      "           Rank POI: [32, 71, 82, 70]\n",
      "[16, 19, 85, 71, 50, 35, 70, 23, 9, 22, 84, 41, 4] #425 ->\n",
      "           Rank POP: [16, 71, 82, 32, 50, 35, 9, 81, 45, 26, 41, 84, 4]\n",
      "           Rank POI: [16, 84, 32, 41, 71, 22, 9, 82, 35, 50, 36, 48, 4]\n",
      "[21, 32, 41, 25, 85, 80, 18, 71, 62] #426 ->\n",
      "           Rank POP: [21, 71, 82, 32, 50, 35, 9, 81, 62]\n",
      "           Rank POI: [21, 71, 82, 50, 32, 35, 84, 9, 62]\n",
      "[50, 17, 13, 71] #427 ->\n",
      "           Rank POP: [50, 82, 32, 71]\n",
      "           Rank POI: [50, 82, 81, 71]\n",
      "[85, 15, 80] #428 ->\n",
      "           Rank POP: [85, 71, 80]\n",
      "           Rank POI: [85, 1, 80]\n",
      "[31, 29, 38] #429 ->\n",
      "           Rank POP: [31, 71, 38]\n",
      "           Rank POI: [31, 71, 38]\n",
      "[50, 82, 71, 81, 84, 41] #430 ->\n",
      "           Rank POP: [50, 71, 82, 32, 35, 41]\n",
      "           Rank POI: [50, 71, 82, 35, 9, 41]\n",
      "[71, 81, 45] #431 ->\n",
      "           Rank POP: [71, 82, 45]\n",
      "           Rank POI: [71, 82, 45]\n",
      "[40, 51, 48, 85, 15, 35] #432 ->\n",
      "           Rank POP: [40, 71, 82, 32, 50, 35]\n",
      "           Rank POI: [40, 71, 82, 50, 9, 35]\n",
      "[13, 70, 15, 10, 81, 82] #433 ->\n",
      "           Rank POP: [13, 71, 32, 50, 35, 82]\n",
      "           Rank POI: [13, 71, 50, 35, 81, 82]\n",
      "[27, 46, 25] #434 ->\n",
      "           Rank POP: [27, 71, 25]\n",
      "           Rank POI: [27, 71, 25]\n",
      "[84, 82, 50] #435 ->\n",
      "           Rank POP: [84, 71, 50]\n",
      "           Rank POI: [84, 71, 50]\n",
      "[39, 45, 0, 49] #436 ->\n",
      "           Rank POP: [39, 71, 82, 49]\n",
      "           Rank POI: [39, 71, 82, 49]\n",
      "[31, 50, 70, 71, 49] #437 ->\n",
      "           Rank POP: [31, 71, 82, 32, 49]\n",
      "           Rank POI: [31, 71, 82, 81, 49]\n",
      "[72, 48, 24] #438 ->\n",
      "           Rank POP: [72, 71, 24]\n",
      "           Rank POI: [72, 71, 24]\n",
      "[19, 16, 4, 24] #439 ->\n",
      "           Rank POP: [19, 71, 82, 24]\n",
      "           Rank POI: [19, 84, 32, 24]\n",
      "[65, 84, 32] #440 ->\n",
      "           Rank POP: [65, 71, 32]\n",
      "           Rank POI: [65, 84, 32]\n",
      "[47, 15, 85] #441 ->\n",
      "           Rank POP: [47, 71, 85]\n",
      "           Rank POI: [47, 1, 85]\n",
      "[32, 53, 47] #442 ->\n",
      "           Rank POP: [32, 71, 47]\n",
      "           Rank POI: [32, 71, 47]\n"
     ]
    }
   ],
   "source": [
    "if run_rank == True:\n",
    "    recdict_rank = dict()\n",
    "    cnt = 1\n",
    "    for i in range(len(trajid_set_all)):\n",
    "        #print(i)\n",
    "        tid = trajid_set_all[i]\n",
    "        te = traj_dict[tid]\n",
    "        \n",
    "        # trajectory is too short\n",
    "        if len(te) < 3: continue   \n",
    "        \n",
    "        trajid_list_train = trajid_set_all[:i] + trajid_set_all[i+1:]\n",
    "        \n",
    "        poi_info = calc_poi_info(trajid_list_train, traj_all, poi_all)\n",
    "        \n",
    "           \n",
    "        # start/end is not in training set\n",
    "        if not (te[0] in poi_info.index and te[-1] in poi_info.index): continue\n",
    "        \n",
    "        print(te, '#%d ->' % cnt); cnt += 1; sys.stdout.flush() #Tobi: till here it works fine\n",
    "        \n",
    "        #recommendation leveraging ranking\n",
    "        train_df = gen_train_df(trajid_list_train, traj_dict, poi_info, poi_clusters=POI_CLUSTERS, \\\n",
    "                                cats=POI_CAT_LIST, clusters=POI_CLUSTER_LIST, n_jobs=N_JOBS)\n",
    "        ranksvm = RankSVM(ranksvm_dir, useLinear=True)\n",
    "        ranksvm.train(train_df, cost=RANKSVM_COST)\n",
    "        test_df = gen_test_df(te[0], te[-1], len(te), poi_info, poi_clusters=POI_CLUSTERS, \\\n",
    "                              cats=POI_CAT_LIST, clusters=POI_CLUSTER_LIST)\n",
    "        rank_df = ranksvm.predict(test_df)\n",
    "\n",
    "        # POI popularity based ranking\n",
    "        poi_info.sort_values(by='popularity', ascending=False, inplace=True)\n",
    "        ranks1 = poi_info.index.tolist()\n",
    "        rank_pop = [te[0]] + [x for x in ranks1 if x not in {te[0], te[-1]}][:len(te)-2] + [te[-1]]\n",
    "\n",
    "        # POI feature based ranking\n",
    "        rank_df.sort_values(by='rank', ascending=False, inplace=True)\n",
    "        ranks2 = rank_df.index.tolist()\n",
    "        rank_feature = [te[0]] + [x for x in ranks2 if x not in {te[0], te[-1]}][:len(te)-2] + [te[-1]]\n",
    "\n",
    "        recdict_rank[tid] = {'REAL':te, 'REC_POP':rank_pop, 'REC_FEATURE':rank_feature}\n",
    "        #print(recdict_rank[tid]) #tobi\n",
    "        print(' '*10, 'Rank POP:', rank_pop);print(' '*10, 'Rank POI:', rank_feature);sys.stdout.flush()"
   ]
  },
  {
   "cell_type": "markdown",
   "metadata": {},
   "source": [
    "Recommend trajectories by leveraging POI-POI transition probabilities."
   ]
  },
  {
   "cell_type": "markdown",
   "source": [
    "#Tobi:\n",
    "-Fehler only in `find_ILP`"
   ],
   "metadata": {
    "collapsed": false,
    "pycharm": {
     "name": "#%% md\n"
    }
   }
  },
  {
   "cell_type": "code",
   "execution_count": 82,
   "outputs": [],
   "source": [
    "run_tran=run_tran"
   ],
   "metadata": {
    "collapsed": false,
    "pycharm": {
     "name": "#%%\n"
    }
   }
  },
  {
   "cell_type": "code",
   "execution_count": 83,
   "metadata": {
    "scrolled": true
   },
   "outputs": [],
   "source": [
    "if run_tran == True:\n",
    "    recdict_tran = dict()\n",
    "    cnt = 1\n",
    "    for i in range(len(trajid_set_all)):\n",
    "        tid = trajid_set_all[i]\n",
    "        te = traj_dict[tid]\n",
    "        \n",
    "        # trajectory is too short\n",
    "        if len(te) < 3: continue\n",
    "            \n",
    "        trajid_list_train = trajid_set_all[:i] + trajid_set_all[i+1:]\n",
    "        \n",
    "        poi_info = calc_poi_info(trajid_list_train, traj_all, poi_all)\n",
    "           \n",
    "        # start/end is not in training set\n",
    "        if not (te[0] in poi_info.index and te[-1] in poi_info.index): continue\n",
    "        \n",
    "        print(te, '#%d ->' % cnt); cnt += 1; sys.stdout.flush()\n",
    "        \n",
    "        # recommendation leveraging transition probabilities\n",
    "        poi_logtransmat = gen_poi_logtransmat(trajid_list_train, set(poi_info.index), traj_dict, poi_info)\n",
    "        edges = poi_logtransmat.copy()\n",
    "\n",
    "        tran_dp = find_viterbi(poi_info.copy(), edges.copy(), te[0], te[-1], len(te))\n",
    "        tran_ilp = find_ILP(poi_info.copy(), edges.copy(), te[0], te[-1], len(te))\n",
    "        recdict_tran[tid] = {'REAL':te, 'REC_DP':tran_dp, 'REC_ILP':tran_ilp}\n",
    "        print(' '*10, 'Tran  DP:', tran_dp); print(' '*10, 'Tran ILP:', tran_ilp); sys.stdout.flush()"
   ]
  },
  {
   "cell_type": "markdown",
   "metadata": {},
   "source": [
    "Recommend trajectories by leveraging both POI ranking and POI-POI transition probabilities."
   ]
  },
  {
   "cell_type": "code",
   "execution_count": 84,
   "outputs": [],
   "source": [
    "run_comb=run_comb"
   ],
   "metadata": {
    "collapsed": false,
    "pycharm": {
     "name": "#%%\n"
    }
   }
  },
  {
   "cell_type": "code",
   "execution_count": 85,
   "metadata": {
    "scrolled": true
   },
   "outputs": [],
   "source": [
    "if run_comb == True:\n",
    "    short_traj_set = list(set(trajid_set_all) - set(PART1) - set(PART2))  # assume NO duplicated trajID\n",
    "    recdict_comb = dict()\n",
    "    cnt = 1\n",
    "    settings = [(PART1.copy(), PART2.copy()), (PART2.copy(), PART1.copy())]\n",
    "    for (validation_set, test_set) in settings:\n",
    "        # use validation set to tune alpha\n",
    "        alpha_cv = cv_choose_alpha(ALPHA_SET, validation_set, short_traj_set)\n",
    "        print('alpha:', alpha_cv)\n",
    "        \n",
    "        # leave-one-out cross validation on test set\n",
    "        # NOTE: validation set as well as short trajectories are included when training\n",
    "        for i in range(len(test_set)):\n",
    "            tid = test_set[i]\n",
    "            te = traj_dict[tid]\n",
    "            assert(len(te) >= 3)\n",
    "            \n",
    "            trajid_list_train = list(short_traj_set) + list(validation_set) + list(test_set[:i]) + list(test_set[i+1:])\n",
    "            poi_info = calc_poi_info(trajid_list_train, traj_all, poi_all)\n",
    "           \n",
    "            # start/end is not in training set\n",
    "            if not (te[0] in poi_info.index and te[-1] in poi_info.index): continue\n",
    "\n",
    "            print(te, '#%d ->' % cnt); cnt += 1; sys.stdout.flush()\n",
    "        \n",
    "            train_df = gen_train_df(trajid_list_train, traj_dict, poi_info, poi_clusters=POI_CLUSTERS, \\\n",
    "                                    cats=POI_CAT_LIST, clusters=POI_CLUSTER_LIST, n_jobs=N_JOBS)\n",
    "            ranksvm = RankSVM(ranksvm_dir, useLinear=True)\n",
    "            ranksvm.train(train_df, cost=RANKSVM_COST)\n",
    "            test_df = gen_test_df(te[0], te[-1], len(te), poi_info, poi_clusters=POI_CLUSTERS, \\\n",
    "                                  cats=POI_CAT_LIST, clusters=POI_CLUSTER_LIST)\n",
    "            rank_df = ranksvm.predict(test_df)\n",
    "            \n",
    "            poi_logtransmat = gen_poi_logtransmat(trajid_list_train, set(poi_info.index), traj_dict, poi_info)\n",
    "            edges = poi_logtransmat.copy()\n",
    "\n",
    "            # recommendation leveraging both ranking and transitions\n",
    "            nodes = rank_df.copy()\n",
    "            nodes['weight'] = np.log10(nodes['probability'])\n",
    "            nodes.drop('probability', axis=1, inplace=True)\n",
    "            comb_dp = find_viterbi(nodes.copy(), edges.copy(), te[0], te[-1],len(te),withNodeWeight=True,alpha=alpha_cv)\n",
    "            comb_ilp = find_ILP(nodes, edges, te[0], te[-1], len(te), withNodeWeight=True, alpha=alpha_cv)\n",
    "\n",
    "            recdict_comb[tid] = {'REAL':te, 'REC_DP':comb_dp, 'REC_ILP':comb_ilp}\n",
    "            print(' '*10, 'Comb  DP:', comb_dp); print(' '*10, 'Comb ILP:', comb_ilp); sys.stdout.flush()"
   ]
  },
  {
   "cell_type": "code",
   "execution_count": 86,
   "metadata": {},
   "outputs": [
    {
     "name": "stdout",
     "output_type": "stream",
     "text": [
      "Rank POP: F1 (0.607, 0.143), pairsF1 (0.303, 0.177)\n",
      "Rank FOI: F1 (0.624, 0.148), pairsF1 (0.325, 0.200)\n"
     ]
    }
   ],
   "source": [
    "if run_rank == True:\n",
    "    F11_rank = []; F12_rank = []; pF11_rank = []; pF12_rank = []\n",
    "    for key in sorted(recdict_rank.keys()):\n",
    "        F11_rank.append(calc_F1(recdict_rank[key]['REAL'], recdict_rank[key]['REC_POP']))\n",
    "        F12_rank.append(calc_F1(recdict_rank[key]['REAL'], recdict_rank[key]['REC_FEATURE']))\n",
    "        pF11_rank.append(calc_pairsF1(recdict_rank[key]['REAL'], recdict_rank[key]['REC_POP']))\n",
    "        pF12_rank.append(calc_pairsF1(recdict_rank[key]['REAL'], recdict_rank[key]['REC_FEATURE']))\n",
    "    print('Rank POP: F1 (%.3f, %.3f), pairsF1 (%.3f, %.3f)' % \\\n",
    "          (np.mean(F11_rank), np.std(F11_rank), np.mean(pF11_rank), np.std(pF11_rank)))\n",
    "    print('Rank FOI: F1 (%.3f, %.3f), pairsF1 (%.3f, %.3f)' % \\\n",
    "          (np.mean(F12_rank), np.std(F12_rank), np.mean(pF12_rank), np.std(pF12_rank)))\n",
    "    \n",
    "if run_tran == True:\n",
    "    F11_tran = []; F12_tran = []; pF11_tran = []; pF12_tran = []\n",
    "    for tid in sorted(recdict_tran.keys()):\n",
    "        F11_tran.append(calc_F1(recdict_tran[tid]['REAL'], recdict_tran[tid]['REC_DP']))\n",
    "        F12_tran.append(calc_F1(recdict_tran[tid]['REAL'], recdict_tran[tid]['REC_ILP']))\n",
    "        pF11_tran.append(calc_pairsF1(recdict_tran[tid]['REAL'], recdict_tran[tid]['REC_DP']))\n",
    "        pF12_tran.append(calc_pairsF1(recdict_tran[tid]['REAL'], recdict_tran[tid]['REC_ILP']))\n",
    "    print('Tran  DP: F1 (%.3f, %.3f), pairsF1 (%.3f, %.3f)' % \\\n",
    "          (np.mean(F11_tran), np.std(F11_tran), np.mean(pF11_tran), np.std(pF11_tran)))\n",
    "    print('Tran ILP: F1 (%.3f, %.3f), pairsF1 (%.3f, %.3f)' % \\\n",
    "          (np.mean(F12_tran), np.std(F12_tran), np.mean(pF12_tran), np.std(pF12_tran)))\n",
    "\n",
    "if run_comb == True:\n",
    "    F11_comb = []; F12_comb = []; pF11_comb = []; pF12_comb = []\n",
    "    for tid in sorted(recdict_comb.keys()):\n",
    "        F11_comb.append(calc_F1(recdict_comb[tid]['REAL'], recdict_comb[tid]['REC_DP']))\n",
    "        F12_comb.append(calc_F1(recdict_comb[tid]['REAL'], recdict_comb[tid]['REC_ILP']))\n",
    "        pF11_comb.append(calc_pairsF1(recdict_comb[tid]['REAL'], recdict_comb[tid]['REC_DP']))\n",
    "        pF12_comb.append(calc_pairsF1(recdict_comb[tid]['REAL'], recdict_comb[tid]['REC_ILP']))\n",
    "    print('Comb  DP: F1 (%.3f, %.3f), pairsF1 (%.3f, %.3f)' % \\\n",
    "          (np.mean(F11_comb), np.std(F11_comb), np.mean(pF11_comb), np.std(pF11_comb)))\n",
    "    print('Comb ILP: F1 (%.3f, %.3f), pairsF1 (%.3f, %.3f)' % \\\n",
    "          (np.mean(F12_comb), np.std(F12_comb), np.mean(pF12_comb), np.std(pF12_comb)))"
   ]
  },
  {
   "cell_type": "markdown",
   "metadata": {},
   "source": [
    "Save recommendations."
   ]
  },
  {
   "cell_type": "code",
   "execution_count": 87,
   "metadata": {},
   "outputs": [],
   "source": [
    "if run_rank == True: pickle.dump(recdict_rank, open(frecdict_rank, 'bw'))\n",
    "if run_tran == True: pickle.dump(recdict_tran, open(frecdict_tran, 'bw'))\n",
    "if run_comb == True: pickle.dump(recdict_comb, open(frecdict_comb, 'bw'))"
   ]
  },
  {
   "cell_type": "markdown",
   "metadata": {},
   "source": [
    "# 5. Random Guessing"
   ]
  },
  {
   "cell_type": "markdown",
   "metadata": {},
   "source": [
    "Compare the two approaches of random guessing: combinatorial and experimental."
   ]
  },
  {
   "cell_type": "code",
   "execution_count": 88,
   "metadata": {},
   "outputs": [],
   "source": [
    "from scipy.special  import comb\n",
    "from math import factorial\n",
    "def rand_guess(npoi, length):\n",
    "    assert(length <= npoi)\n",
    "    if length == npoi: return 1\n",
    "    N = npoi - 2\n",
    "    m = length - 2 # number of correct POIs\n",
    "    k = m\n",
    "    expected_F1 = 0\n",
    "    while k >= 0:\n",
    "        F1 = (k + 2) / length\n",
    "        prob = comb(m, k) * comb(N-m, m-k) / comb(N, m)\n",
    "        expected_F1 += prob * F1\n",
    "        k -= 1\n",
    "    return expected_F1"
   ]
  },
  {
   "cell_type": "markdown",
   "metadata": {},
   "source": [
    "Sanity check."
   ]
  },
  {
   "cell_type": "code",
   "execution_count": 89,
   "metadata": {},
   "outputs": [
    {
     "data": {
      "text/plain": "0.5"
     },
     "execution_count": 89,
     "metadata": {},
     "output_type": "execute_result"
    }
   ],
   "source": [
    "rand_guess(20, 5)"
   ]
  },
  {
   "cell_type": "code",
   "execution_count": 90,
   "metadata": {},
   "outputs": [],
   "source": [
    "F1_rand1 = []\n",
    "F1_rand2 = []\n",
    "run_rand=True"
   ]
  },
  {
   "cell_type": "code",
   "execution_count": 91,
   "metadata": {},
   "outputs": [
    {
     "name": "stdout",
     "output_type": "stream",
     "text": [
      "[--------------------------------------------------------------------------------] 100%"
     ]
    }
   ],
   "source": [
    "if run_rand == True:\n",
    "    recdict_rand = dict()\n",
    "    cnt = 1\n",
    "    total0 = traj_all[traj_all['trajLen'] > 2]['trajID'].unique().shape[0]\n",
    "    poi_dict = dict()\n",
    "    for tid in trajid_set_all:\n",
    "        tr = extract_traj(tid, traj_all)\n",
    "        for poi in tr:\n",
    "            if poi in poi_dict: poi_dict[poi] += 1\n",
    "            else: poi_dict[poi] = 1\n",
    "    \n",
    "    for i in range(len(trajid_set_all)):\n",
    "        tid = trajid_set_all[i]\n",
    "        t = extract_traj(tid, traj_all)\n",
    "        \n",
    "        # trajectory is too short\n",
    "        if len(t) < 3: continue\n",
    "            \n",
    "        pois = [x for x in sorted(poi_dict.keys()) if poi_dict[x] > 1]\n",
    "            \n",
    "        # start/end is not in training set\n",
    "        if not (t[0] in pois and t[-1] in pois): continue\n",
    "        \n",
    "        print_progress(cnt, total0); cnt += 1\n",
    "        \n",
    "        F1_rand1.append(rand_guess(len(pois), len(t)))\n",
    "        pois1 = [x for x in pois if x not in {t[0], t[-1]}]\n",
    "        rec_ix = np.random.choice(len(pois1), len(t)-2, replace=False)\n",
    "        rec_rand = [t[0]] + list(np.array(pois1)[rec_ix]) + [t[-1]]\n",
    "        F1_rand2.append(calc_F1(t, rec_rand))\n",
    "        recdict_rand[tid] = {'REAL': t, 'REC_RAND': rec_rand}"
   ]
  },
  {
   "cell_type": "code",
   "execution_count": 92,
   "metadata": {},
   "outputs": [],
   "source": [
    "if run_rand == True:\n",
    "    pickle.dump(recdict_rand, open(frecdict_rand, 'wb'))"
   ]
  },
  {
   "cell_type": "code",
   "execution_count": 93,
   "metadata": {},
   "outputs": [
    {
     "name": "stdout",
     "output_type": "stream",
     "text": [
      "Combinatorial F1: mean=0.537, std=0.142\n",
      "Experimental  F1: mean=0.533, std=0.153\n"
     ]
    }
   ],
   "source": [
    "if run_rand == True:\n",
    "    print('Combinatorial F1: mean=%.3f, std=%.3f' % (np.mean(F1_rand1), np.std(F1_rand1)))\n",
    "    print('Experimental  F1: mean=%.3f, std=%.3f' % (np.mean(F1_rand2), np.std(F1_rand2)))"
   ]
  },
  {
   "cell_type": "code",
   "execution_count": 93,
   "outputs": [],
   "source": [],
   "metadata": {
    "collapsed": false,
    "pycharm": {
     "name": "#%%\n"
    }
   }
  }
 ],
 "metadata": {
  "kernelspec": {
   "display_name": "Python 3 (ipykernel)",
   "language": "python",
   "name": "python3"
  },
  "language_info": {
   "codemirror_mode": {
    "name": "ipython",
    "version": 3
   },
   "file_extension": ".py",
   "mimetype": "text/x-python",
   "name": "python",
   "nbconvert_exporter": "python",
   "pygments_lexer": "ipython3",
   "version": "3.8.10"
  }
 },
 "nbformat": 4,
 "nbformat_minor": 1
}